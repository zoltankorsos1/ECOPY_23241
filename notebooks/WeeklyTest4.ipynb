{
 "cells": [
  {
   "cell_type": "markdown",
   "id": "de9d9737616514b8",
   "metadata": {
    "collapsed": false
   },
   "source": [
    "## Az eredményeket mentsd a src/weekly modul-ba weekly_test_4.py néven"
   ]
  },
  {
   "cell_type": "markdown",
   "id": "a9789db8f0fbd7ec",
   "metadata": {
    "collapsed": false
   },
   "source": [
    "#### Használható modulok: pandas, typing, matplotlib, random, src.distributions, src.weekly"
   ]
  },
  {
   "cell_type": "code",
   "execution_count": null,
   "id": "dfea6e648868022e",
   "metadata": {
    "collapsed": false
   },
   "outputs": [],
   "source": [
    "import pandas\n",
    "import pandas as pd\n",
    "from typing import List, Dict\n",
    "import matplotlib\n",
    "import matplotlib.pyplot as plt "
   ]
  },
  {
   "cell_type": "code",
   "execution_count": null,
   "id": "9d26aec7b4e97407",
   "metadata": {
    "collapsed": false
   },
   "outputs": [],
   "source": [
    "\"\"\"\n",
    "1., Olvasd be a data mappa Euro_2012_stats_TEAM.csv nevű fájlját egy dataframe-be. A betöltött adatokat az euro12 alatt tárolja. A következő feladatokban a kiinduló fájlt ne írd felül.\n",
    "\"\"\""
   ]
  },
  {
   "cell_type": "code",
   "execution_count": 3,
   "id": "f1945d927f8109c4",
   "metadata": {
    "collapsed": false,
    "ExecuteTime": {
     "end_time": "2023-10-16T14:12:09.366704Z",
     "start_time": "2023-10-16T14:12:06.180782Z"
    }
   },
   "outputs": [
    {
     "name": "stdout",
     "output_type": "stream",
     "text": [
      "             Team  Goals  Shots on target  Shots off target Shooting Accuracy  \\\n",
      "0         Croatia      4               13                12             51.9%   \n",
      "1  Czech Republic      4               13                18             41.9%   \n",
      "2         Denmark      4               10                10             50.0%   \n",
      "3         England      5               11                18             50.0%   \n",
      "4          France      3               22                24             37.9%   \n",
      "\n",
      "  % Goals-to-shots  Total shots (inc. Blocked)  Hit Woodwork  Penalty goals  \\\n",
      "0            16.0%                          32             0              0   \n",
      "1            12.9%                          39             0              0   \n",
      "2            20.0%                          27             1              0   \n",
      "3            17.2%                          40             0              0   \n",
      "4             6.5%                          65             1              0   \n",
      "\n",
      "   Penalties not scored  ...  Saves made  Saves-to-shots ratio  Fouls Won  \\\n",
      "0                     0  ...          13                 81.3%         41   \n",
      "1                     0  ...           9                 60.1%         53   \n",
      "2                     0  ...          10                 66.7%         25   \n",
      "3                     0  ...          22                 88.1%         43   \n",
      "4                     0  ...           6                 54.6%         36   \n",
      "\n",
      "  Fouls Conceded  Offsides  Yellow Cards  Red Cards  Subs on  Subs off  \\\n",
      "0             62         2             9          0        9         9   \n",
      "1             73         8             7          0       11        11   \n",
      "2             38         8             4          0        7         7   \n",
      "3             45         6             5          0       11        11   \n",
      "4             51         5             6          0       11        11   \n",
      "\n",
      "   Players Used  \n",
      "0            16  \n",
      "1            19  \n",
      "2            15  \n",
      "3            16  \n",
      "4            19  \n",
      "\n",
      "[5 rows x 35 columns]\n"
     ]
    }
   ],
   "source": [
    "import pandas as pd\n",
    "\n",
    "euro12 = pd.read_csv('../data/Euro_2012_stats_TEAM.csv')\n",
    "print (euro12.head())  # Kiírja az első néhány sort a DataFrame-ből\n"
   ]
  },
  {
   "cell_type": "code",
   "execution_count": null,
   "id": "b79c977da040d844",
   "metadata": {
    "collapsed": false
   },
   "outputs": [],
   "source": [
    "\"\"\"\n",
    "2., Készíts egy függvényt, ami megmondja, hogy hány csapat indult az Európa Bajnokságon\n",
    "\n",
    "függvény név: number_of_participants\n",
    "bemenet: input_df\n",
    "kimeneti típus: int\n",
    "\"\"\""
   ]
  },
  {
   "cell_type": "markdown",
   "id": "c304a64416ee9b65",
   "metadata": {
    "collapsed": false
   },
   "source": []
  },
  {
   "cell_type": "code",
   "execution_count": 4,
   "id": "505baa2089524304",
   "metadata": {
    "collapsed": false,
    "ExecuteTime": {
     "end_time": "2023-10-16T14:12:25.447053Z",
     "start_time": "2023-10-16T14:12:25.301494Z"
    }
   },
   "outputs": [],
   "source": [
    "def number_of_participants(input_df):\n",
    "    # Megszámoljuk a sorokat a DataFrame-ben, ami megadja a résztvevő csapatok számát\n",
    "    num_participants = len(input_df)\n",
    "    return num_participants\n"
   ]
  },
  {
   "cell_type": "code",
   "execution_count": 5,
   "id": "9d190eb6f3a482b6",
   "metadata": {
    "collapsed": false,
    "ExecuteTime": {
     "end_time": "2023-10-16T14:12:25.453119Z",
     "start_time": "2023-10-16T14:12:25.319240Z"
    }
   },
   "outputs": [
    {
     "name": "stdout",
     "output_type": "stream",
     "text": [
      "Az Európa-bajnokságon részt vevő csapatok száma: 16\n"
     ]
    }
   ],
   "source": [
    "# Tesztelés\n",
    "num_teams = number_of_participants(euro12)  # Itt feltételezzük, hogy az 'euro12' a beolvasott DataFrame\n",
    "print(\"Az Európa-bajnokságon részt vevő csapatok száma:\", num_teams)"
   ]
  },
  {
   "cell_type": "code",
   "execution_count": null,
   "id": "dd10fafbf699543d",
   "metadata": {
    "collapsed": false
   },
   "outputs": [],
   "source": [
    "\"\"\"\n",
    "3., Készíts egy függvényt, ami visszadja a csapatokat és az áltatuk lőtt gólokat.\n",
    "\n",
    "függvény név: goals\n",
    "bemenet: input_df\n",
    "kimeneti típus: pandas.core.frame.DataFrame\n",
    "\"\"\""
   ]
  },
  {
   "cell_type": "code",
   "execution_count": 8,
   "id": "a58cb336d2bac95d",
   "metadata": {
    "collapsed": false,
    "ExecuteTime": {
     "end_time": "2023-10-16T14:13:04.002645Z",
     "start_time": "2023-10-16T14:13:03.880473Z"
    }
   },
   "outputs": [],
   "source": [
    "import pandas as pd\n",
    "\n",
    "def goals(input_df):\n",
    "    # Ellenőrizzük, hogy az 'input_df' nevű DataFrame tartalmazza-e a 'Team' és 'Goals' oszlopokat.\n",
    "    if 'Team' in input_df.columns and 'Goals' in input_df.columns:\n",
    "        # Kiválasztjuk csak a 'Team' és 'Goals' oszlopokat, majd visszaadjuk egy új DataFrame-ben.\n",
    "        selected_columns = input_df[['Team', 'Goals']]\n",
    "        return selected_columns\n",
    "    else:\n",
    "        return pd.DataFrame()  # Ha nincsenek megfelelő oszlopok, üres DataFrame-et adunk vissza.\n"
   ]
  },
  {
   "cell_type": "code",
   "execution_count": 9,
   "id": "47f914b529be356b",
   "metadata": {
    "collapsed": false,
    "ExecuteTime": {
     "end_time": "2023-10-16T14:13:04.050392Z",
     "start_time": "2023-10-16T14:13:03.897578Z"
    }
   },
   "outputs": [
    {
     "name": "stdout",
     "output_type": "stream",
     "text": [
      "                   Team  Goals\n",
      "0               Croatia      4\n",
      "1        Czech Republic      4\n",
      "2               Denmark      4\n",
      "3               England      5\n",
      "4                France      3\n",
      "5               Germany     10\n",
      "6                Greece      5\n",
      "7                 Italy      6\n",
      "8           Netherlands      2\n",
      "9                Poland      2\n",
      "10             Portugal      6\n",
      "11  Republic of Ireland      1\n",
      "12               Russia      5\n",
      "13                Spain     12\n",
      "14               Sweden      5\n",
      "15              Ukraine      2\n"
     ]
    }
   ],
   "source": [
    "# Tesztelés\n",
    "euro12 = pd.read_csv('../data/Euro_2012_stats_TEAM.csv')\n",
    "goal_data = goals(euro12)\n",
    "print(goal_data)\n"
   ]
  },
  {
   "cell_type": "code",
   "execution_count": null,
   "id": "a35053917db8723e",
   "metadata": {
    "collapsed": false
   },
   "outputs": [],
   "source": [
    "\"\"\"\n",
    "4., Készíts egy függvényt, ami sorba rendezi az országokat a lőtt gólok száma alapján csökkenő sorrendben. Használd az előző  függvény eredményét.\n",
    "\n",
    "függvény név: sorted_by_goal\n",
    "bemenet: input_df\n",
    "kimeneti típus: pandas.core.frame.DataFrame\n",
    "\n",
    "\"\"\""
   ]
  },
  {
   "cell_type": "code",
   "execution_count": 12,
   "id": "5c764033a4ca200b",
   "metadata": {
    "collapsed": false,
    "ExecuteTime": {
     "end_time": "2023-10-16T14:13:36.730790Z",
     "start_time": "2023-10-16T14:13:36.628623Z"
    }
   },
   "outputs": [],
   "source": [
    "import pandas as pd\n",
    "\n",
    "def sorted_by_goal(input_df):\n",
    "    goal_data = goals(input_df)\n",
    "    sorted_data = goal_data.sort_values(by='Goals', ascending=False)\n",
    "    \n",
    "    return sorted_data"
   ]
  },
  {
   "cell_type": "code",
   "execution_count": 13,
   "id": "a10e9e934b2a98b8",
   "metadata": {
    "collapsed": false,
    "ExecuteTime": {
     "end_time": "2023-10-16T14:13:36.809910Z",
     "start_time": "2023-10-16T14:13:36.641454Z"
    }
   },
   "outputs": [
    {
     "name": "stdout",
     "output_type": "stream",
     "text": [
      "                   Team  Goals\n",
      "13                Spain     12\n",
      "5               Germany     10\n",
      "7                 Italy      6\n",
      "10             Portugal      6\n",
      "3               England      5\n",
      "6                Greece      5\n",
      "12               Russia      5\n",
      "14               Sweden      5\n",
      "0               Croatia      4\n",
      "1        Czech Republic      4\n",
      "2               Denmark      4\n",
      "4                France      3\n",
      "8           Netherlands      2\n",
      "9                Poland      2\n",
      "15              Ukraine      2\n",
      "11  Republic of Ireland      1\n"
     ]
    }
   ],
   "source": [
    "# Tesztelés\n",
    "euro12 = pd.read_csv('../data/Euro_2012_stats_TEAM.csv')\n",
    "sorted_goals = sorted_by_goal(euro12)\n",
    "print(sorted_goals)"
   ]
  },
  {
   "cell_type": "code",
   "execution_count": null,
   "id": "30fd1aa0c59afb47",
   "metadata": {
    "collapsed": false
   },
   "outputs": [],
   "source": [
    "\"\"\"\n",
    "5., Készíts egy függvényt, ami visszaadja az átlagos gól számot.\n",
    "\n",
    "függvény név: avg_goal\n",
    "bemenet: input_df\n",
    "kimeneti típus: float\n",
    "\n",
    "\"\"\""
   ]
  },
  {
   "cell_type": "code",
   "execution_count": 14,
   "id": "44865d1982f4fe17",
   "metadata": {
    "collapsed": false,
    "ExecuteTime": {
     "end_time": "2023-10-16T14:13:53.008131Z",
     "start_time": "2023-10-16T14:13:52.894457Z"
    }
   },
   "outputs": [],
   "source": [
    "import pandas as pd\n",
    "\n",
    "def avg_goal(input_df):\n",
    "    if 'Goals' in input_df.columns:\n",
    "        total_goals = input_df['Goals'].sum()\n",
    "        num_teams = len(input_df)\n",
    "        avg = total_goals / num_teams\n",
    "        return avg\n",
    "    else:\n",
    "        return 0 \n"
   ]
  },
  {
   "cell_type": "code",
   "execution_count": 15,
   "id": "8d4529f9fc423a7",
   "metadata": {
    "collapsed": false,
    "ExecuteTime": {
     "end_time": "2023-10-16T14:13:53.023518Z",
     "start_time": "2023-10-16T14:13:52.911033Z"
    }
   },
   "outputs": [
    {
     "name": "stdout",
     "output_type": "stream",
     "text": [
      "Az átlagos gól szám az Európa Bajnokságon: 4.75\n"
     ]
    }
   ],
   "source": [
    "# Tesztelés\n",
    "euro12 = pd.read_csv('../data/Euro_2012_stats_TEAM.csv')\n",
    "average_goals = avg_goal(euro12)\n",
    "print(\"Az átlagos gól szám az Európa Bajnokságon:\", average_goals)"
   ]
  },
  {
   "cell_type": "code",
   "execution_count": null,
   "id": "4637c401e0e6352c",
   "metadata": {
    "collapsed": false
   },
   "outputs": [],
   "source": [
    "\"\"\"\n",
    "6., Készíts egy függvényt, ami visszadja azokat az országokat akik 6 vagy több gólt rúgtak\n",
    "\n",
    "függvény név: countries_over_five\n",
    "bement: input_df\n",
    "kimeneti típus: pandas.core.frame.DataFrame\n",
    "\n",
    "\"\"\""
   ]
  },
  {
   "cell_type": "code",
   "execution_count": 54,
   "id": "f1dd81478909c86c",
   "metadata": {
    "collapsed": false,
    "ExecuteTime": {
     "end_time": "2023-10-16T15:25:47.779811Z",
     "start_time": "2023-10-16T15:25:47.696823Z"
    }
   },
   "outputs": [
    {
     "name": "stdout",
     "output_type": "stream",
     "text": [
      "        Team  Goals  Shots on target  Shots off target Shooting Accuracy  \\\n",
      "5    Germany     10               32                32             47.8%   \n",
      "7      Italy      6               34                45             43.0%   \n",
      "10  Portugal      6               22                42             34.3%   \n",
      "13     Spain     12               42                33             55.9%   \n",
      "\n",
      "   % Goals-to-shots  Total shots (inc. Blocked)  Hit Woodwork  Penalty goals  \\\n",
      "5             15.6%                          80             2              1   \n",
      "7              7.5%                         110             2              0   \n",
      "10             9.3%                          82             6              0   \n",
      "13            16.0%                         100             0              1   \n",
      "\n",
      "    Penalties not scored  ...  Saves made  Saves-to-shots ratio  Fouls Won  \\\n",
      "5                      0  ...          10                 62.6%         63   \n",
      "7                      0  ...          20                 74.1%        101   \n",
      "10                     0  ...          10                 71.5%         73   \n",
      "13                     0  ...          15                 93.8%        102   \n",
      "\n",
      "   Fouls Conceded  Offsides  Yellow Cards  Red Cards  Subs on  Subs off  \\\n",
      "5              49        12             4          0       15        15   \n",
      "7              89        16            16          0       18        18   \n",
      "10             90        10            12          0       14        14   \n",
      "13             83        19            11          0       17        17   \n",
      "\n",
      "    Players Used  \n",
      "5             17  \n",
      "7             19  \n",
      "10            16  \n",
      "13            18  \n",
      "\n",
      "[4 rows x 35 columns]\n"
     ]
    }
   ],
   "source": [
    "import pandas as pd\n",
    "\n",
    "def countries_over_five(input_df):\n",
    "    if 'Team' in input_df.columns and 'Goals' in input_df.columns:\n",
    "        filtered_data = input_df[input_df['Goals'] >= 6]\n",
    "        return filtered_data\n",
    "    else:\n",
    "        return pd.DataFrame() \n",
    "# Tesztelés\n",
    "euro12 = pd.read_csv('../data/Euro_2012_stats_TEAM.csv')\n",
    "over_five_goals = countries_over_five(euro12)\n",
    "print(over_five_goals)"
   ]
  },
  {
   "cell_type": "code",
   "execution_count": 55,
   "id": "5c1dc290a99cf46c",
   "metadata": {
    "collapsed": false,
    "ExecuteTime": {
     "end_time": "2023-10-16T15:26:05.097122Z",
     "start_time": "2023-10-16T15:26:05.006199Z"
    }
   },
   "outputs": [
    {
     "name": "stdout",
     "output_type": "stream",
     "text": [
      "        Team  Goals  Shots on target  Shots off target Shooting Accuracy  \\\n",
      "5    Germany     10               32                32             47.8%   \n",
      "7      Italy      6               34                45             43.0%   \n",
      "10  Portugal      6               22                42             34.3%   \n",
      "13     Spain     12               42                33             55.9%   \n",
      "\n",
      "   % Goals-to-shots  Total shots (inc. Blocked)  Hit Woodwork  Penalty goals  \\\n",
      "5             15.6%                          80             2              1   \n",
      "7              7.5%                         110             2              0   \n",
      "10             9.3%                          82             6              0   \n",
      "13            16.0%                         100             0              1   \n",
      "\n",
      "    Penalties not scored  ...  Saves made  Saves-to-shots ratio  Fouls Won  \\\n",
      "5                      0  ...          10                 62.6%         63   \n",
      "7                      0  ...          20                 74.1%        101   \n",
      "10                     0  ...          10                 71.5%         73   \n",
      "13                     0  ...          15                 93.8%        102   \n",
      "\n",
      "   Fouls Conceded  Offsides  Yellow Cards  Red Cards  Subs on  Subs off  \\\n",
      "5              49        12             4          0       15        15   \n",
      "7              89        16            16          0       18        18   \n",
      "10             90        10            12          0       14        14   \n",
      "13             83        19            11          0       17        17   \n",
      "\n",
      "    Players Used  \n",
      "5             17  \n",
      "7             19  \n",
      "10            16  \n",
      "13            18  \n",
      "\n",
      "[4 rows x 35 columns]\n"
     ]
    }
   ],
   "source": [
    "def countries_over_five(input_df):\n",
    "    # Kiválasztjuk azokat az országokat, amelyek 6 vagy több gólt rúgtak\n",
    "    selected_countries = input_df[input_df['Goals'] >= 6]\n",
    "    return selected_countries\n",
    "\n",
    "# Tesztelés\n",
    "countries_with_six_or_more_goals = countries_over_five(euro12)  # Itt használjuk a korábbi 'goals' függvény eredményét\n",
    "print(countries_with_six_or_more_goals)\n"
   ]
  },
  {
   "cell_type": "code",
   "execution_count": null,
   "id": "ff27a788246be43c",
   "metadata": {
    "collapsed": false
   },
   "outputs": [],
   "source": [
    "\"\"\"\n",
    "7., Készíts egy függvényt, ami visszaadja azon országok neveit, amelyek neve 'G'-vel kezdődik\n",
    "\n",
    "fv. neve: countries_starting_with_g\n",
    "bemenet: input_df\n",
    "kimeneti típus: pandas.core.frame.DataFrame\n",
    "\"\"\""
   ]
  },
  {
   "cell_type": "code",
   "execution_count": 18,
   "id": "2ebc475c23f0de6e",
   "metadata": {
    "collapsed": false,
    "ExecuteTime": {
     "end_time": "2023-10-16T14:14:51.715020Z",
     "start_time": "2023-10-16T14:14:51.610284Z"
    }
   },
   "outputs": [],
   "source": [
    "import pandas as pd\n",
    "\n",
    "def countries_starting_with_g(input_df):\n",
    "    if 'Team' in input_df.columns:\n",
    "        filtered_data = input_df[input_df['Team'].str.startswith('G')]\n",
    "        return filtered_data\n",
    "    else:\n",
    "        return pd.DataFrame()  "
   ]
  },
  {
   "cell_type": "code",
   "execution_count": 19,
   "id": "a4eef25889cb8347",
   "metadata": {
    "collapsed": false,
    "ExecuteTime": {
     "end_time": "2023-10-16T14:14:51.771099Z",
     "start_time": "2023-10-16T14:14:51.622546Z"
    }
   },
   "outputs": [
    {
     "name": "stdout",
     "output_type": "stream",
     "text": [
      "      Team  Goals  Shots on target  Shots off target Shooting Accuracy  \\\n",
      "5  Germany     10               32                32             47.8%   \n",
      "6   Greece      5                8                18             30.7%   \n",
      "\n",
      "  % Goals-to-shots  Total shots (inc. Blocked)  Hit Woodwork  Penalty goals  \\\n",
      "5            15.6%                          80             2              1   \n",
      "6            19.2%                          32             1              1   \n",
      "\n",
      "   Penalties not scored  ...  Saves made  Saves-to-shots ratio  Fouls Won  \\\n",
      "5                     0  ...          10                 62.6%         63   \n",
      "6                     1  ...          13                 65.1%         67   \n",
      "\n",
      "  Fouls Conceded  Offsides  Yellow Cards  Red Cards  Subs on  Subs off  \\\n",
      "5             49        12             4          0       15        15   \n",
      "6             48        12             9          1       12        12   \n",
      "\n",
      "   Players Used  \n",
      "5            17  \n",
      "6            20  \n",
      "\n",
      "[2 rows x 35 columns]\n"
     ]
    }
   ],
   "source": [
    "# Tesztelés\n",
    "euro12 = pd.read_csv('../data/Euro_2012_stats_TEAM.csv')\n",
    "starting_with_g = countries_starting_with_g(euro12)\n",
    "print(starting_with_g)"
   ]
  },
  {
   "cell_type": "code",
   "execution_count": null,
   "id": "2293e3b440a8ae85",
   "metadata": {
    "collapsed": false
   },
   "outputs": [],
   "source": [
    "\"\"\"\n",
    "8. Készíts egy függvényt, ami visszaadja az első 7 oszlopot. Használja a kiinduló adatokat\n",
    "\n",
    "fv. név: first_seven_columns\n",
    "bemenet: input_df\n",
    "return típus: pandas.core.frame.DataFrame\n",
    "\n",
    "\"\"\""
   ]
  },
  {
   "cell_type": "code",
   "execution_count": 20,
   "id": "a192f2eebf0bb24d",
   "metadata": {
    "collapsed": false,
    "ExecuteTime": {
     "end_time": "2023-10-16T14:15:19.490606Z",
     "start_time": "2023-10-16T14:15:19.401191Z"
    }
   },
   "outputs": [],
   "source": [
    "import pandas as pd\n",
    "\n",
    "def first_seven_columns(input_df):\n",
    "    if len(input_df.columns) >= 7:\n",
    "        selected_columns = input_df.iloc[:, :7]\n",
    "        return selected_columns\n",
    "    else:\n",
    "        return pd.DataFrame()  # Ha nincs legalább 7 oszlop, üres DataFrame-et adunk vissza."
   ]
  },
  {
   "cell_type": "code",
   "execution_count": 21,
   "id": "dc174ca46e9dea9b",
   "metadata": {
    "collapsed": false,
    "ExecuteTime": {
     "end_time": "2023-10-16T14:15:19.553134Z",
     "start_time": "2023-10-16T14:15:19.413888Z"
    }
   },
   "outputs": [
    {
     "name": "stdout",
     "output_type": "stream",
     "text": [
      "                   Team  Goals  Shots on target  Shots off target  \\\n",
      "0               Croatia      4               13                12   \n",
      "1        Czech Republic      4               13                18   \n",
      "2               Denmark      4               10                10   \n",
      "3               England      5               11                18   \n",
      "4                France      3               22                24   \n",
      "5               Germany     10               32                32   \n",
      "6                Greece      5                8                18   \n",
      "7                 Italy      6               34                45   \n",
      "8           Netherlands      2               12                36   \n",
      "9                Poland      2               15                23   \n",
      "10             Portugal      6               22                42   \n",
      "11  Republic of Ireland      1                7                12   \n",
      "12               Russia      5                9                31   \n",
      "13                Spain     12               42                33   \n",
      "14               Sweden      5               17                19   \n",
      "15              Ukraine      2                7                26   \n",
      "\n",
      "   Shooting Accuracy % Goals-to-shots  Total shots (inc. Blocked)  \n",
      "0              51.9%            16.0%                          32  \n",
      "1              41.9%            12.9%                          39  \n",
      "2              50.0%            20.0%                          27  \n",
      "3              50.0%            17.2%                          40  \n",
      "4              37.9%             6.5%                          65  \n",
      "5              47.8%            15.6%                          80  \n",
      "6              30.7%            19.2%                          32  \n",
      "7              43.0%             7.5%                         110  \n",
      "8              25.0%             4.1%                          60  \n",
      "9              39.4%             5.2%                          48  \n",
      "10             34.3%             9.3%                          82  \n",
      "11             36.8%             5.2%                          28  \n",
      "12             22.5%            12.5%                          59  \n",
      "13             55.9%            16.0%                         100  \n",
      "14             47.2%            13.8%                          39  \n",
      "15             21.2%             6.0%                          38  \n"
     ]
    }
   ],
   "source": [
    "# Tesztelés\n",
    "euro12 = pd.read_csv('../data/Euro_2012_stats_TEAM.csv')\n",
    "first_seven = first_seven_columns(euro12)\n",
    "print(first_seven)"
   ]
  },
  {
   "cell_type": "code",
   "execution_count": null,
   "id": "a9a68b16090a09f7",
   "metadata": {
    "collapsed": false
   },
   "outputs": [],
   "source": [
    "\"\"\"\n",
    "9. Készíts egy függvényt, ami visszaadja az összes oszlopot az utolsó 3-on kívül. Használja a kiinduló adatokat\n",
    "\n",
    "fv. név: every_column_except_last_three\n",
    "bemenet: input_df\n",
    "return típus: pandas.core.frame.DataFrame\n",
    "\n",
    "\"\"\""
   ]
  },
  {
   "cell_type": "code",
   "execution_count": 22,
   "id": "1d0754a3513e5eec",
   "metadata": {
    "collapsed": false,
    "ExecuteTime": {
     "end_time": "2023-10-16T14:15:38.413167Z",
     "start_time": "2023-10-16T14:15:38.298543Z"
    }
   },
   "outputs": [],
   "source": [
    "import pandas as pd\n",
    "\n",
    "def every_column_except_last_three(input_df):\n",
    "    if len(input_df.columns) > 3:\n",
    "        selected_columns = input_df.iloc[:, :-3]\n",
    "        return selected_columns\n",
    "    else:\n",
    "        return pd.DataFrame()  # Ha nincs legalább 3 oszlop, üres DataFrame-et adunk vissza."
   ]
  },
  {
   "cell_type": "code",
   "execution_count": 23,
   "id": "64582e56a87a8160",
   "metadata": {
    "collapsed": false,
    "ExecuteTime": {
     "end_time": "2023-10-16T14:15:38.455499Z",
     "start_time": "2023-10-16T14:15:38.311661Z"
    }
   },
   "outputs": [
    {
     "name": "stdout",
     "output_type": "stream",
     "text": [
      "                   Team  Goals  Shots on target  Shots off target  \\\n",
      "0               Croatia      4               13                12   \n",
      "1        Czech Republic      4               13                18   \n",
      "2               Denmark      4               10                10   \n",
      "3               England      5               11                18   \n",
      "4                France      3               22                24   \n",
      "5               Germany     10               32                32   \n",
      "6                Greece      5                8                18   \n",
      "7                 Italy      6               34                45   \n",
      "8           Netherlands      2               12                36   \n",
      "9                Poland      2               15                23   \n",
      "10             Portugal      6               22                42   \n",
      "11  Republic of Ireland      1                7                12   \n",
      "12               Russia      5                9                31   \n",
      "13                Spain     12               42                33   \n",
      "14               Sweden      5               17                19   \n",
      "15              Ukraine      2                7                26   \n",
      "\n",
      "   Shooting Accuracy % Goals-to-shots  Total shots (inc. Blocked)  \\\n",
      "0              51.9%            16.0%                          32   \n",
      "1              41.9%            12.9%                          39   \n",
      "2              50.0%            20.0%                          27   \n",
      "3              50.0%            17.2%                          40   \n",
      "4              37.9%             6.5%                          65   \n",
      "5              47.8%            15.6%                          80   \n",
      "6              30.7%            19.2%                          32   \n",
      "7              43.0%             7.5%                         110   \n",
      "8              25.0%             4.1%                          60   \n",
      "9              39.4%             5.2%                          48   \n",
      "10             34.3%             9.3%                          82   \n",
      "11             36.8%             5.2%                          28   \n",
      "12             22.5%            12.5%                          59   \n",
      "13             55.9%            16.0%                         100   \n",
      "14             47.2%            13.8%                          39   \n",
      "15             21.2%             6.0%                          38   \n",
      "\n",
      "    Hit Woodwork  Penalty goals  Penalties not scored  ...  Clean Sheets  \\\n",
      "0              0              0                     0  ...             0   \n",
      "1              0              0                     0  ...             1   \n",
      "2              1              0                     0  ...             1   \n",
      "3              0              0                     0  ...             2   \n",
      "4              1              0                     0  ...             1   \n",
      "5              2              1                     0  ...             1   \n",
      "6              1              1                     1  ...             1   \n",
      "7              2              0                     0  ...             2   \n",
      "8              2              0                     0  ...             0   \n",
      "9              0              0                     0  ...             0   \n",
      "10             6              0                     0  ...             2   \n",
      "11             0              0                     0  ...             0   \n",
      "12             2              0                     0  ...             0   \n",
      "13             0              1                     0  ...             5   \n",
      "14             3              0                     0  ...             1   \n",
      "15             0              0                     0  ...             0   \n",
      "\n",
      "    Blocks  Goals conceded Saves made  Saves-to-shots ratio  Fouls Won  \\\n",
      "0       10               3         13                 81.3%         41   \n",
      "1       10               6          9                 60.1%         53   \n",
      "2       10               5         10                 66.7%         25   \n",
      "3       29               3         22                 88.1%         43   \n",
      "4        7               5          6                 54.6%         36   \n",
      "5       11               6         10                 62.6%         63   \n",
      "6       23               7         13                 65.1%         67   \n",
      "7       18               7         20                 74.1%        101   \n",
      "8        9               5         12                 70.6%         35   \n",
      "9        8               3          6                 66.7%         48   \n",
      "10      11               4         10                 71.5%         73   \n",
      "11      23               9         17                 65.4%         43   \n",
      "12       8               3         10                 77.0%         34   \n",
      "13       8               1         15                 93.8%        102   \n",
      "14      12               5          8                 61.6%         35   \n",
      "15       4               4         13                 76.5%         48   \n",
      "\n",
      "    Fouls Conceded  Offsides  Yellow Cards  Red Cards  \n",
      "0               62         2             9          0  \n",
      "1               73         8             7          0  \n",
      "2               38         8             4          0  \n",
      "3               45         6             5          0  \n",
      "4               51         5             6          0  \n",
      "5               49        12             4          0  \n",
      "6               48        12             9          1  \n",
      "7               89        16            16          0  \n",
      "8               30         3             5          0  \n",
      "9               56         3             7          1  \n",
      "10              90        10            12          0  \n",
      "11              51        11             6          1  \n",
      "12              43         4             6          0  \n",
      "13              83        19            11          0  \n",
      "14              51         7             7          0  \n",
      "15              31         4             5          0  \n",
      "\n",
      "[16 rows x 32 columns]\n"
     ]
    }
   ],
   "source": [
    "# Tesztelés\n",
    "euro12 = pd.read_csv('../data/Euro_2012_stats_TEAM.csv')\n",
    "columns_except_last_three = every_column_except_last_three(euro12)\n",
    "print(columns_except_last_three)"
   ]
  },
  {
   "cell_type": "code",
   "execution_count": null,
   "id": "376c202b0fe487aa",
   "metadata": {
    "collapsed": false
   },
   "outputs": [],
   "source": [
    "\"\"\"\n",
    "10. Készíts egy függvényt, amely tetszőleges oszlopokat és sorokat ad vissza a bemeneti adatokból. A sorokat és oszlopokat listák formájában adjuk be a függvénynek. A sorokat egy bemeneti oszlop alapján szűrjük\n",
    "\n",
    "fv. név: sliced_view\n",
    "bemenet: input_df, columns_to_keep, column_to_filter, rows_to_keep\n",
    "return type: pandas.core.frame.DataFrame\n",
    "\n",
    "\"\"\""
   ]
  },
  {
   "cell_type": "code",
   "execution_count": null,
   "outputs": [],
   "source": [],
   "metadata": {
    "collapsed": false
   },
   "id": "b3d58a3942797e6f"
  },
  {
   "cell_type": "code",
   "execution_count": 26,
   "id": "3596668112e27e6",
   "metadata": {
    "collapsed": false,
    "ExecuteTime": {
     "end_time": "2023-10-16T14:16:03.684788Z",
     "start_time": "2023-10-16T14:16:03.567642Z"
    }
   },
   "outputs": [],
   "source": [
    "import pandas as pd\n",
    "\n",
    "def sliced_view(input_df, columns_to_keep, column_to_filter, rows_to_keep):\n",
    "    if all(col in input_df.columns for col in columns_to_keep) and column_to_filter in input_df.columns:\n",
    "        selected_columns = input_df[columns_to_keep]\n",
    "        filtered_rows = input_df[input_df[column_to_filter].isin(rows_to_keep)]\n",
    "        \n",
    "        return selected_columns.merge(filtered_rows, on=columns_to_keep)\n",
    "    else:\n",
    "        return pd.DataFrame() "
   ]
  },
  {
   "cell_type": "code",
   "execution_count": 27,
   "id": "6e731f8b0d4c77ee",
   "metadata": {
    "collapsed": false,
    "ExecuteTime": {
     "end_time": "2023-10-16T14:16:03.700578Z",
     "start_time": "2023-10-16T14:16:03.579357Z"
    }
   },
   "outputs": [
    {
     "name": "stdout",
     "output_type": "stream",
     "text": [
      "      Team  Goals  Shots on target  Shots off target Shooting Accuracy  \\\n",
      "0  Germany     10               32                32             47.8%   \n",
      "1   Greece      5                8                18             30.7%   \n",
      "\n",
      "  % Goals-to-shots  Total shots (inc. Blocked)  Hit Woodwork  Penalty goals  \\\n",
      "0            15.6%                          80             2              1   \n",
      "1            19.2%                          32             1              1   \n",
      "\n",
      "   Penalties not scored  ...  Saves made  Saves-to-shots ratio  Fouls Won  \\\n",
      "0                     0  ...          10                 62.6%         63   \n",
      "1                     1  ...          13                 65.1%         67   \n",
      "\n",
      "  Fouls Conceded  Offsides  Yellow Cards  Red Cards  Subs on  Subs off  \\\n",
      "0             49        12             4          0       15        15   \n",
      "1             48        12             9          1       12        12   \n",
      "\n",
      "   Players Used  \n",
      "0            17  \n",
      "1            20  \n",
      "\n",
      "[2 rows x 35 columns]\n"
     ]
    }
   ],
   "source": [
    "# Tesztelés\n",
    "euro12 = pd.read_csv('../data/Euro_2012_stats_TEAM.csv')\n",
    "result = sliced_view(euro12, ['Team', 'Goals'], 'Team', ['Germany', 'Greece'])\n",
    "print(result)"
   ]
  },
  {
   "cell_type": "code",
   "execution_count": null,
   "id": "47d70863b98e7ae3",
   "metadata": {
    "collapsed": false
   },
   "outputs": [],
   "source": [
    "\"\"\"\n",
    "11. Készíts egy függvényt, ami a bemeneti adatokat kiegészíti egy 'Quartile' oszloppal. A kvartilis oszlop értékeit a lőtt gólok alapján határozza meg:\n",
    "\n",
    "6 - 12: 1\n",
    "5 - 5: 2\n",
    "3 - 4: 3\n",
    "0 - 2: 4\n",
    "\n",
    "fv. név: generate_quartile\n",
    "bemenet: input_df\n",
    "return type: pandas.core.frame.DataFrame\n",
    "\n",
    "\"\"\""
   ]
  },
  {
   "cell_type": "code",
   "execution_count": 28,
   "id": "21d385ae84f4114d",
   "metadata": {
    "collapsed": false,
    "ExecuteTime": {
     "end_time": "2023-10-16T14:16:41.065674Z",
     "start_time": "2023-10-16T14:16:40.962298Z"
    }
   },
   "outputs": [
    {
     "name": "stdout",
     "output_type": "stream",
     "text": [
      "                   Team  Goals  Shots on target  Shots off target  \\\n",
      "0               Croatia      4               13                12   \n",
      "1        Czech Republic      4               13                18   \n",
      "2               Denmark      4               10                10   \n",
      "3               England      5               11                18   \n",
      "4                France      3               22                24   \n",
      "5               Germany     10               32                32   \n",
      "6                Greece      5                8                18   \n",
      "7                 Italy      6               34                45   \n",
      "8           Netherlands      2               12                36   \n",
      "9                Poland      2               15                23   \n",
      "10             Portugal      6               22                42   \n",
      "11  Republic of Ireland      1                7                12   \n",
      "12               Russia      5                9                31   \n",
      "13                Spain     12               42                33   \n",
      "14               Sweden      5               17                19   \n",
      "15              Ukraine      2                7                26   \n",
      "\n",
      "   Shooting Accuracy % Goals-to-shots  Total shots (inc. Blocked)  \\\n",
      "0              51.9%            16.0%                          32   \n",
      "1              41.9%            12.9%                          39   \n",
      "2              50.0%            20.0%                          27   \n",
      "3              50.0%            17.2%                          40   \n",
      "4              37.9%             6.5%                          65   \n",
      "5              47.8%            15.6%                          80   \n",
      "6              30.7%            19.2%                          32   \n",
      "7              43.0%             7.5%                         110   \n",
      "8              25.0%             4.1%                          60   \n",
      "9              39.4%             5.2%                          48   \n",
      "10             34.3%             9.3%                          82   \n",
      "11             36.8%             5.2%                          28   \n",
      "12             22.5%            12.5%                          59   \n",
      "13             55.9%            16.0%                         100   \n",
      "14             47.2%            13.8%                          39   \n",
      "15             21.2%             6.0%                          38   \n",
      "\n",
      "    Hit Woodwork  Penalty goals  Penalties not scored  ...  \\\n",
      "0              0              0                     0  ...   \n",
      "1              0              0                     0  ...   \n",
      "2              1              0                     0  ...   \n",
      "3              0              0                     0  ...   \n",
      "4              1              0                     0  ...   \n",
      "5              2              1                     0  ...   \n",
      "6              1              1                     1  ...   \n",
      "7              2              0                     0  ...   \n",
      "8              2              0                     0  ...   \n",
      "9              0              0                     0  ...   \n",
      "10             6              0                     0  ...   \n",
      "11             0              0                     0  ...   \n",
      "12             2              0                     0  ...   \n",
      "13             0              1                     0  ...   \n",
      "14             3              0                     0  ...   \n",
      "15             0              0                     0  ...   \n",
      "\n",
      "    Saves-to-shots ratio  Fouls Won  Fouls Conceded Offsides  Yellow Cards  \\\n",
      "0                  81.3%         41              62        2             9   \n",
      "1                  60.1%         53              73        8             7   \n",
      "2                  66.7%         25              38        8             4   \n",
      "3                  88.1%         43              45        6             5   \n",
      "4                  54.6%         36              51        5             6   \n",
      "5                  62.6%         63              49       12             4   \n",
      "6                  65.1%         67              48       12             9   \n",
      "7                  74.1%        101              89       16            16   \n",
      "8                  70.6%         35              30        3             5   \n",
      "9                  66.7%         48              56        3             7   \n",
      "10                 71.5%         73              90       10            12   \n",
      "11                 65.4%         43              51       11             6   \n",
      "12                 77.0%         34              43        4             6   \n",
      "13                 93.8%        102              83       19            11   \n",
      "14                 61.6%         35              51        7             7   \n",
      "15                 76.5%         48              31        4             5   \n",
      "\n",
      "    Red Cards  Subs on  Subs off  Players Used  Quartile  \n",
      "0           0        9         9            16         3  \n",
      "1           0       11        11            19         3  \n",
      "2           0        7         7            15         3  \n",
      "3           0       11        11            16         2  \n",
      "4           0       11        11            19         3  \n",
      "5           0       15        15            17         1  \n",
      "6           1       12        12            20         2  \n",
      "7           0       18        18            19         1  \n",
      "8           0        7         7            15         4  \n",
      "9           1        7         7            17         4  \n",
      "10          0       14        14            16         1  \n",
      "11          1       10        10            17         4  \n",
      "12          0        7         7            16         2  \n",
      "13          0       17        17            18         1  \n",
      "14          0        9         9            18         2  \n",
      "15          0        9         9            18         4  \n",
      "\n",
      "[16 rows x 36 columns]\n"
     ]
    }
   ],
   "source": [
    "import pandas as pd\n",
    "\n",
    "def generate_quartile(input_df):\n",
    "    # Ellenőrizzük, hogy az 'input_df' nevű DataFrame tartalmazza-e a 'Goals' oszlopot.\n",
    "    if 'Goals' in input_df.columns:\n",
    "        quartile_mapping = {1: [6, 12], 2: [5, 5], 3: [3, 4], 4: [0, 2]}\n",
    "        quartile_values = []\n",
    "\n",
    "        # Számoljuk ki a kvartilis értékeket minden sorhoz.\n",
    "        for index, row in input_df.iterrows():\n",
    "            goals = row['Goals']\n",
    "            quartile = 4  # Alapértelmezés: 4. kvartilis\n",
    "            for q, range in quartile_mapping.items():\n",
    "                if range[0] <= goals <= range[1]:\n",
    "                    quartile = q\n",
    "                    break\n",
    "            quartile_values.append(quartile)\n",
    "\n",
    "        # Adjuk hozzá a 'Quartile' oszlopot az eredeti DataFrame-hez.\n",
    "        input_df['Quartile'] = quartile_values\n",
    "        return input_df\n",
    "    else:\n",
    "        return pd.DataFrame()  # Ha nincs 'Goals' oszlop, üres DataFrame-et adunk vissza.\n",
    "\n",
    "# Tesztelés\n",
    "euro12 = pd.read_csv('../data/Euro_2012_stats_TEAM.csv')\n",
    "result = generate_quartile(euro12)\n",
    "print(result)"
   ]
  },
  {
   "cell_type": "code",
   "execution_count": 29,
   "id": "3ad4b27111f25648",
   "metadata": {
    "collapsed": false,
    "ExecuteTime": {
     "end_time": "2023-10-16T14:16:50.388599Z",
     "start_time": "2023-10-16T14:16:50.323862Z"
    }
   },
   "outputs": [
    {
     "name": "stdout",
     "output_type": "stream",
     "text": [
      "                   Team  Goals  Shots on target  Shots off target  \\\n",
      "0               Croatia      4               13                12   \n",
      "1        Czech Republic      4               13                18   \n",
      "2               Denmark      4               10                10   \n",
      "3               England      5               11                18   \n",
      "4                France      3               22                24   \n",
      "5               Germany     10               32                32   \n",
      "6                Greece      5                8                18   \n",
      "7                 Italy      6               34                45   \n",
      "8           Netherlands      2               12                36   \n",
      "9                Poland      2               15                23   \n",
      "10             Portugal      6               22                42   \n",
      "11  Republic of Ireland      1                7                12   \n",
      "12               Russia      5                9                31   \n",
      "13                Spain     12               42                33   \n",
      "14               Sweden      5               17                19   \n",
      "15              Ukraine      2                7                26   \n",
      "\n",
      "   Shooting Accuracy % Goals-to-shots  Total shots (inc. Blocked)  \\\n",
      "0              51.9%            16.0%                          32   \n",
      "1              41.9%            12.9%                          39   \n",
      "2              50.0%            20.0%                          27   \n",
      "3              50.0%            17.2%                          40   \n",
      "4              37.9%             6.5%                          65   \n",
      "5              47.8%            15.6%                          80   \n",
      "6              30.7%            19.2%                          32   \n",
      "7              43.0%             7.5%                         110   \n",
      "8              25.0%             4.1%                          60   \n",
      "9              39.4%             5.2%                          48   \n",
      "10             34.3%             9.3%                          82   \n",
      "11             36.8%             5.2%                          28   \n",
      "12             22.5%            12.5%                          59   \n",
      "13             55.9%            16.0%                         100   \n",
      "14             47.2%            13.8%                          39   \n",
      "15             21.2%             6.0%                          38   \n",
      "\n",
      "    Hit Woodwork  Penalty goals  Penalties not scored  ...  \\\n",
      "0              0              0                     0  ...   \n",
      "1              0              0                     0  ...   \n",
      "2              1              0                     0  ...   \n",
      "3              0              0                     0  ...   \n",
      "4              1              0                     0  ...   \n",
      "5              2              1                     0  ...   \n",
      "6              1              1                     1  ...   \n",
      "7              2              0                     0  ...   \n",
      "8              2              0                     0  ...   \n",
      "9              0              0                     0  ...   \n",
      "10             6              0                     0  ...   \n",
      "11             0              0                     0  ...   \n",
      "12             2              0                     0  ...   \n",
      "13             0              1                     0  ...   \n",
      "14             3              0                     0  ...   \n",
      "15             0              0                     0  ...   \n",
      "\n",
      "    Saves-to-shots ratio  Fouls Won  Fouls Conceded Offsides  Yellow Cards  \\\n",
      "0                  81.3%         41              62        2             9   \n",
      "1                  60.1%         53              73        8             7   \n",
      "2                  66.7%         25              38        8             4   \n",
      "3                  88.1%         43              45        6             5   \n",
      "4                  54.6%         36              51        5             6   \n",
      "5                  62.6%         63              49       12             4   \n",
      "6                  65.1%         67              48       12             9   \n",
      "7                  74.1%        101              89       16            16   \n",
      "8                  70.6%         35              30        3             5   \n",
      "9                  66.7%         48              56        3             7   \n",
      "10                 71.5%         73              90       10            12   \n",
      "11                 65.4%         43              51       11             6   \n",
      "12                 77.0%         34              43        4             6   \n",
      "13                 93.8%        102              83       19            11   \n",
      "14                 61.6%         35              51        7             7   \n",
      "15                 76.5%         48              31        4             5   \n",
      "\n",
      "    Red Cards  Subs on  Subs off  Players Used  Quartile  \n",
      "0           0        9         9            16         3  \n",
      "1           0       11        11            19         3  \n",
      "2           0        7         7            15         3  \n",
      "3           0       11        11            16         2  \n",
      "4           0       11        11            19         3  \n",
      "5           0       15        15            17         1  \n",
      "6           1       12        12            20         2  \n",
      "7           0       18        18            19         1  \n",
      "8           0        7         7            15         4  \n",
      "9           1        7         7            17         4  \n",
      "10          0       14        14            16         1  \n",
      "11          1       10        10            17         4  \n",
      "12          0        7         7            16         2  \n",
      "13          0       17        17            18         1  \n",
      "14          0        9         9            18         2  \n",
      "15          0        9         9            18         4  \n",
      "\n",
      "[16 rows x 36 columns]\n"
     ]
    }
   ],
   "source": [
    "import pandas as pd\n",
    "\n",
    "def generate_quartile(input_df):\n",
    "    # Új 'Quartile' oszlop létrehozása a megfelelő értékekkel\n",
    "    input_df['Quartile'] = pd.cut(input_df['Goals'], [-1, 2, 4, 5, 12], labels=[4, 3, 2, 1])\n",
    "    \n",
    "    return input_df\n",
    "\n",
    "# Tesztelés\n",
    "euro12_with_quartile = generate_quartile(euro12)  # Itt feltételezzük, hogy az 'euro12' a beolvasott DataFrame\n",
    "print(euro12_with_quartile)\n"
   ]
  },
  {
   "cell_type": "code",
   "execution_count": null,
   "id": "bb70c884473a7679",
   "metadata": {
    "collapsed": false
   },
   "outputs": [],
   "source": [
    "\"\"\"\n",
    "12., Készíts egy függvényt, ami minden kvartilis értékhez kiszámítja, hogy átlagosan hány passzot adtak.\n",
    "\n",
    "fn név: average_yellow_in_quartiles\n",
    "bemenet: input_df\n",
    "return type: pandas.core.frame.DataFrame\n",
    "\n",
    "\"\"\""
   ]
  },
  {
   "cell_type": "code",
   "execution_count": 41,
   "id": "dad25f20c5ac3ec6",
   "metadata": {
    "collapsed": false,
    "ExecuteTime": {
     "end_time": "2023-10-16T15:07:48.773224Z",
     "start_time": "2023-10-16T15:07:48.666612Z"
    }
   },
   "outputs": [
    {
     "name": "stdout",
     "output_type": "stream",
     "text": [
      "  Quartile   Passes\n",
      "0        4  1185.50\n",
      "1        3  1501.25\n",
      "2        2  1367.25\n",
      "3        1  2999.50\n"
     ]
    },
    {
     "name": "stderr",
     "output_type": "stream",
     "text": [
      "/var/folders/m5/_bm86n6s0fx1lfrr51l630_c0000gn/T/ipykernel_5737/103634036.py:7: FutureWarning: The default of observed=False is deprecated and will be changed to True in a future version of pandas. Pass observed=False to retain current behavior or observed=True to adopt the future default and silence this warning.\n",
      "  quartile_passes = input_df.groupby('Quartile')['Passes'].mean().reset_index()\n"
     ]
    }
   ],
   "source": [
    "import pandas as pd\n",
    "\n",
    "def average_yellow_in_quartiles(input_df):\n",
    "    # Ellenőrizzük, hogy az 'input_df' nevű DataFrame tartalmazza-e a 'Quartile' és 'Passes' oszlopokat.\n",
    "    if 'Quartile' in input_df.columns and 'Passes' in input_df.columns:\n",
    "        # Csoportosítjuk a DataFrame-et a 'Quartile' oszlop alapján, és kiszámoljuk az átlagos passzokat minden kvartilis csoportban.\n",
    "        quartile_passes = input_df.groupby('Quartile')['Passes'].mean().reset_index()\n",
    "        return quartile_passes\n",
    "    else:\n",
    "        return pd.DataFrame()  # Ha nincsenek megfelelő oszlopok, üres DataFrame-et adunk vissza.\n",
    "\n",
    "# Tesztelés\n",
    "euro12 = pd.read_csv('../data/Euro_2012_stats_TEAM.csv')\n",
    "result = average_yellow_in_quartiles(euro12_with_quartile)\n",
    "print(result)\n",
    "\n",
    "#result ...(euro12_with_quartile)"
   ]
  },
  {
   "cell_type": "code",
   "execution_count": 32,
   "id": "8a8aa5257e5e9f81",
   "metadata": {
    "collapsed": false,
    "ExecuteTime": {
     "end_time": "2023-10-16T14:21:43.168477Z",
     "start_time": "2023-10-16T14:21:43.089143Z"
    }
   },
   "outputs": [
    {
     "name": "stdout",
     "output_type": "stream",
     "text": [
      "  Quartile  Average_Passes\n",
      "0        4         1185.50\n",
      "1        3         1501.25\n",
      "2        2         1367.25\n",
      "3        1         2999.50\n"
     ]
    },
    {
     "name": "stderr",
     "output_type": "stream",
     "text": [
      "/var/folders/m5/_bm86n6s0fx1lfrr51l630_c0000gn/T/ipykernel_5737/154940114.py:5: FutureWarning: The default of observed=False is deprecated and will be changed to True in a future version of pandas. Pass observed=False to retain current behavior or observed=True to adopt the future default and silence this warning.\n",
      "  quartile_avg_passes = input_df.groupby('Quartile')['Passes'].mean().reset_index()\n"
     ]
    }
   ],
   "source": [
    "import pandas as pd\n",
    "\n",
    "def average_yellow_in_quartiles(input_df):\n",
    "    # Csoportosítás a 'Quartile' oszlop alapján és átlagos passzok kiszámítása\n",
    "    quartile_avg_passes = input_df.groupby('Quartile')['Passes'].mean().reset_index()\n",
    "    quartile_avg_passes.columns = ['Quartile', 'Average_Passes']\n",
    "    \n",
    "    return quartile_avg_passes\n",
    "\n",
    "# Tesztelés\n",
    "quartile_avg_passes_df = average_yellow_in_quartiles(euro12_with_quartile)  # Itt feltételezzük, hogy az 'euro12_with_quartile' tartalmazza a 'Quartile' oszlopot\n",
    "print(quartile_avg_passes_df)\n"
   ]
  },
  {
   "cell_type": "code",
   "execution_count": null,
   "id": "1fa60ba13b667576",
   "metadata": {
    "collapsed": false
   },
   "outputs": [],
   "source": [
    "\"\"\"\n",
    "13., Készíts egy függvényt ami minden kvartilis esetén visszadja a blokkok (Blocks) minimális és maximális értékét.\n",
    "\n",
    "fv. név: minmax_block_in_quartile\n",
    "bemenet: input_df\n",
    "return type: pandas.core.frame.DataFrame\n",
    "\"\"\""
   ]
  },
  {
   "cell_type": "code",
   "execution_count": 42,
   "id": "a4166f92696d8f3c",
   "metadata": {
    "collapsed": false,
    "ExecuteTime": {
     "end_time": "2023-10-16T15:09:54.821678Z",
     "start_time": "2023-10-16T15:09:54.730996Z"
    }
   },
   "outputs": [
    {
     "name": "stdout",
     "output_type": "stream",
     "text": [
      "  Quartile  Min_Blocks  Max_Blocks\n",
      "0        4           4          23\n",
      "1        3           7          10\n",
      "2        2           8          29\n",
      "3        1           8          18\n"
     ]
    },
    {
     "name": "stderr",
     "output_type": "stream",
     "text": [
      "/var/folders/m5/_bm86n6s0fx1lfrr51l630_c0000gn/T/ipykernel_5737/2666760016.py:7: FutureWarning: The default of observed=False is deprecated and will be changed to True in a future version of pandas. Pass observed=False to retain current behavior or observed=True to adopt the future default and silence this warning.\n",
      "  quartile_blocks = input_df.groupby('Quartile')['Blocks'].agg([min, max]).reset_index()\n",
      "/var/folders/m5/_bm86n6s0fx1lfrr51l630_c0000gn/T/ipykernel_5737/2666760016.py:7: FutureWarning: The provided callable <built-in function min> is currently using SeriesGroupBy.min. In a future version of pandas, the provided callable will be used directly. To keep current behavior pass the string \"min\" instead.\n",
      "  quartile_blocks = input_df.groupby('Quartile')['Blocks'].agg([min, max]).reset_index()\n",
      "/var/folders/m5/_bm86n6s0fx1lfrr51l630_c0000gn/T/ipykernel_5737/2666760016.py:7: FutureWarning: The provided callable <built-in function max> is currently using SeriesGroupBy.max. In a future version of pandas, the provided callable will be used directly. To keep current behavior pass the string \"max\" instead.\n",
      "  quartile_blocks = input_df.groupby('Quartile')['Blocks'].agg([min, max]).reset_index()\n"
     ]
    }
   ],
   "source": [
    "import pandas as pd\n",
    "\n",
    "def minmax_block_in_quartile(input_df):\n",
    "    # Ellenőrizzük, hogy az 'input_df' nevű DataFrame tartalmazza-e a 'Quartile' és 'Blocks' oszlopokat.\n",
    "    if 'Quartile' in input_df.columns and 'Blocks' in input_df.columns:\n",
    "        # Csoportosítjuk a DataFrame-et a 'Quartile' oszlop alapján, és kiszámoljuk a blokkok minimális és maximális értékét minden kvartilis csoportban.\n",
    "        quartile_blocks = input_df.groupby('Quartile')['Blocks'].agg([min, max]).reset_index()\n",
    "        quartile_blocks.columns = ['Quartile', 'Min_Blocks', 'Max_Blocks']\n",
    "\n",
    "        return quartile_blocks\n",
    "    else:\n",
    "        return pd.DataFrame()  # Ha nincsenek megfelelő oszlopok, üres DataFrame-et adunk vissza.\n",
    "\n",
    "# Tesztelés\n",
    "euro12 = pd.read_csv('../data/Euro_2012_stats_TEAM.csv')\n",
    "result = minmax_block_in_quartile(euro12_with_quartile)\n",
    "print(result)\n"
   ]
  },
  {
   "cell_type": "code",
   "execution_count": 35,
   "id": "accb935cb089b427",
   "metadata": {
    "collapsed": false,
    "ExecuteTime": {
     "end_time": "2023-10-16T14:25:13.519544Z",
     "start_time": "2023-10-16T14:25:13.423849Z"
    }
   },
   "outputs": [
    {
     "name": "stdout",
     "output_type": "stream",
     "text": [
      "  Quartile  Min_Blocks  Max_Blocks\n",
      "0        4           4          23\n",
      "1        3           7          10\n",
      "2        2           8          29\n",
      "3        1           8          18\n"
     ]
    },
    {
     "name": "stderr",
     "output_type": "stream",
     "text": [
      "/var/folders/m5/_bm86n6s0fx1lfrr51l630_c0000gn/T/ipykernel_5737/2433060882.py:5: FutureWarning: The default of observed=False is deprecated and will be changed to True in a future version of pandas. Pass observed=False to retain current behavior or observed=True to adopt the future default and silence this warning.\n",
      "  quartile_minmax_blocks = input_df.groupby('Quartile')['Blocks'].agg(['min', 'max']).reset_index()\n"
     ]
    }
   ],
   "source": [
    "import pandas as pd\n",
    "\n",
    "def minmax_block_in_quartile(input_df):\n",
    "    # Csoportosítás a 'Quartile' oszlop alapján és blokkok minimális és maximális értékének kiszámítása\n",
    "    quartile_minmax_blocks = input_df.groupby('Quartile')['Blocks'].agg(['min', 'max']).reset_index()\n",
    "    quartile_minmax_blocks.columns = ['Quartile', 'Min_Blocks', 'Max_Blocks']\n",
    "    \n",
    "    return quartile_minmax_blocks\n",
    "\n",
    "# Tesztelés\n",
    "quartile_minmax_blocks_df = minmax_block_in_quartile(euro12_with_quartile)  # Itt feltételezzük, hogy az 'euro12_with_quartile' tartalmazza a 'Quartile' és 'Blocks' oszlopokat\n",
    "print(quartile_minmax_blocks_df)\n"
   ]
  },
  {
   "cell_type": "code",
   "execution_count": null,
   "id": "31b60fe10110736b",
   "metadata": {
    "collapsed": false
   },
   "outputs": [],
   "source": [
    "\"\"\"\n",
    "14., Készíts egy függvényt, ami scatter_plot-on ábrázolja a gólok és a kaput ért találatok kapcsolatát.\n",
    "\n",
    "fv név: scatter_goals_shots\n",
    "bemenet: input_df\n",
    "X tengelyen: Goals\n",
    "y tengelyen: Shots on target\n",
    "title: 'Goals and Shot on target'\n",
    "Tengely feliratok egyezenek meg az oszlop nevekkel\n",
    "\n",
    "return type: matplotlib.figure.Figure\n",
    "\"\"\""
   ]
  },
  {
   "cell_type": "code",
   "execution_count": 43,
   "id": "baecdf0d2d7f6fc3",
   "metadata": {
    "collapsed": false,
    "ExecuteTime": {
     "end_time": "2023-10-16T15:10:29.996910Z",
     "start_time": "2023-10-16T15:10:25.839150Z"
    }
   },
   "outputs": [
    {
     "data": {
      "text/plain": "<Figure size 640x480 with 1 Axes>",
      "image/png": "[encoded data removed]"
     },
     "metadata": {},
     "output_type": "display_data"
    }
   ],
   "source": [
    "import matplotlib.pyplot as plt\n",
    "\n",
    "def scatter_goals_shots(input_df):\n",
    "    # Scatter plot létrehozása\n",
    "    fig, ax = plt.subplots()\n",
    "    ax.scatter(input_df['Goals'], input_df['Shots on target'])\n",
    "    \n",
    "    # Tengelyfeliratok beállítása\n",
    "    ax.set_xlabel('Goals')\n",
    "    ax.set_ylabel('Shots on target')\n",
    "    \n",
    "    # Cím beállítása\n",
    "    ax.set_title('Goals and Shot on target')\n",
    "    \n",
    "    plt.show()\n",
    "    \n",
    "    return fig\n",
    "\n",
    "# Tesztelés\n",
    "scatter_plot = scatter_goals_shots(euro12)"
   ]
  },
  {
   "cell_type": "code",
   "execution_count": null,
   "id": "d202e423c6fac93d",
   "metadata": {
    "collapsed": false
   },
   "outputs": [],
   "source": [
    "# Tesztelés\n",
    "scatter_plot = scatter_goals_shots(euro12)\n"
   ]
  },
  {
   "cell_type": "code",
   "execution_count": null,
   "id": "aab2d1aee5e62a78",
   "metadata": {
    "collapsed": false
   },
   "outputs": [],
   "source": [
    "\"\"\"\n",
    "15., Készíts egy függvényt, ami scatter_plot-on ábrázolja a gólok és a kaput ért találatok kapcsolatát. A különböző kvartiliseket különböző színek jelöljék. A színek mellett jelenjen meg jelmagyarázat.\n",
    "\n",
    "fv név: scatter_goals_shots_by_quartile\n",
    "bemenet: input_df\n",
    "X tengelyen: Goals\n",
    "y tengelyen: Shots on target\n",
    "title: 'Goals and Shot on target'\n",
    "Tengely feliratok egyezenek meg az oszlop nevekkel\n",
    "Jelmagyarázat címe: Quartiles\n",
    "\n",
    "return type: matplotlib.figure.Figure\n",
    "\"\"\""
   ]
  },
  {
   "cell_type": "code",
   "execution_count": 44,
   "id": "82b34fb7ec646847",
   "metadata": {
    "collapsed": false,
    "ExecuteTime": {
     "end_time": "2023-10-16T15:12:51.507624Z",
     "start_time": "2023-10-16T15:12:51.419037Z"
    }
   },
   "outputs": [],
   "source": [
    "import matplotlib.pyplot as plt\n",
    "\n",
    "def scatter_goals_shots_by_quartile(input_df):\n",
    "    grouped = input_df.groupby('Quartile')\n",
    "    \n",
    "    colors = ['b', 'g', 'r', 'c']\n",
    "\n",
    "    legend_labels = []\n",
    "    \n",
    "    fig, ax = plt.subplots()\n",
    "    for quartile, group in grouped:\n",
    "        ax.scatter(group['Goals'], group['Shots on target'], label=f'Quartile {quartile}', color=colors[quartile-1])\n",
    "        legend_labels.append(f'Quartile {quartile}')\n",
    "\n",
    "    ax.set_xlabel('Goals')\n",
    "    ax.set_ylabel('Shots on target')\n",
    "\n",
    "    ax.set_title('Goals and Shot on target')\n",
    "\n",
    "    ax.legend(legend_labels, title='Quartiles')\n",
    "    \n",
    "    plt.show()\n",
    "    \n",
    "    return fig"
   ]
  },
  {
   "cell_type": "code",
   "execution_count": 45,
   "id": "dac4a005197f4a91",
   "metadata": {
    "collapsed": false,
    "ExecuteTime": {
     "end_time": "2023-10-16T15:12:52.403746Z",
     "start_time": "2023-10-16T15:12:51.487619Z"
    }
   },
   "outputs": [
    {
     "name": "stderr",
     "output_type": "stream",
     "text": [
      "/var/folders/m5/_bm86n6s0fx1lfrr51l630_c0000gn/T/ipykernel_5737/1467923392.py:4: FutureWarning: The default of observed=False is deprecated and will be changed to True in a future version of pandas. Pass observed=False to retain current behavior or observed=True to adopt the future default and silence this warning.\n",
      "  grouped = input_df.groupby('Quartile')\n"
     ]
    },
    {
     "data": {
      "text/plain": "<Figure size 640x480 with 1 Axes>",
      "image/png": "[encoded data removed]"
     },
     "metadata": {},
     "output_type": "display_data"
    }
   ],
   "source": [
    "# Tesztelés\n",
    "scatter_plot_by_quartile = scatter_goals_shots_by_quartile(euro12_with_quartile)"
   ]
  },
  {
   "cell_type": "code",
   "execution_count": null,
   "id": "10b9f08f28204e28",
   "metadata": {
    "collapsed": false
   },
   "outputs": [],
   "source": [
    "\"\"\"\n",
    "16. Készíts egy függvényt, ami létrehoz egy listát, benne number_of_trajectories db listával. A belső listák létrehozásának logikája a következő:\n",
    "    A bemeneti paraméterként kapott pareto_distribution osztály felhasználásával (ParetoDistribution 1,1 paraméterekkel) generálj length_of_trajectory véletlen számot\n",
    "    A belső lista tartalmazza a generált számok kumulatív átlagát.\n",
    "    Ismételd meg number_of_trajectories alkalommal (mindegyik belső listába egyszer)\n",
    "    A seed értéke legyen 42.\n",
    "\n",
    "függvény bemenete: pareto_distribution, number_of_trajectories, length_of_trajectory\n",
    "kimeneti típus: List    \n",
    "függvény neve: gen_pareto_mean_trajectories\n",
    "\"\"\""
   ]
  },
  {
   "cell_type": "code",
   "execution_count": 46,
   "id": "bededb488887a09d",
   "metadata": {
    "collapsed": false,
    "ExecuteTime": {
     "end_time": "2023-10-16T15:13:08.101594Z",
     "start_time": "2023-10-16T15:13:04.535273Z"
    }
   },
   "outputs": [],
   "source": [
    "from scipy.stats import pareto\n",
    "import numpy as np\n",
    "from typing import List\n",
    "\n",
    "def gen_pareto_mean_trajectories(pareto_distribution, number_of_trajectories, length_of_trajectory):\n",
    "    np.random.seed(42) \n",
    "\n",
    "    result = []\n",
    "\n",
    "    for _ in range(number_of_trajectories):\n",
    "\n",
    "        random_numbers = pareto_distribution.rvs(size=length_of_trajectory)\n",
    "        \n",
    "        cumulative_means = np.cumsum(random_numbers) / (np.arange(1, length_of_trajectory + 1))\n",
    "        \n",
    "        result.append(cumulative_means.tolist())\n",
    "\n",
    "    return result"
   ]
  },
  {
   "cell_type": "code",
   "execution_count": 47,
   "id": "d47adf97603987b3",
   "metadata": {
    "collapsed": false,
    "ExecuteTime": {
     "end_time": "2023-10-16T15:13:08.186013Z",
     "start_time": "2023-10-16T15:13:08.104427Z"
    }
   },
   "outputs": [
    {
     "name": "stdout",
     "output_type": "stream",
     "text": [
      "[[1.5988235698781128, 10.94434358114287, 8.53998203336099, 7.027897413020519, 5.8592899887861, 5.080212729112725, 4.5061345333769625, 4.876931383633573, 4.613604374729422, 4.494794833109406], [1.021017121105309, 17.127243137325646, 13.407530597509627, 10.373043420459508, 8.542881208068517, 7.323167094312719, 6.482326345907282, 5.935058575640684, 5.4712068425107505, 5.0651754801710505], [2.5763427999411572, 1.8692247790654344, 1.7170558544005485, 1.6823388374355635, 1.713565431716864, 2.203799949261765, 2.067470026850874, 2.0663620493106953, 2.109374417922615, 2.0033082920366923], [2.5480618736815726, 1.8768212219816436, 1.6077400598267513, 6.096788664106144, 10.69680338453153, 9.783858561103415, 8.591600160463516, 7.656180714424525, 7.1573708916787995, 6.620253871157769], [1.1390017648697979, 1.5599468624517938, 1.3851689771755824, 3.7958364650719307, 3.306494588310772, 3.2492719258517906, 2.992644256364959, 2.8790173000672294, 2.804248109951072, 2.6465007774478218]]\n"
     ]
    }
   ],
   "source": [
    "# Tesztelés\n",
    "pareto_distribution = pareto(1, scale=1)  # Pareto eloszlás (1, 1) paraméterekkel\n",
    "number_of_trajectories = 5\n",
    "length_of_trajectory = 10\n",
    "trajectories = gen_pareto_mean_trajectories(pareto_distribution, number_of_trajectories, length_of_trajectory)\n",
    "print(trajectories)"
   ]
  }
 ],
 "metadata": {
  "kernelspec": {
   "display_name": "Python 3 (ipykernel)",
   "language": "python",
   "name": "python3"
  },
  "language_info": {
   "codemirror_mode": {
    "name": "ipython",
    "version": 3
   },
   "file_extension": ".py",
   "mimetype": "text/x-python",
   "name": "python",
   "nbconvert_exporter": "python",
   "pygments_lexer": "ipython3",
   "version": "3.10.4"
  }
 },
 "nbformat": 4,
 "nbformat_minor": 5
}
