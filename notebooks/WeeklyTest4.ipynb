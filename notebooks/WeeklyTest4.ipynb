{
 "cells": [
  {
   "cell_type": "markdown",
   "id": "de9d9737616514b8",
   "metadata": {
    "collapsed": false
   },
   "source": [
    "## Az eredményeket mentsd a src/weekly modul-ba weekly_test_4.py néven"
   ]
  },
  {
   "cell_type": "markdown",
   "id": "a9789db8f0fbd7ec",
   "metadata": {
    "collapsed": false
   },
   "source": [
    "#### Használható modulok: pandas, typing, matplotlib, random, src.distributions, src.weekly"
   ]
  },
  {
   "cell_type": "code",
   "execution_count": null,
   "id": "dfea6e648868022e",
   "metadata": {
    "collapsed": false
   },
   "outputs": [],
   "source": [
    "import pandas\n",
    "import pandas as pd\n",
    "from typing import List, Dict\n",
    "import matplotlib\n",
    "import matplotlib.pyplot as plt "
   ]
  },
  {
   "cell_type": "code",
   "execution_count": null,
   "id": "9d26aec7b4e97407",
   "metadata": {
    "collapsed": false
   },
   "outputs": [],
   "source": [
    "\"\"\"\n",
    "1., Olvasd be a data mappa Euro_2012_stats_TEAM.csv nevű fájlját egy dataframe-be. A betöltött adatokat az euro12 alatt tárolja. A következő feladatokban a kiinduló fájlt ne írd felül.\n",
    "\"\"\""
   ]
  },
  {
   "cell_type": "code",
   "execution_count": 9,
   "id": "f1945d927f8109c4",
   "metadata": {
    "collapsed": false,
    "ExecuteTime": {
     "end_time": "2023-10-16T09:39:16.892128Z",
     "start_time": "2023-10-16T09:39:16.555007Z"
    }
   },
   "outputs": [
    {
     "ename": "FileNotFoundError",
     "evalue": "[Errno 2] No such file or directory: 'Euro_2012_stats_TEAM.csv'",
     "output_type": "error",
     "traceback": [
      "\u001B[0;31m---------------------------------------------------------------------------\u001B[0m",
      "\u001B[0;31mFileNotFoundError\u001B[0m                         Traceback (most recent call last)",
      "Cell \u001B[0;32mIn[9], line 3\u001B[0m\n\u001B[1;32m      1\u001B[0m \u001B[38;5;28;01mimport\u001B[39;00m \u001B[38;5;21;01mpandas\u001B[39;00m \u001B[38;5;28;01mas\u001B[39;00m \u001B[38;5;21;01mpd\u001B[39;00m\n\u001B[0;32m----> 3\u001B[0m euro12 \u001B[38;5;241m=\u001B[39m \u001B[43mpd\u001B[49m\u001B[38;5;241;43m.\u001B[39;49m\u001B[43mread_csv\u001B[49m\u001B[43m(\u001B[49m\u001B[38;5;124;43m'\u001B[39;49m\u001B[38;5;124;43mEuro_2012_stats_TEAM.csv\u001B[39;49m\u001B[38;5;124;43m'\u001B[39;49m\u001B[43m)\u001B[49m\n\u001B[1;32m      4\u001B[0m \u001B[38;5;28mprint\u001B[39m(euro12\u001B[38;5;241m.\u001B[39mhead())  \u001B[38;5;66;03m# Kiírja az első néhány sort a DataFrame-ből\u001B[39;00m\n",
      "File \u001B[0;32m~/Documents/GitHub/ECOPY_23241/venv/lib/python3.9/site-packages/pandas/io/parsers/readers.py:948\u001B[0m, in \u001B[0;36mread_csv\u001B[0;34m(filepath_or_buffer, sep, delimiter, header, names, index_col, usecols, dtype, engine, converters, true_values, false_values, skipinitialspace, skiprows, skipfooter, nrows, na_values, keep_default_na, na_filter, verbose, skip_blank_lines, parse_dates, infer_datetime_format, keep_date_col, date_parser, date_format, dayfirst, cache_dates, iterator, chunksize, compression, thousands, decimal, lineterminator, quotechar, quoting, doublequote, escapechar, comment, encoding, encoding_errors, dialect, on_bad_lines, delim_whitespace, low_memory, memory_map, float_precision, storage_options, dtype_backend)\u001B[0m\n\u001B[1;32m    935\u001B[0m kwds_defaults \u001B[38;5;241m=\u001B[39m _refine_defaults_read(\n\u001B[1;32m    936\u001B[0m     dialect,\n\u001B[1;32m    937\u001B[0m     delimiter,\n\u001B[0;32m   (...)\u001B[0m\n\u001B[1;32m    944\u001B[0m     dtype_backend\u001B[38;5;241m=\u001B[39mdtype_backend,\n\u001B[1;32m    945\u001B[0m )\n\u001B[1;32m    946\u001B[0m kwds\u001B[38;5;241m.\u001B[39mupdate(kwds_defaults)\n\u001B[0;32m--> 948\u001B[0m \u001B[38;5;28;01mreturn\u001B[39;00m \u001B[43m_read\u001B[49m\u001B[43m(\u001B[49m\u001B[43mfilepath_or_buffer\u001B[49m\u001B[43m,\u001B[49m\u001B[43m \u001B[49m\u001B[43mkwds\u001B[49m\u001B[43m)\u001B[49m\n",
      "File \u001B[0;32m~/Documents/GitHub/ECOPY_23241/venv/lib/python3.9/site-packages/pandas/io/parsers/readers.py:611\u001B[0m, in \u001B[0;36m_read\u001B[0;34m(filepath_or_buffer, kwds)\u001B[0m\n\u001B[1;32m    608\u001B[0m _validate_names(kwds\u001B[38;5;241m.\u001B[39mget(\u001B[38;5;124m\"\u001B[39m\u001B[38;5;124mnames\u001B[39m\u001B[38;5;124m\"\u001B[39m, \u001B[38;5;28;01mNone\u001B[39;00m))\n\u001B[1;32m    610\u001B[0m \u001B[38;5;66;03m# Create the parser.\u001B[39;00m\n\u001B[0;32m--> 611\u001B[0m parser \u001B[38;5;241m=\u001B[39m \u001B[43mTextFileReader\u001B[49m\u001B[43m(\u001B[49m\u001B[43mfilepath_or_buffer\u001B[49m\u001B[43m,\u001B[49m\u001B[43m \u001B[49m\u001B[38;5;241;43m*\u001B[39;49m\u001B[38;5;241;43m*\u001B[39;49m\u001B[43mkwds\u001B[49m\u001B[43m)\u001B[49m\n\u001B[1;32m    613\u001B[0m \u001B[38;5;28;01mif\u001B[39;00m chunksize \u001B[38;5;129;01mor\u001B[39;00m iterator:\n\u001B[1;32m    614\u001B[0m     \u001B[38;5;28;01mreturn\u001B[39;00m parser\n",
      "File \u001B[0;32m~/Documents/GitHub/ECOPY_23241/venv/lib/python3.9/site-packages/pandas/io/parsers/readers.py:1448\u001B[0m, in \u001B[0;36mTextFileReader.__init__\u001B[0;34m(self, f, engine, **kwds)\u001B[0m\n\u001B[1;32m   1445\u001B[0m     \u001B[38;5;28mself\u001B[39m\u001B[38;5;241m.\u001B[39moptions[\u001B[38;5;124m\"\u001B[39m\u001B[38;5;124mhas_index_names\u001B[39m\u001B[38;5;124m\"\u001B[39m] \u001B[38;5;241m=\u001B[39m kwds[\u001B[38;5;124m\"\u001B[39m\u001B[38;5;124mhas_index_names\u001B[39m\u001B[38;5;124m\"\u001B[39m]\n\u001B[1;32m   1447\u001B[0m \u001B[38;5;28mself\u001B[39m\u001B[38;5;241m.\u001B[39mhandles: IOHandles \u001B[38;5;241m|\u001B[39m \u001B[38;5;28;01mNone\u001B[39;00m \u001B[38;5;241m=\u001B[39m \u001B[38;5;28;01mNone\u001B[39;00m\n\u001B[0;32m-> 1448\u001B[0m \u001B[38;5;28mself\u001B[39m\u001B[38;5;241m.\u001B[39m_engine \u001B[38;5;241m=\u001B[39m \u001B[38;5;28;43mself\u001B[39;49m\u001B[38;5;241;43m.\u001B[39;49m\u001B[43m_make_engine\u001B[49m\u001B[43m(\u001B[49m\u001B[43mf\u001B[49m\u001B[43m,\u001B[49m\u001B[43m \u001B[49m\u001B[38;5;28;43mself\u001B[39;49m\u001B[38;5;241;43m.\u001B[39;49m\u001B[43mengine\u001B[49m\u001B[43m)\u001B[49m\n",
      "File \u001B[0;32m~/Documents/GitHub/ECOPY_23241/venv/lib/python3.9/site-packages/pandas/io/parsers/readers.py:1705\u001B[0m, in \u001B[0;36mTextFileReader._make_engine\u001B[0;34m(self, f, engine)\u001B[0m\n\u001B[1;32m   1703\u001B[0m     \u001B[38;5;28;01mif\u001B[39;00m \u001B[38;5;124m\"\u001B[39m\u001B[38;5;124mb\u001B[39m\u001B[38;5;124m\"\u001B[39m \u001B[38;5;129;01mnot\u001B[39;00m \u001B[38;5;129;01min\u001B[39;00m mode:\n\u001B[1;32m   1704\u001B[0m         mode \u001B[38;5;241m+\u001B[39m\u001B[38;5;241m=\u001B[39m \u001B[38;5;124m\"\u001B[39m\u001B[38;5;124mb\u001B[39m\u001B[38;5;124m\"\u001B[39m\n\u001B[0;32m-> 1705\u001B[0m \u001B[38;5;28mself\u001B[39m\u001B[38;5;241m.\u001B[39mhandles \u001B[38;5;241m=\u001B[39m \u001B[43mget_handle\u001B[49m\u001B[43m(\u001B[49m\n\u001B[1;32m   1706\u001B[0m \u001B[43m    \u001B[49m\u001B[43mf\u001B[49m\u001B[43m,\u001B[49m\n\u001B[1;32m   1707\u001B[0m \u001B[43m    \u001B[49m\u001B[43mmode\u001B[49m\u001B[43m,\u001B[49m\n\u001B[1;32m   1708\u001B[0m \u001B[43m    \u001B[49m\u001B[43mencoding\u001B[49m\u001B[38;5;241;43m=\u001B[39;49m\u001B[38;5;28;43mself\u001B[39;49m\u001B[38;5;241;43m.\u001B[39;49m\u001B[43moptions\u001B[49m\u001B[38;5;241;43m.\u001B[39;49m\u001B[43mget\u001B[49m\u001B[43m(\u001B[49m\u001B[38;5;124;43m\"\u001B[39;49m\u001B[38;5;124;43mencoding\u001B[39;49m\u001B[38;5;124;43m\"\u001B[39;49m\u001B[43m,\u001B[49m\u001B[43m \u001B[49m\u001B[38;5;28;43;01mNone\u001B[39;49;00m\u001B[43m)\u001B[49m\u001B[43m,\u001B[49m\n\u001B[1;32m   1709\u001B[0m \u001B[43m    \u001B[49m\u001B[43mcompression\u001B[49m\u001B[38;5;241;43m=\u001B[39;49m\u001B[38;5;28;43mself\u001B[39;49m\u001B[38;5;241;43m.\u001B[39;49m\u001B[43moptions\u001B[49m\u001B[38;5;241;43m.\u001B[39;49m\u001B[43mget\u001B[49m\u001B[43m(\u001B[49m\u001B[38;5;124;43m\"\u001B[39;49m\u001B[38;5;124;43mcompression\u001B[39;49m\u001B[38;5;124;43m\"\u001B[39;49m\u001B[43m,\u001B[49m\u001B[43m \u001B[49m\u001B[38;5;28;43;01mNone\u001B[39;49;00m\u001B[43m)\u001B[49m\u001B[43m,\u001B[49m\n\u001B[1;32m   1710\u001B[0m \u001B[43m    \u001B[49m\u001B[43mmemory_map\u001B[49m\u001B[38;5;241;43m=\u001B[39;49m\u001B[38;5;28;43mself\u001B[39;49m\u001B[38;5;241;43m.\u001B[39;49m\u001B[43moptions\u001B[49m\u001B[38;5;241;43m.\u001B[39;49m\u001B[43mget\u001B[49m\u001B[43m(\u001B[49m\u001B[38;5;124;43m\"\u001B[39;49m\u001B[38;5;124;43mmemory_map\u001B[39;49m\u001B[38;5;124;43m\"\u001B[39;49m\u001B[43m,\u001B[49m\u001B[43m \u001B[49m\u001B[38;5;28;43;01mFalse\u001B[39;49;00m\u001B[43m)\u001B[49m\u001B[43m,\u001B[49m\n\u001B[1;32m   1711\u001B[0m \u001B[43m    \u001B[49m\u001B[43mis_text\u001B[49m\u001B[38;5;241;43m=\u001B[39;49m\u001B[43mis_text\u001B[49m\u001B[43m,\u001B[49m\n\u001B[1;32m   1712\u001B[0m \u001B[43m    \u001B[49m\u001B[43merrors\u001B[49m\u001B[38;5;241;43m=\u001B[39;49m\u001B[38;5;28;43mself\u001B[39;49m\u001B[38;5;241;43m.\u001B[39;49m\u001B[43moptions\u001B[49m\u001B[38;5;241;43m.\u001B[39;49m\u001B[43mget\u001B[49m\u001B[43m(\u001B[49m\u001B[38;5;124;43m\"\u001B[39;49m\u001B[38;5;124;43mencoding_errors\u001B[39;49m\u001B[38;5;124;43m\"\u001B[39;49m\u001B[43m,\u001B[49m\u001B[43m \u001B[49m\u001B[38;5;124;43m\"\u001B[39;49m\u001B[38;5;124;43mstrict\u001B[39;49m\u001B[38;5;124;43m\"\u001B[39;49m\u001B[43m)\u001B[49m\u001B[43m,\u001B[49m\n\u001B[1;32m   1713\u001B[0m \u001B[43m    \u001B[49m\u001B[43mstorage_options\u001B[49m\u001B[38;5;241;43m=\u001B[39;49m\u001B[38;5;28;43mself\u001B[39;49m\u001B[38;5;241;43m.\u001B[39;49m\u001B[43moptions\u001B[49m\u001B[38;5;241;43m.\u001B[39;49m\u001B[43mget\u001B[49m\u001B[43m(\u001B[49m\u001B[38;5;124;43m\"\u001B[39;49m\u001B[38;5;124;43mstorage_options\u001B[39;49m\u001B[38;5;124;43m\"\u001B[39;49m\u001B[43m,\u001B[49m\u001B[43m \u001B[49m\u001B[38;5;28;43;01mNone\u001B[39;49;00m\u001B[43m)\u001B[49m\u001B[43m,\u001B[49m\n\u001B[1;32m   1714\u001B[0m \u001B[43m\u001B[49m\u001B[43m)\u001B[49m\n\u001B[1;32m   1715\u001B[0m \u001B[38;5;28;01massert\u001B[39;00m \u001B[38;5;28mself\u001B[39m\u001B[38;5;241m.\u001B[39mhandles \u001B[38;5;129;01mis\u001B[39;00m \u001B[38;5;129;01mnot\u001B[39;00m \u001B[38;5;28;01mNone\u001B[39;00m\n\u001B[1;32m   1716\u001B[0m f \u001B[38;5;241m=\u001B[39m \u001B[38;5;28mself\u001B[39m\u001B[38;5;241m.\u001B[39mhandles\u001B[38;5;241m.\u001B[39mhandle\n",
      "File \u001B[0;32m~/Documents/GitHub/ECOPY_23241/venv/lib/python3.9/site-packages/pandas/io/common.py:863\u001B[0m, in \u001B[0;36mget_handle\u001B[0;34m(path_or_buf, mode, encoding, compression, memory_map, is_text, errors, storage_options)\u001B[0m\n\u001B[1;32m    858\u001B[0m \u001B[38;5;28;01melif\u001B[39;00m \u001B[38;5;28misinstance\u001B[39m(handle, \u001B[38;5;28mstr\u001B[39m):\n\u001B[1;32m    859\u001B[0m     \u001B[38;5;66;03m# Check whether the filename is to be opened in binary mode.\u001B[39;00m\n\u001B[1;32m    860\u001B[0m     \u001B[38;5;66;03m# Binary mode does not support 'encoding' and 'newline'.\u001B[39;00m\n\u001B[1;32m    861\u001B[0m     \u001B[38;5;28;01mif\u001B[39;00m ioargs\u001B[38;5;241m.\u001B[39mencoding \u001B[38;5;129;01mand\u001B[39;00m \u001B[38;5;124m\"\u001B[39m\u001B[38;5;124mb\u001B[39m\u001B[38;5;124m\"\u001B[39m \u001B[38;5;129;01mnot\u001B[39;00m \u001B[38;5;129;01min\u001B[39;00m ioargs\u001B[38;5;241m.\u001B[39mmode:\n\u001B[1;32m    862\u001B[0m         \u001B[38;5;66;03m# Encoding\u001B[39;00m\n\u001B[0;32m--> 863\u001B[0m         handle \u001B[38;5;241m=\u001B[39m \u001B[38;5;28;43mopen\u001B[39;49m\u001B[43m(\u001B[49m\n\u001B[1;32m    864\u001B[0m \u001B[43m            \u001B[49m\u001B[43mhandle\u001B[49m\u001B[43m,\u001B[49m\n\u001B[1;32m    865\u001B[0m \u001B[43m            \u001B[49m\u001B[43mioargs\u001B[49m\u001B[38;5;241;43m.\u001B[39;49m\u001B[43mmode\u001B[49m\u001B[43m,\u001B[49m\n\u001B[1;32m    866\u001B[0m \u001B[43m            \u001B[49m\u001B[43mencoding\u001B[49m\u001B[38;5;241;43m=\u001B[39;49m\u001B[43mioargs\u001B[49m\u001B[38;5;241;43m.\u001B[39;49m\u001B[43mencoding\u001B[49m\u001B[43m,\u001B[49m\n\u001B[1;32m    867\u001B[0m \u001B[43m            \u001B[49m\u001B[43merrors\u001B[49m\u001B[38;5;241;43m=\u001B[39;49m\u001B[43merrors\u001B[49m\u001B[43m,\u001B[49m\n\u001B[1;32m    868\u001B[0m \u001B[43m            \u001B[49m\u001B[43mnewline\u001B[49m\u001B[38;5;241;43m=\u001B[39;49m\u001B[38;5;124;43m\"\u001B[39;49m\u001B[38;5;124;43m\"\u001B[39;49m\u001B[43m,\u001B[49m\n\u001B[1;32m    869\u001B[0m \u001B[43m        \u001B[49m\u001B[43m)\u001B[49m\n\u001B[1;32m    870\u001B[0m     \u001B[38;5;28;01melse\u001B[39;00m:\n\u001B[1;32m    871\u001B[0m         \u001B[38;5;66;03m# Binary mode\u001B[39;00m\n\u001B[1;32m    872\u001B[0m         handle \u001B[38;5;241m=\u001B[39m \u001B[38;5;28mopen\u001B[39m(handle, ioargs\u001B[38;5;241m.\u001B[39mmode)\n",
      "\u001B[0;31mFileNotFoundError\u001B[0m: [Errno 2] No such file or directory: 'Euro_2012_stats_TEAM.csv'"
     ]
    }
   ],
   "source": [
    "import pandas as pd\n",
    "\n",
    "euro12 = pd.read_csv('Euro_2012_stats_TEAM.csv')\n",
    "print(euro12.head())  # Kiírja az első néhány sort a DataFrame-ből\n"
   ]
  },
  {
   "cell_type": "code",
   "execution_count": null,
   "id": "b79c977da040d844",
   "metadata": {
    "collapsed": false
   },
   "outputs": [],
   "source": [
    "\"\"\"\n",
    "2., Készíts egy függvényt, ami megmondja, hogy hány csapat indult az Európa Bajnokságon\n",
    "\n",
    "függvény név: number_of_participants\n",
    "bemenet: input_df\n",
    "kimeneti típus: int\n",
    "\"\"\""
   ]
  },
  {
   "cell_type": "markdown",
   "id": "c304a64416ee9b65",
   "metadata": {
    "collapsed": false
   },
   "source": []
  },
  {
   "cell_type": "code",
   "execution_count": 2,
   "id": "505baa2089524304",
   "metadata": {
    "collapsed": false,
    "ExecuteTime": {
     "end_time": "2023-10-11T18:19:57.910456Z",
     "start_time": "2023-10-11T18:19:57.889403Z"
    }
   },
   "outputs": [],
   "source": [
    "def number_of_participants(input_df):\n",
    "    # Megszámoljuk a sorokat a DataFrame-ben, ami megadja a résztvevő csapatok számát\n",
    "    num_participants = len(input_df)\n",
    "    return num_participants\n"
   ]
  },
  {
   "cell_type": "code",
   "execution_count": 3,
   "id": "9d190eb6f3a482b6",
   "metadata": {
    "collapsed": false,
    "ExecuteTime": {
     "end_time": "2023-10-11T18:19:58.041447Z",
     "start_time": "2023-10-11T18:19:57.919643Z"
    }
   },
   "outputs": [
    {
     "ename": "NameError",
     "evalue": "name 'euro12' is not defined",
     "output_type": "error",
     "traceback": [
      "\u001B[0;31m---------------------------------------------------------------------------\u001B[0m",
      "\u001B[0;31mNameError\u001B[0m                                 Traceback (most recent call last)",
      "Cell \u001B[0;32mIn[3], line 2\u001B[0m\n\u001B[1;32m      1\u001B[0m \u001B[38;5;66;03m# Tesztelés\u001B[39;00m\n\u001B[0;32m----> 2\u001B[0m num_teams \u001B[38;5;241m=\u001B[39m number_of_participants(\u001B[43meuro12\u001B[49m)  \u001B[38;5;66;03m# Itt feltételezzük, hogy az 'euro12' a beolvasott DataFrame\u001B[39;00m\n\u001B[1;32m      3\u001B[0m \u001B[38;5;28mprint\u001B[39m(\u001B[38;5;124m\"\u001B[39m\u001B[38;5;124mAz Európa-bajnokságon részt vevő csapatok száma:\u001B[39m\u001B[38;5;124m\"\u001B[39m, num_teams)\n",
      "\u001B[0;31mNameError\u001B[0m: name 'euro12' is not defined"
     ]
    }
   ],
   "source": [
    "# Tesztelés\n",
    "num_teams = number_of_participants(euro12)  # Itt feltételezzük, hogy az 'euro12' a beolvasott DataFrame\n",
    "print(\"Az Európa-bajnokságon részt vevő csapatok száma:\", num_teams)"
   ]
  },
  {
   "cell_type": "code",
   "execution_count": null,
   "id": "dd10fafbf699543d",
   "metadata": {
    "collapsed": false
   },
   "outputs": [],
   "source": [
    "\"\"\"\n",
    "3., Készíts egy függvényt, ami visszadja a csapatokat és az áltatuk lőtt gólokat.\n",
    "\n",
    "függvény név: goals\n",
    "bemenet: input_df\n",
    "kimeneti típus: pandas.core.frame.DataFrame\n",
    "\"\"\""
   ]
  },
  {
   "cell_type": "code",
   "execution_count": null,
   "id": "a58cb336d2bac95d",
   "metadata": {
    "collapsed": false
   },
   "outputs": [],
   "source": [
    "import pandas as pd\n",
    "\n",
    "def goals(input_df):\n",
    "    # Ellenőrizzük, hogy az 'input_df' nevű DataFrame tartalmazza-e a 'Team' és 'Goals' oszlopokat.\n",
    "    if 'Team' in input_df.columns and 'Goals' in input_df.columns:\n",
    "        # Kiválasztjuk csak a 'Team' és 'Goals' oszlopokat, majd visszaadjuk egy új DataFrame-ben.\n",
    "        selected_columns = input_df[['Team', 'Goals']]\n",
    "        return selected_columns\n",
    "    else:\n",
    "        return pd.DataFrame()  # Ha nincsenek megfelelő oszlopok, üres DataFrame-et adunk vissza.\n"
   ]
  },
  {
   "cell_type": "code",
   "execution_count": null,
   "id": "47f914b529be356b",
   "metadata": {
    "collapsed": false
   },
   "outputs": [],
   "source": [
    "# Tesztelés\n",
    "euro12 = pd.read_csv('Euro_2012_stats_TEAM.csv')\n",
    "goal_data = goals(euro12)\n",
    "print(goal_data)\n"
   ]
  },
  {
   "cell_type": "code",
   "execution_count": null,
   "id": "a35053917db8723e",
   "metadata": {
    "collapsed": false
   },
   "outputs": [],
   "source": [
    "\"\"\"\n",
    "4., Készíts egy függvényt, ami sorba rendezi az országokat a lőtt gólok száma alapján csökkenő sorrendben. Használd az előző  függvény eredményét.\n",
    "\n",
    "függvény név: sorted_by_goal\n",
    "bemenet: input_df\n",
    "kimeneti típus: pandas.core.frame.DataFrame\n",
    "\n",
    "\"\"\""
   ]
  },
  {
   "cell_type": "code",
   "execution_count": null,
   "id": "5c764033a4ca200b",
   "metadata": {
    "collapsed": false
   },
   "outputs": [],
   "source": [
    "import pandas as pd\n",
    "\n",
    "def sorted_by_goal(input_df):\n",
    "    goal_data = goals(input_df)\n",
    "    sorted_data = goal_data.sort_values(by='Goals', ascending=False)\n",
    "    \n",
    "    return sorted_data"
   ]
  },
  {
   "cell_type": "code",
   "execution_count": null,
   "id": "a10e9e934b2a98b8",
   "metadata": {
    "collapsed": false
   },
   "outputs": [],
   "source": [
    "# Tesztelés\n",
    "euro12 = pd.read_csv('Euro_2012_stats_TEAM.csv')\n",
    "sorted_goals = sorted_by_goal(euro12)\n",
    "print(sorted_goals)"
   ]
  },
  {
   "cell_type": "code",
   "execution_count": null,
   "id": "30fd1aa0c59afb47",
   "metadata": {
    "collapsed": false
   },
   "outputs": [],
   "source": [
    "\"\"\"\n",
    "5., Készíts egy függvényt, ami visszaadja az átlagos gól számot.\n",
    "\n",
    "függvény név: avg_goal\n",
    "bemenet: input_df\n",
    "kimeneti típus: float\n",
    "\n",
    "\"\"\""
   ]
  },
  {
   "cell_type": "code",
   "execution_count": null,
   "id": "44865d1982f4fe17",
   "metadata": {
    "collapsed": false
   },
   "outputs": [],
   "source": [
    "import pandas as pd\n",
    "\n",
    "def avg_goal(input_df):\n",
    "    if 'Goals' in input_df.columns:\n",
    "        total_goals = input_df['Goals'].sum()\n",
    "        num_teams = len(input_df)\n",
    "        avg = total_goals / num_teams\n",
    "        return avg\n",
    "    else:\n",
    "        return 0 \n"
   ]
  },
  {
   "cell_type": "code",
   "execution_count": null,
   "id": "8d4529f9fc423a7",
   "metadata": {
    "collapsed": false
   },
   "outputs": [],
   "source": [
    "# Tesztelés\n",
    "euro12 = pd.read_csv('Euro_2012_stats_TEAM.csv')\n",
    "average_goals = avg_goal(euro12)\n",
    "print(\"Az átlagos gól szám az Európa Bajnokságon:\", average_goals)"
   ]
  },
  {
   "cell_type": "code",
   "execution_count": null,
   "id": "4637c401e0e6352c",
   "metadata": {
    "collapsed": false
   },
   "outputs": [],
   "source": [
    "\"\"\"\n",
    "6., Készíts egy függvényt, ami visszadja azokat az országokat akik 6 vagy több gólt rúgtak\n",
    "\n",
    "függvény név: countries_over_five\n",
    "bement: input_df\n",
    "kimeneti típus: pandas.core.frame.DataFrame\n",
    "\n",
    "\"\"\""
   ]
  },
  {
   "cell_type": "code",
   "execution_count": null,
   "id": "f1dd81478909c86c",
   "metadata": {
    "collapsed": false
   },
   "outputs": [],
   "source": [
    "import pandas as pd\n",
    "\n",
    "def countries_over_six(input_df):\n",
    "    if 'Team' in input_df.columns and 'Goals' in input_df.columns:\n",
    "        filtered_data = input_df[input_df['Goals'] >= 6]\n",
    "        return filtered_data\n",
    "    else:\n",
    "        return pd.DataFrame() \n"
   ]
  },
  {
   "cell_type": "code",
   "execution_count": null,
   "id": "5c1dc290a99cf46c",
   "metadata": {
    "collapsed": false
   },
   "outputs": [],
   "source": [
    "# Tesztelés\n",
    "euro12 = pd.read_csv('Euro_2012_stats_TEAM.csv')\n",
    "over_six_goals = countries_over_six(euro12)\n",
    "print(over_six_goals)"
   ]
  },
  {
   "cell_type": "code",
   "execution_count": null,
   "id": "ff27a788246be43c",
   "metadata": {
    "collapsed": false
   },
   "outputs": [],
   "source": [
    "\"\"\"\n",
    "7., Készíts egy függvényt, ami visszaadja azon országok neveit, amelyek neve 'G'-vel kezdődik\n",
    "\n",
    "fv. neve: countries_starting_with_g\n",
    "bemenet: input_df\n",
    "kimeneti típus: pandas.core.frame.DataFrame\n",
    "\"\"\""
   ]
  },
  {
   "cell_type": "code",
   "execution_count": null,
   "id": "2ebc475c23f0de6e",
   "metadata": {
    "collapsed": false
   },
   "outputs": [],
   "source": [
    "import pandas as pd\n",
    "\n",
    "def countries_starting_with_g(input_df):\n",
    "    if 'Team' in input_df.columns:\n",
    "        filtered_data = input_df[input_df['Team'].str.startswith('G')]\n",
    "        return filtered_data\n",
    "    else:\n",
    "        return pd.DataFrame()  "
   ]
  },
  {
   "cell_type": "code",
   "execution_count": null,
   "id": "a4eef25889cb8347",
   "metadata": {
    "collapsed": false
   },
   "outputs": [],
   "source": [
    "# Tesztelés\n",
    "euro12 = pd.read_csv('Euro_2012_stats_TEAM.csv')\n",
    "starting_with_g = countries_starting_with_g(euro12)\n",
    "print(starting_with_g)"
   ]
  },
  {
   "cell_type": "code",
   "execution_count": null,
   "id": "2293e3b440a8ae85",
   "metadata": {
    "collapsed": false
   },
   "outputs": [],
   "source": [
    "\"\"\"\n",
    "8. Készíts egy függvényt, ami visszaadja az első 7 oszlopot. Használja a kiinduló adatokat\n",
    "\n",
    "fv. név: first_seven_columns\n",
    "bemenet: input_df\n",
    "return típus: pandas.core.frame.DataFrame\n",
    "\n",
    "\"\"\""
   ]
  },
  {
   "cell_type": "code",
   "execution_count": null,
   "id": "a192f2eebf0bb24d",
   "metadata": {
    "collapsed": false
   },
   "outputs": [],
   "source": [
    "import pandas as pd\n",
    "\n",
    "def first_seven_columns(input_df):\n",
    "    if len(input_df.columns) >= 7:\n",
    "        selected_columns = input_df.iloc[:, :7]\n",
    "        return selected_columns\n",
    "    else:\n",
    "        return pd.DataFrame()  # Ha nincs legalább 7 oszlop, üres DataFrame-et adunk vissza."
   ]
  },
  {
   "cell_type": "code",
   "execution_count": null,
   "id": "dc174ca46e9dea9b",
   "metadata": {
    "collapsed": false
   },
   "outputs": [],
   "source": [
    "# Tesztelés\n",
    "euro12 = pd.read_csv('Euro_2012_stats_TEAM.csv')\n",
    "first_seven = first_seven_columns(euro12)\n",
    "print(first_seven)"
   ]
  },
  {
   "cell_type": "code",
   "execution_count": null,
   "id": "a9a68b16090a09f7",
   "metadata": {
    "collapsed": false
   },
   "outputs": [],
   "source": [
    "\"\"\"\n",
    "9. Készíts egy függvényt, ami visszaadja az összes oszlopot az utolsó 3-on kívül. Használja a kiinduló adatokat\n",
    "\n",
    "fv. név: every_column_except_last_three\n",
    "bemenet: input_df\n",
    "return típus: pandas.core.frame.DataFrame\n",
    "\n",
    "\"\"\""
   ]
  },
  {
   "cell_type": "code",
   "execution_count": null,
   "id": "1d0754a3513e5eec",
   "metadata": {
    "collapsed": false
   },
   "outputs": [],
   "source": [
    "import pandas as pd\n",
    "\n",
    "def every_column_except_last_three(input_df):\n",
    "    if len(input_df.columns) > 3:\n",
    "        selected_columns = input_df.iloc[:, :-3]\n",
    "        return selected_columns\n",
    "    else:\n",
    "        return pd.DataFrame()  # Ha nincs legalább 3 oszlop, üres DataFrame-et adunk vissza."
   ]
  },
  {
   "cell_type": "code",
   "execution_count": null,
   "id": "64582e56a87a8160",
   "metadata": {
    "collapsed": false
   },
   "outputs": [],
   "source": [
    "# Tesztelés\n",
    "euro12 = pd.read_csv('Euro_2012_stats_TEAM.csv')\n",
    "columns_except_last_three = every_column_except_last_three(euro12)\n",
    "print(columns_except_last_three)"
   ]
  },
  {
   "cell_type": "code",
   "execution_count": null,
   "id": "376c202b0fe487aa",
   "metadata": {
    "collapsed": false
   },
   "outputs": [],
   "source": [
    "\"\"\"\n",
    "10. Készíts egy függvényt, amely tetszőleges oszlopokat és sorokat ad vissza a bemeneti adatokból. A sorokat és oszlopokat listák formájában adjuk be a függvénynek. A sorokat egy bemeneti oszlop alapján szűrjük\n",
    "\n",
    "fv. név: sliced_view\n",
    "bemenet: input_df, columns_to_keep, column_to_filter, rows_to_keep\n",
    "return type: pandas.core.frame.DataFrame\n",
    "\n",
    "\"\"\""
   ]
  },
  {
   "cell_type": "code",
   "execution_count": null,
   "id": "3596668112e27e6",
   "metadata": {
    "collapsed": false
   },
   "outputs": [],
   "source": [
    "import pandas as pd\n",
    "\n",
    "def sliced_view(input_df, columns_to_keep, column_to_filter, rows_to_keep):\n",
    "    if all(col in input_df.columns for col in columns_to_keep) and column_to_filter in input_df.columns:\n",
    "        selected_columns = input_df[columns_to_keep]\n",
    "        filtered_rows = input_df[input_df[column_to_filter].isin(rows_to_keep)]\n",
    "        \n",
    "        return selected_columns.merge(filtered_rows, on=columns_to_keep)\n",
    "    else:\n",
    "        return pd.DataFrame() "
   ]
  },
  {
   "cell_type": "code",
   "execution_count": null,
   "id": "6e731f8b0d4c77ee",
   "metadata": {
    "collapsed": false
   },
   "outputs": [],
   "source": [
    "# Tesztelés\n",
    "euro12 = pd.read_csv('Euro_2012_stats_TEAM.csv')\n",
    "result = sliced_view(euro12, ['Team', 'Goals'], 'Team', ['Germany', 'Greece'])\n",
    "print(result)"
   ]
  },
  {
   "cell_type": "code",
   "execution_count": null,
   "id": "47d70863b98e7ae3",
   "metadata": {
    "collapsed": false
   },
   "outputs": [],
   "source": [
    "\"\"\"\n",
    "11. Készíts egy függvényt, ami a bemeneti adatokat kiegészíti egy 'Quartile' oszloppal. A kvartilis oszlop értékeit a lőtt gólok alapján határozza meg:\n",
    "\n",
    "6 - 12: 1\n",
    "5 - 5: 2\n",
    "3 - 4: 3\n",
    "0 - 2: 4\n",
    "\n",
    "fv. név: generate_quartile\n",
    "bemenet: input_df\n",
    "return type: pandas.core.frame.DataFrame\n",
    "\n",
    "\"\"\""
   ]
  },
  {
   "cell_type": "code",
   "execution_count": null,
   "id": "21d385ae84f4114d",
   "metadata": {
    "collapsed": false
   },
   "outputs": [],
   "source": [
    "import pandas as pd\n",
    "\n",
    "def generate_quartile(input_df):\n",
    "    # Ellenőrizzük, hogy az 'input_df' nevű DataFrame tartalmazza-e a 'Goals' oszlopot.\n",
    "    if 'Goals' in input_df.columns:\n",
    "        quartile_mapping = {1: [6, 12], 2: [5, 5], 3: [3, 4], 4: [0, 2]}\n",
    "        quartile_values = []\n",
    "\n",
    "        # Számoljuk ki a kvartilis értékeket minden sorhoz.\n",
    "        for index, row in input_df.iterrows():\n",
    "            goals = row['Goals']\n",
    "            quartile = 4  # Alapértelmezés: 4. kvartilis\n",
    "            for q, range in quartile_mapping.items():\n",
    "                if range[0] <= goals <= range[1]:\n",
    "                    quartile = q\n",
    "                    break\n",
    "            quartile_values.append(quartile)\n",
    "\n",
    "        # Adjuk hozzá a 'Quartile' oszlopot az eredeti DataFrame-hez.\n",
    "        input_df['Quartile'] = quartile_values\n",
    "        return input_df\n",
    "    else:\n",
    "        return pd.DataFrame()  # Ha nincs 'Goals' oszlop, üres DataFrame-et adunk vissza.\n",
    "\n",
    "# Tesztelés\n",
    "euro12 = pd.read_csv('Euro_2012_stats_TEAM.csv')\n",
    "result = generate_quartile(euro12)\n",
    "print(result)"
   ]
  },
  {
   "cell_type": "code",
   "execution_count": null,
   "id": "3ad4b27111f25648",
   "metadata": {
    "collapsed": false
   },
   "outputs": [],
   "source": [
    "import pandas as pd\n",
    "\n",
    "def generate_quartile(input_df):\n",
    "    # Új 'Quartile' oszlop létrehozása a megfelelő értékekkel\n",
    "    input_df['Quartile'] = pd.cut(input_df['Goals'], [-1, 2, 4, 5, 12], labels=[4, 3, 2, 1])\n",
    "    \n",
    "    return input_df\n",
    "\n",
    "# Tesztelés\n",
    "euro12_with_quartile = generate_quartile(euro12)  # Itt feltételezzük, hogy az 'euro12' a beolvasott DataFrame\n",
    "print(euro12_with_quartile)\n"
   ]
  },
  {
   "cell_type": "code",
   "execution_count": null,
   "id": "bb70c884473a7679",
   "metadata": {
    "collapsed": false
   },
   "outputs": [],
   "source": [
    "\"\"\"\n",
    "12., Készíts egy függvényt, ami minden kvartilis értékhez kiszámítja, hogy átlagosan hány passzot adtak.\n",
    "\n",
    "fn név: average_yellow_in_quartiles\n",
    "bemenet: input_df\n",
    "return type: pandas.core.frame.DataFrame\n",
    "\n",
    "\"\"\""
   ]
  },
  {
   "cell_type": "code",
   "execution_count": null,
   "id": "dad25f20c5ac3ec6",
   "metadata": {
    "collapsed": false
   },
   "outputs": [],
   "source": [
    "import pandas as pd\n",
    "\n",
    "def average_passes_in_quartiles(input_df):\n",
    "    # Ellenőrizzük, hogy az 'input_df' nevű DataFrame tartalmazza-e a 'Quartile' és 'Passes' oszlopokat.\n",
    "    if 'Quartile' in input_df.columns and 'Passes' in input_df.columns:\n",
    "        # Csoportosítjuk a DataFrame-et a 'Quartile' oszlop alapján, és kiszámoljuk az átlagos passzokat minden kvartilis csoportban.\n",
    "        quartile_passes = input_df.groupby('Quartile')['Passes'].mean().reset_index()\n",
    "\n",
    "        return quartile_passes\n",
    "    else:\n",
    "        return pd.DataFrame()  # Ha nincsenek megfelelő oszlopok, üres DataFrame-et adunk vissza.\n",
    "\n",
    "# Tesztelés\n",
    "euro12 = pd.read_csv('Euro_2012_stats_TEAM.csv')\n",
    "result = average_passes_in_quartiles(euro12)\n",
    "print(result)\n"
   ]
  },
  {
   "cell_type": "code",
   "execution_count": null,
   "id": "8a8aa5257e5e9f81",
   "metadata": {
    "collapsed": false
   },
   "outputs": [],
   "source": [
    "import pandas as pd\n",
    "\n",
    "def average_yellow_in_quartiles(input_df):\n",
    "    # Csoportosítás a 'Quartile' oszlop alapján és átlagos passzok kiszámítása\n",
    "    quartile_avg_passes = input_df.groupby('Quartile')['Passes'].mean().reset_index()\n",
    "    quartile_avg_passes.columns = ['Quartile', 'Average_Passes']\n",
    "    \n",
    "    return quartile_avg_passes\n",
    "\n",
    "# Tesztelés\n",
    "quartile_avg_passes_df = average_yellow_in_quartiles(euro12_with_quartile)  # Itt feltételezzük, hogy az 'euro12_with_quartile' tartalmazza a 'Quartile' oszlopot\n",
    "print(quartile_avg_passes_df)\n"
   ]
  },
  {
   "cell_type": "code",
   "execution_count": null,
   "id": "1fa60ba13b667576",
   "metadata": {
    "collapsed": false
   },
   "outputs": [],
   "source": [
    "\"\"\"\n",
    "13., Készíts egy függvényt ami minden kvartilis esetén visszadja a blokkok (Blocks) minimális és maximális értékét.\n",
    "\n",
    "fv. név: minmax_block_in_quartile\n",
    "bemenet: input_df\n",
    "return type: pandas.core.frame.DataFrame\n",
    "\"\"\""
   ]
  },
  {
   "cell_type": "code",
   "execution_count": null,
   "id": "a4166f92696d8f3c",
   "metadata": {
    "collapsed": false
   },
   "outputs": [],
   "source": [
    "import pandas as pd\n",
    "\n",
    "def minmax_block_in_quartile(input_df):\n",
    "    # Ellenőrizzük, hogy az 'input_df' nevű DataFrame tartalmazza-e a 'Quartile' és 'Blocks' oszlopokat.\n",
    "    if 'Quartile' in input_df.columns and 'Blocks' in input_df.columns:\n",
    "        # Csoportosítjuk a DataFrame-et a 'Quartile' oszlop alapján, és kiszámoljuk a blokkok minimális és maximális értékét minden kvartilis csoportban.\n",
    "        quartile_blocks = input_df.groupby('Quartile')['Blocks'].agg([min, max]).reset_index()\n",
    "        quartile_blocks.columns = ['Quartile', 'Min_Blocks', 'Max_Blocks']\n",
    "\n",
    "        return quartile_blocks\n",
    "    else:\n",
    "        return pd.DataFrame()  # Ha nincsenek megfelelő oszlopok, üres DataFrame-et adunk vissza.\n",
    "\n",
    "# Tesztelés\n",
    "euro12 = pd.read_csv('Euro_2012_stats_TEAM.csv')\n",
    "result = minmax_block_in_quartile(euro12)\n",
    "print(result)\n"
   ]
  },
  {
   "cell_type": "code",
   "execution_count": null,
   "id": "accb935cb089b427",
   "metadata": {
    "collapsed": false
   },
   "outputs": [],
   "source": [
    "import pandas as pd\n",
    "\n",
    "def minmax_block_in_quartile(input_df):\n",
    "    # Csoportosítás a 'Quartile' oszlop alapján és blokkok minimális és maximális értékének kiszámítása\n",
    "    quartile_minmax_blocks = input_df.groupby('Quartile')['Blocks'].agg(['min', 'max']).reset_index()\n",
    "    quartile_minmax_blocks.columns = ['Quartile', 'Min_Blocks', 'Max_Blocks']\n",
    "    \n",
    "    return quartile_minmax_blocks\n",
    "\n",
    "# Tesztelés\n",
    "quartile_minmax_blocks_df = minmax_block_in_quartile(euro12_with_quartile)  # Itt feltételezzük, hogy az 'euro12_with_quartile' tartalmazza a 'Quartile' és 'Blocks' oszlopokat\n",
    "print(quartile_minmax_blocks_df)\n"
   ]
  },
  {
   "cell_type": "code",
   "execution_count": null,
   "id": "31b60fe10110736b",
   "metadata": {
    "collapsed": false
   },
   "outputs": [],
   "source": [
    "\"\"\"\n",
    "14., Készíts egy függvényt, ami scatter_plot-on ábrázolja a gólok és a kaput ért találatok kapcsolatát.\n",
    "\n",
    "fv név: scatter_goals_shots\n",
    "bemenet: input_df\n",
    "X tengelyen: Goals\n",
    "y tengelyen: Shots on target\n",
    "title: 'Goals and Shot on target'\n",
    "Tengely feliratok egyezenek meg az oszlop nevekkel\n",
    "\n",
    "return type: matplotlib.figure.Figure\n",
    "\"\"\""
   ]
  },
  {
   "cell_type": "code",
   "execution_count": null,
   "id": "baecdf0d2d7f6fc3",
   "metadata": {
    "collapsed": false
   },
   "outputs": [],
   "source": [
    "import matplotlib.pyplot as plt\n",
    "\n",
    "def scatter_goals_shots(input_df):\n",
    "    # Scatter plot létrehozása\n",
    "    fig, ax = plt.subplots()\n",
    "    ax.scatter(input_df['Goals'], input_df['Shots on target'])\n",
    "    \n",
    "    # Tengelyfeliratok beállítása\n",
    "    ax.set_xlabel('Goals')\n",
    "    ax.set_ylabel('Shots on target')\n",
    "    \n",
    "    # Cím beállítása\n",
    "    ax.set_title('Goals and Shot on target')\n",
    "    \n",
    "    plt.show()\n",
    "    \n",
    "    return fig\n",
    "\n",
    "# Tesztelés\n",
    "scatter_plot = scatter_goals_shots(euro12)"
   ]
  },
  {
   "cell_type": "code",
   "execution_count": null,
   "id": "d202e423c6fac93d",
   "metadata": {
    "collapsed": false
   },
   "outputs": [],
   "source": [
    "# Tesztelés\n",
    "scatter_plot = scatter_goals_shots(euro12)\n"
   ]
  },
  {
   "cell_type": "code",
   "execution_count": null,
   "id": "aab2d1aee5e62a78",
   "metadata": {
    "collapsed": false
   },
   "outputs": [],
   "source": [
    "\"\"\"\n",
    "15., Készíts egy függvényt, ami scatter_plot-on ábrázolja a gólok és a kaput ért találatok kapcsolatát. A különböző kvartiliseket különböző színek jelöljék. A színek mellett jelenjen meg jelmagyarázat.\n",
    "\n",
    "fv név: scatter_goals_shots_by_quartile\n",
    "bemenet: input_df\n",
    "X tengelyen: Goals\n",
    "y tengelyen: Shots on target\n",
    "title: 'Goals and Shot on target'\n",
    "Tengely feliratok egyezenek meg az oszlop nevekkel\n",
    "Jelmagyarázat címe: Quartiles\n",
    "\n",
    "return type: matplotlib.figure.Figure\n",
    "\"\"\""
   ]
  },
  {
   "cell_type": "code",
   "execution_count": null,
   "id": "82b34fb7ec646847",
   "metadata": {
    "collapsed": false
   },
   "outputs": [],
   "source": [
    "import matplotlib.pyplot as plt\n",
    "\n",
    "def scatter_goals_shots_by_quartile(input_df):\n",
    "    grouped = input_df.groupby('Quartile')\n",
    "    \n",
    "    colors = ['b', 'g', 'r', 'c']\n",
    "\n",
    "    legend_labels = []\n",
    "    \n",
    "    fig, ax = plt.subplots()\n",
    "    for quartile, group in grouped:\n",
    "        ax.scatter(group['Goals'], group['Shots on target'], label=f'Quartile {quartile}', color=colors[quartile-1])\n",
    "        legend_labels.append(f'Quartile {quartile}')\n",
    "\n",
    "    ax.set_xlabel('Goals')\n",
    "    ax.set_ylabel('Shots on target')\n",
    "\n",
    "    ax.set_title('Goals and Shot on target')\n",
    "\n",
    "    ax.legend(legend_labels, title='Quartiles')\n",
    "    \n",
    "    plt.show()\n",
    "    \n",
    "    return fig"
   ]
  },
  {
   "cell_type": "code",
   "execution_count": null,
   "id": "dac4a005197f4a91",
   "metadata": {
    "collapsed": false
   },
   "outputs": [],
   "source": [
    "# Tesztelés\n",
    "scatter_plot_by_quartile = scatter_goals_shots_by_quartile(euro12_with_quartile)"
   ]
  },
  {
   "cell_type": "code",
   "execution_count": null,
   "id": "10b9f08f28204e28",
   "metadata": {
    "collapsed": false
   },
   "outputs": [],
   "source": [
    "\"\"\"\n",
    "16. Készíts egy függvényt, ami létrehoz egy listát, benne number_of_trajectories db listával. A belső listák létrehozásának logikája a következő:\n",
    "    A bemeneti paraméterként kapott pareto_distribution osztály felhasználásával (ParetoDistribution 1,1 paraméterekkel) generálj length_of_trajectory véletlen számot\n",
    "    A belső lista tartalmazza a generált számok kumulatív átlagát.\n",
    "    Ismételd meg number_of_trajectories alkalommal (mindegyik belső listába egyszer)\n",
    "    A seed értéke legyen 42.\n",
    "\n",
    "függvény bemenete: pareto_distribution, number_of_trajectories, length_of_trajectory\n",
    "kimeneti típus: List    \n",
    "függvény neve: gen_pareto_mean_trajectories\n",
    "\"\"\""
   ]
  },
  {
   "cell_type": "code",
   "execution_count": null,
   "id": "bededb488887a09d",
   "metadata": {
    "collapsed": false
   },
   "outputs": [],
   "source": [
    "from scipy.stats import pareto\n",
    "import numpy as np\n",
    "from typing import List\n",
    "\n",
    "def gen_pareto_mean_trajectories(pareto_distribution, number_of_trajectories, length_of_trajectory):\n",
    "    np.random.seed(42) \n",
    "\n",
    "    result = []\n",
    "\n",
    "    for _ in range(number_of_trajectories):\n",
    "\n",
    "        random_numbers = pareto_distribution.rvs(size=length_of_trajectory)\n",
    "        \n",
    "        cumulative_means = np.cumsum(random_numbers) / (np.arange(1, length_of_trajectory + 1))\n",
    "        \n",
    "        result.append(cumulative_means.tolist())\n",
    "\n",
    "    return result"
   ]
  },
  {
   "cell_type": "code",
   "execution_count": null,
   "id": "d47adf97603987b3",
   "metadata": {
    "collapsed": false
   },
   "outputs": [],
   "source": [
    "# Tesztelés\n",
    "pareto_distribution = pareto(1, scale=1)  # Pareto eloszlás (1, 1) paraméterekkel\n",
    "number_of_trajectories = 5\n",
    "length_of_trajectory = 10\n",
    "trajectories = gen_pareto_mean_trajectories(pareto_distribution, number_of_trajectories, length_of_trajectory)\n",
    "print(trajectories)"
   ]
  }
 ],
 "metadata": {
  "kernelspec": {
   "display_name": "Python 3 (ipykernel)",
   "language": "python",
   "name": "python3"
  },
  "language_info": {
   "codemirror_mode": {
    "name": "ipython",
    "version": 3
   },
   "file_extension": ".py",
   "mimetype": "text/x-python",
   "name": "python",
   "nbconvert_exporter": "python",
   "pygments_lexer": "ipython3",
   "version": "3.10.4"
  }
 },
 "nbformat": 4,
 "nbformat_minor": 5
}
