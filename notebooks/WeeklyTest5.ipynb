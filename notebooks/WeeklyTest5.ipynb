{
 "cells": [
  {
   "cell_type": "markdown",
   "id": "de9d9737616514b8",
   "metadata": {
    "collapsed": false
   },
   "source": [
    "## Az eredményeket mentsd a src/weekly modul-ba weekly_test_5.py néven"
   ]
  },
  {
   "cell_type": "markdown",
   "id": "a9789db8f0fbd7ec",
   "metadata": {
    "collapsed": false
   },
   "source": [
    "#### Használható modulok: pandas, typing, matplotlib, random, src.utils, src.weekly, str"
   ]
  },
  {
   "cell_type": "code",
   "execution_count": null,
   "id": "dfea6e648868022e",
   "metadata": {
    "collapsed": false
   },
   "outputs": [],
   "source": [
    "from pathlib import Path\n",
    "\n",
    "file_to_load = Path.cwd().parent.joinpath('data').joinpath('chipotle.tsv')"
   ]
  },
  {
   "cell_type": "code",
   "execution_count": null,
   "id": "9d26aec7b4e97407",
   "metadata": {
    "collapsed": false
   },
   "outputs": [],
   "source": [
    "\"\"\"\n",
    "1., Olvasd be a data mappa chipotle.tsv nevű fájlját egy dataframe-be. A betöltött   adatokat food nevű változóban mentse. A következő feladatokban a kiinduló fájlt csak akkor írd felül, ha jelezve van.\n",
    "\"\"\""
   ]
  },
  {
   "cell_type": "code",
   "execution_count": 8,
   "outputs": [],
   "source": [
    "import pandas as pd\n",
    "\n",
    "# Fájl elérési útja\n",
    "file_path = \"../data/chipotle.tsv\"\n",
    "food = pd.read_csv(file_path, sep='\\t')"
   ],
   "metadata": {
    "collapsed": false,
    "ExecuteTime": {
     "end_time": "2023-10-18T17:36:45.875218Z",
     "start_time": "2023-10-18T17:36:45.743579Z"
    }
   },
   "id": "fcf692efe98b63a3"
  },
  {
   "cell_type": "code",
   "execution_count": 6,
   "id": "f1945d927f8109c4",
   "metadata": {
    "collapsed": false,
    "ExecuteTime": {
     "end_time": "2023-10-18T17:34:53.004036Z",
     "start_time": "2023-10-18T17:34:52.915138Z"
    }
   },
   "outputs": [
    {
     "ename": "NameError",
     "evalue": "name 'file_name' is not defined",
     "output_type": "error",
     "traceback": [
      "\u001B[0;31m---------------------------------------------------------------------------\u001B[0m",
      "\u001B[0;31mNameError\u001B[0m                                 Traceback (most recent call last)",
      "Cell \u001B[0;32mIn[6], line 2\u001B[0m\n\u001B[1;32m      1\u001B[0m \u001B[38;5;28;01mimport\u001B[39;00m \u001B[38;5;21;01mpandas\u001B[39;00m \u001B[38;5;28;01mas\u001B[39;00m \u001B[38;5;21;01mpd\u001B[39;00m\n\u001B[0;32m----> 2\u001B[0m food \u001B[38;5;241m=\u001B[39m pd\u001B[38;5;241m.\u001B[39mread_csv(\u001B[43mfile_name\u001B[49m, sep\u001B[38;5;241m=\u001B[39m\u001B[38;5;124m'\u001B[39m\u001B[38;5;130;01m\\t\u001B[39;00m\u001B[38;5;124m'\u001B[39m)\n",
      "\u001B[0;31mNameError\u001B[0m: name 'file_name' is not defined"
     ]
    }
   ],
   "source": []
  },
  {
   "cell_type": "code",
   "execution_count": null,
   "outputs": [],
   "source": [],
   "metadata": {
    "collapsed": false,
    "ExecuteTime": {
     "end_time": "2023-10-18T17:28:21.809974Z",
     "start_time": "2023-10-18T17:28:21.686214Z"
    }
   },
   "id": "f35d60f5979c143f"
  },
  {
   "cell_type": "code",
   "execution_count": null,
   "outputs": [],
   "source": [
    "\"\"\"\n",
    "2., Készts egy függvényt, ami a bemeneti adattömbben átalakítja az item_price értékeit float-ra. Az eredeti adatokat a függvény ne módosítsa. A kapott, tisztított adatokkal írd felül a food változót.\n",
    "\n",
    "függvény név: change_price_to_float\n",
    "bemenet: input_df\n",
    "kimeneti típus: pandas.core.frame.DataFrame\n",
    "\"\"\""
   ],
   "metadata": {
    "collapsed": false
   },
   "id": "d42ee754b557dcef"
  },
  {
   "cell_type": "code",
   "execution_count": 9,
   "outputs": [],
   "source": [
    "import pandas as pd\n",
    "\n",
    "def change_price_to_float(input_df):\n",
    "    # Másolat készítése a bemeneti DataFrame-ről\n",
    "    modified_df = input_df.copy()\n",
    "    \n",
    "    # Az \"item_price\" oszlop értékeit float típusúvá konvertáljuk\n",
    "    modified_df[\"item_price\"] = modified_df[\"item_price\"].str.replace('$', '').astype(float)\n",
    "    \n",
    "    return modified_df\n",
    "\n",
    "# Az eredeti \"food\" DataFrame módosítása\n",
    "food = change_price_to_float(food)\n"
   ],
   "metadata": {
    "collapsed": false,
    "ExecuteTime": {
     "end_time": "2023-10-18T17:37:23.929597Z",
     "start_time": "2023-10-18T17:37:23.875203Z"
    }
   },
   "id": "62f342effc8f0d82"
  },
  {
   "cell_type": "code",
   "execution_count": null,
   "outputs": [],
   "source": [],
   "metadata": {
    "collapsed": false
   },
   "id": "97a528d6564e3cde"
  },
  {
   "cell_type": "code",
   "execution_count": null,
   "id": "b79c977da040d844",
   "metadata": {
    "collapsed": false
   },
   "outputs": [],
   "source": [
    "\"\"\"\n",
    "3., Készíts egy függvényt, ami megmondja, hogy hány megfigyelés található az adathalmazban\n",
    "\n",
    "függvény név: number_of_observations\n",
    "bemenet: input_df\n",
    "kimeneti típus: int\n",
    "\"\"\""
   ]
  },
  {
   "cell_type": "code",
   "execution_count": 10,
   "id": "505baa2089524304",
   "metadata": {
    "collapsed": false,
    "ExecuteTime": {
     "end_time": "2023-10-18T17:43:56.463Z",
     "start_time": "2023-10-18T17:43:56.432362Z"
    }
   },
   "outputs": [],
   "source": [
    "def number_of_observations(input_df):\n",
    "    num_observations = len(input_df)\n",
    "    return num_observations\n",
    "\n",
    "# Példa a függvény használatára a \"food\" DataFrame-en\n",
    "observations_count = number_of_observations(food)\n",
    "\n",
    "# A \"observations_count\" változó tartalmazza a megfigyelések számát.\n"
   ]
  },
  {
   "cell_type": "code",
   "execution_count": null,
   "id": "9d190eb6f3a482b6",
   "metadata": {
    "collapsed": false
   },
   "outputs": [],
   "source": []
  },
  {
   "cell_type": "code",
   "execution_count": null,
   "id": "dd10fafbf699543d",
   "metadata": {
    "collapsed": false
   },
   "outputs": [],
   "source": [
    "\"\"\"\n",
    "4., Készíts egy függvényt, ami visszadja a termék neveket és az áraikat.\n",
    "\n",
    "függvény név: items_and_prices\n",
    "bemenet: input_df\n",
    "kimeneti típus: pandas.core.frame.DataFrame\n",
    "\"\"\""
   ]
  },
  {
   "cell_type": "code",
   "execution_count": 11,
   "id": "a58cb336d2bac95d",
   "metadata": {
    "collapsed": false,
    "ExecuteTime": {
     "end_time": "2023-10-18T17:45:00.948340Z",
     "start_time": "2023-10-18T17:45:00.891333Z"
    }
   },
   "outputs": [],
   "source": [
    "import pandas as pd\n",
    "\n",
    "def items_and_prices(input_df):\n",
    "    # Az új DataFrame két oszlopjának létrehozása az eredeti adatokból\n",
    "    result_df = input_df[['item_name', 'item_price']].copy()\n",
    "    \n",
    "    return result_df\n",
    "\n",
    "# Példa a függvény használatára a \"food\" DataFrame-en\n",
    "items_prices_df = items_and_prices(food)\n",
    "\n"
   ]
  },
  {
   "cell_type": "code",
   "execution_count": null,
   "id": "47f914b529be356b",
   "metadata": {
    "collapsed": false
   },
   "outputs": [],
   "source": []
  },
  {
   "cell_type": "code",
   "execution_count": null,
   "id": "a35053917db8723e",
   "metadata": {
    "collapsed": false
   },
   "outputs": [],
   "source": [
    "\"\"\"\n",
    "5., Készíts egy függvényt, ami sorba rendezi az termékeket az áruk alapján, csökkenő sorrendben. Használd az előző  függvény eredményét.\n",
    "\n",
    "függvény név: sorted_by_price\n",
    "bemenet: input_df\n",
    "kimeneti típus: pandas.core.frame.DataFrame\n",
    "\n",
    "\"\"\""
   ]
  },
  {
   "cell_type": "code",
   "execution_count": 12,
   "id": "5c764033a4ca200b",
   "metadata": {
    "collapsed": false,
    "ExecuteTime": {
     "end_time": "2023-10-18T17:46:01.526029Z",
     "start_time": "2023-10-18T17:46:01.497003Z"
    }
   },
   "outputs": [],
   "source": [
    "import pandas as pd\n",
    "\n",
    "def items_and_prices(input_df):\n",
    "    # Az új DataFrame két oszlopjának létrehozása az eredeti adatokból\n",
    "    result_df = input_df[['item_name', 'item_price']].copy()\n",
    "    \n",
    "    return result_df\n",
    "\n",
    "# Példa a függvény használatára a \"food\" DataFrame-en\n",
    "items_prices_df = items_and_prices(food)\n",
    "\n",
    "# Az \"items_prices_df\" tartalmazza a termék neveket és az áraikat.\n"
   ]
  },
  {
   "cell_type": "code",
   "execution_count": null,
   "id": "a10e9e934b2a98b8",
   "metadata": {
    "collapsed": false
   },
   "outputs": [],
   "source": []
  },
  {
   "cell_type": "code",
   "execution_count": null,
   "id": "30fd1aa0c59afb47",
   "metadata": {
    "collapsed": false
   },
   "outputs": [],
   "source": [
    "\"\"\"\n",
    "6., Készíts egy függvényt, ami visszaadja az átlagos árat.\n",
    "\n",
    "függvény név: avg_price\n",
    "bemenet: input_df\n",
    "kimeneti típus: float\n",
    "\n",
    "\"\"\""
   ]
  },
  {
   "cell_type": "code",
   "execution_count": null,
   "id": "44865d1982f4fe17",
   "metadata": {
    "collapsed": false
   },
   "outputs": [],
   "source": [
    "def avg_price(input_df):\n",
    "    # Számoljuk ki az \"item_price\" oszlop átlagát\n",
    "    average_price = input_df['item_price'].mean()\n",
    "    \n",
    "    return average_price\n",
    "\n",
    "# Példa a függvény használatára a \"food\" DataFrame-en\n",
    "average_item_price = avg_price(food)\n",
    "\n",
    "# Az \"average_item_price\" tartalmazza az átlagos árat.\n"
   ]
  },
  {
   "cell_type": "code",
   "execution_count": null,
   "id": "8d4529f9fc423a7",
   "metadata": {
    "collapsed": false
   },
   "outputs": [],
   "source": []
  },
  {
   "cell_type": "code",
   "execution_count": null,
   "id": "4637c401e0e6352c",
   "metadata": {
    "collapsed": false
   },
   "outputs": [],
   "source": [
    "\"\"\"\n",
    "7., Készíts egy függvényt, ami visszadja azokat az egyedi termékeket (név, feltét és ár szempontjából egyedi), amelyek ára 10 dollár felett van\n",
    "\n",
    "függvény név: unique_items_over_ten_dollars\n",
    "bement: input_df\n",
    "kimeneti típus: pandas.core.frame.DataFrame\n",
    "\n",
    "\"\"\""
   ]
  },
  {
   "cell_type": "code",
   "execution_count": 13,
   "id": "f1dd81478909c86c",
   "metadata": {
    "collapsed": false,
    "ExecuteTime": {
     "end_time": "2023-10-18T17:49:09.514247Z",
     "start_time": "2023-10-18T17:49:09.427267Z"
    }
   },
   "outputs": [],
   "source": [
    "import pandas as pd\n",
    "\n",
    "def unique_items_over_ten_dollars(input_df):\n",
    "    # Szűrjük azokat a sorokat, amelyek ára 10 dollár felett van\n",
    "    filtered_df = input_df[input_df['item_price'] > 10]\n",
    "\n",
    "    # Vegyük csak a szükséges oszlopokat: 'item_name', 'choice_description' és 'item_price'\n",
    "    filtered_df = filtered_df[['item_name', 'choice_description', 'item_price']]\n",
    "\n",
    "    # Távolítsuk el a duplikációkat (azonos termék nevű, feltétes és árú elemeket)\n",
    "    unique_items_df = filtered_df.drop_duplicates()\n",
    "\n",
    "    return unique_items_df\n",
    "\n",
    "# Példa a függvény használatára a \"food\" DataFrame-en\n",
    "unique_items_over_10_dollars = unique_items_over_ten_dollars(food)\n",
    "\n",
    "# Az \"unique_items_over_10_dollars\" tartalmazza az egyedi termékeket 10 dollár felett.\n"
   ]
  },
  {
   "cell_type": "code",
   "execution_count": null,
   "id": "5c1dc290a99cf46c",
   "metadata": {
    "collapsed": false
   },
   "outputs": [],
   "source": []
  },
  {
   "cell_type": "code",
   "execution_count": null,
   "id": "ff27a788246be43c",
   "metadata": {
    "collapsed": false
   },
   "outputs": [],
   "source": [
    "\"\"\"\n",
    "8., Készíts egy függvényt, ami visszaadja azon termékek neveit, amelyek neve 'S'-el kezdődik.\n",
    "\n",
    "fv. neve: items_starting_with_s\n",
    "bemenet: input_df\n",
    "kimeneti típus: pandas.core.frame.DataFrame\n",
    "\"\"\""
   ]
  },
  {
   "cell_type": "code",
   "execution_count": 14,
   "id": "2ebc475c23f0de6e",
   "metadata": {
    "collapsed": false,
    "ExecuteTime": {
     "end_time": "2023-10-18T17:52:11.392724Z",
     "start_time": "2023-10-18T17:52:11.329640Z"
    }
   },
   "outputs": [],
   "source": [
    "import pandas as pd\n",
    "\n",
    "def items_starting_with_s(input_df):\n",
    "    # Szűrjük azokat a sorokat, amelyek termékneve 'S'-el kezdődik\n",
    "    filtered_df = input_df[input_df['item_name'].str.startswith('S')]\n",
    "\n",
    "    # Vegyük csak a 'item_name' oszlopot, ami a termék neveket tartalmazza\n",
    "    filtered_df = filtered_df[['item_name']]\n",
    "\n",
    "    return filtered_df\n",
    "\n",
    "# Példa a függvény használatára a \"food\" DataFrame-en\n",
    "items_with_s = items_starting_with_s(food)\n",
    "\n",
    "# Az \"items_with_s\" tartalmazza az 'S'-el kezdődő termékek neveit.\n"
   ]
  },
  {
   "cell_type": "code",
   "execution_count": null,
   "id": "a4eef25889cb8347",
   "metadata": {
    "collapsed": false
   },
   "outputs": [],
   "source": []
  },
  {
   "cell_type": "code",
   "execution_count": null,
   "id": "2293e3b440a8ae85",
   "metadata": {
    "collapsed": false
   },
   "outputs": [],
   "source": [
    "\"\"\"\n",
    "9. Készíts egy függvényt, ami visszaadja az első 3 oszlopot. Használd a tisztított.\n",
    "\n",
    "fv. név: first_three_columns\n",
    "bemenet: input_df\n",
    "return típus: pandas.core.frame.DataFrame\n",
    "\n",
    "\"\"\""
   ]
  },
  {
   "cell_type": "code",
   "execution_count": 16,
   "id": "a192f2eebf0bb24d",
   "metadata": {
    "collapsed": false,
    "ExecuteTime": {
     "end_time": "2023-10-18T17:54:04.491258Z",
     "start_time": "2023-10-18T17:54:04.415209Z"
    }
   },
   "outputs": [],
   "source": [
    "import pandas as pd\n",
    "\n",
    "def first_three_columns(input_df):\n",
    "    # Kiválasztjuk az első 3 oszlopot\n",
    "    selected_columns = input_df.iloc[:, :3]\n",
    "\n",
    "    return selected_columns\n",
    "\n",
    "# Példa a függvény használatára a tisztított \"food_cleaned\" DataFrame-en\n",
    "first_three_cols = first_three_columns(food)\n",
    "\n",
    "# Az \"first_three_cols\" tartalmazza az első 3 oszlopot.\n"
   ]
  },
  {
   "cell_type": "code",
   "execution_count": null,
   "id": "dc174ca46e9dea9b",
   "metadata": {
    "collapsed": false
   },
   "outputs": [],
   "source": []
  },
  {
   "cell_type": "code",
   "execution_count": null,
   "id": "a9a68b16090a09f7",
   "metadata": {
    "collapsed": false
   },
   "outputs": [],
   "source": [
    "\"\"\"\n",
    "10. Készíts egy függvényt, ami visszaadja az összes oszlopot az utolsó 2-on kívül. Használd a tisztított adatokat.\n",
    "\n",
    "fv. név: every_column_except_last_two\n",
    "bemenet: input_df\n",
    "return típus: pandas.core.frame.DataFrame\n",
    "\n",
    "\"\"\""
   ]
  },
  {
   "cell_type": "code",
   "execution_count": 17,
   "id": "1d0754a3513e5eec",
   "metadata": {
    "collapsed": false,
    "ExecuteTime": {
     "end_time": "2023-10-18T17:59:24.776009Z",
     "start_time": "2023-10-18T17:59:24.743312Z"
    }
   },
   "outputs": [
    {
     "name": "stdout",
     "output_type": "stream",
     "text": [
      "      order_id  quantity                              item_name\n",
      "0            1         1           Chips and Fresh Tomato Salsa\n",
      "1            1         1                                   Izze\n",
      "2            1         1                       Nantucket Nectar\n",
      "3            1         1  Chips and Tomatillo-Green Chili Salsa\n",
      "4            2         2                           Chicken Bowl\n",
      "...        ...       ...                                    ...\n",
      "4617      1833         1                          Steak Burrito\n",
      "4618      1833         1                          Steak Burrito\n",
      "4619      1834         1                     Chicken Salad Bowl\n",
      "4620      1834         1                     Chicken Salad Bowl\n",
      "4621      1834         1                     Chicken Salad Bowl\n",
      "\n",
      "[4622 rows x 3 columns]\n"
     ]
    }
   ],
   "source": [
    "import pandas as pd\n",
    "\n",
    "def every_column_except_last_two(input_df):\n",
    "    # Az utolsó két oszlopon kívül az összes oszlopot kiválasztjuk\n",
    "    selected_columns = input_df.iloc[:, :-2]\n",
    "    \n",
    "    return selected_columns\n",
    "\n",
    "# Példa a függvény használatára:\n",
    "selected_cols = every_column_except_last_two(food)\n",
    "print(selected_cols)\n"
   ]
  },
  {
   "cell_type": "code",
   "execution_count": null,
   "id": "64582e56a87a8160",
   "metadata": {
    "collapsed": false
   },
   "outputs": [],
   "source": []
  },
  {
   "cell_type": "code",
   "execution_count": null,
   "id": "376c202b0fe487aa",
   "metadata": {
    "collapsed": false
   },
   "outputs": [],
   "source": [
    "\"\"\"\n",
    "11. Készíts egy függvényt, amely tetszőleges oszlopokat és sorokat ad vissza a bemeneti adatokból. A sorokat és oszlopokat listák formájában adjuk be a függvénynek. A sorokat egy bemeneti oszlop alapján szűrjük.\n",
    "\n",
    "fv. név: sliced_view\n",
    "bemenet: input_df, columns_to_keep, column_to_filter, rows_to_keep\n",
    "return type: pandas.core.frame.DataFrame\n",
    "\n",
    "\"\"\""
   ]
  },
  {
   "cell_type": "code",
   "execution_count": 18,
   "id": "3596668112e27e6",
   "metadata": {
    "collapsed": false,
    "ExecuteTime": {
     "end_time": "2023-10-18T18:04:20.689697Z",
     "start_time": "2023-10-18T18:04:15.898631Z"
    }
   },
   "outputs": [
    {
     "ename": "ValueError",
     "evalue": "Boolean array expected for the condition, not object",
     "output_type": "error",
     "traceback": [
      "\u001B[0;31m---------------------------------------------------------------------------\u001B[0m",
      "\u001B[0;31mValueError\u001B[0m                                Traceback (most recent call last)",
      "\u001B[0;32m/var/folders/m5/_bm86n6s0fx1lfrr51l630_c0000gn/T/ipykernel_29038/542832256.py\u001B[0m in \u001B[0;36m?\u001B[0;34m()\u001B[0m\n\u001B[0;32m---> 18\u001B[0;31m \u001B[0;32mimport\u001B[0m \u001B[0mpandas\u001B[0m \u001B[0;32mas\u001B[0m \u001B[0mpd\u001B[0m\u001B[0;34m\u001B[0m\u001B[0;34m\u001B[0m\u001B[0m\n\u001B[0m\u001B[1;32m     19\u001B[0m \u001B[0;34m\u001B[0m\u001B[0m\n\u001B[1;32m     20\u001B[0m \u001B[0;32mdef\u001B[0m \u001B[0msliced_view\u001B[0m\u001B[0;34m(\u001B[0m\u001B[0minput_df\u001B[0m\u001B[0;34m,\u001B[0m \u001B[0mcolumns_to_keep\u001B[0m\u001B[0;34m,\u001B[0m \u001B[0mcolumn_to_filter\u001B[0m\u001B[0;34m,\u001B[0m \u001B[0mrows_to_keep\u001B[0m\u001B[0;34m)\u001B[0m\u001B[0;34m:\u001B[0m\u001B[0;34m\u001B[0m\u001B[0;34m\u001B[0m\u001B[0m\n\u001B[1;32m     21\u001B[0m     \u001B[0;31m# Az oszlopok kiválasztása a 'columns_to_keep' listával\u001B[0m\u001B[0;34m\u001B[0m\u001B[0;34m\u001B[0m\u001B[0;34m\u001B[0m\u001B[0m\n",
      "\u001B[0;32m/var/folders/m5/_bm86n6s0fx1lfrr51l630_c0000gn/T/ipykernel_29038/542832256.py\u001B[0m in \u001B[0;36m?\u001B[0;34m(input_df, columns_to_keep, column_to_filter, rows_to_keep)\u001B[0m\n\u001B[1;32m      7\u001B[0m     \u001B[0;31m# Sorok szűrése az 'column_to_filter' oszlop alapján, a 'rows_to_keep' lista segítségével\u001B[0m\u001B[0;34m\u001B[0m\u001B[0;34m\u001B[0m\u001B[0;34m\u001B[0m\u001B[0m\n\u001B[1;32m      8\u001B[0m     \u001B[0mfiltered_rows\u001B[0m \u001B[0;34m=\u001B[0m \u001B[0minput_df\u001B[0m\u001B[0;34m[\u001B[0m\u001B[0minput_df\u001B[0m\u001B[0;34m[\u001B[0m\u001B[0mcolumn_to_filter\u001B[0m\u001B[0;34m]\u001B[0m\u001B[0;34m.\u001B[0m\u001B[0misin\u001B[0m\u001B[0;34m(\u001B[0m\u001B[0mrows_to_keep\u001B[0m\u001B[0;34m)\u001B[0m\u001B[0;34m]\u001B[0m\u001B[0;34m\u001B[0m\u001B[0;34m\u001B[0m\u001B[0m\n\u001B[1;32m      9\u001B[0m \u001B[0;34m\u001B[0m\u001B[0m\n\u001B[1;32m     10\u001B[0m     \u001B[0;31m# Az eredmény DataFrame kiválasztása a kiválasztott oszlopok és szűrt sorok alapján\u001B[0m\u001B[0;34m\u001B[0m\u001B[0;34m\u001B[0m\u001B[0;34m\u001B[0m\u001B[0m\n\u001B[0;32m---> 11\u001B[0;31m     \u001B[0mresult_df\u001B[0m \u001B[0;34m=\u001B[0m \u001B[0mfiltered_rows\u001B[0m\u001B[0;34m[\u001B[0m\u001B[0mselected_columns\u001B[0m\u001B[0;34m]\u001B[0m\u001B[0;34m\u001B[0m\u001B[0;34m\u001B[0m\u001B[0m\n\u001B[0m\u001B[1;32m     12\u001B[0m \u001B[0;34m\u001B[0m\u001B[0m\n\u001B[1;32m     13\u001B[0m     \u001B[0;32mreturn\u001B[0m \u001B[0mresult_df\u001B[0m\u001B[0;34m\u001B[0m\u001B[0;34m\u001B[0m\u001B[0m\n",
      "\u001B[0;32m~/Documents/GitHub/ECOPY_23241/venv/lib/python3.9/site-packages/pandas/core/frame.py\u001B[0m in \u001B[0;36m?\u001B[0;34m(self, key)\u001B[0m\n\u001B[1;32m   3879\u001B[0m             \u001B[0;32mreturn\u001B[0m \u001B[0mself\u001B[0m\u001B[0;34m.\u001B[0m\u001B[0m_getitem_slice\u001B[0m\u001B[0;34m(\u001B[0m\u001B[0mkey\u001B[0m\u001B[0;34m)\u001B[0m\u001B[0;34m\u001B[0m\u001B[0;34m\u001B[0m\u001B[0m\n\u001B[1;32m   3880\u001B[0m \u001B[0;34m\u001B[0m\u001B[0m\n\u001B[1;32m   3881\u001B[0m         \u001B[0;31m# Do we have a (boolean) DataFrame?\u001B[0m\u001B[0;34m\u001B[0m\u001B[0;34m\u001B[0m\u001B[0;34m\u001B[0m\u001B[0m\n\u001B[1;32m   3882\u001B[0m         \u001B[0;32mif\u001B[0m \u001B[0misinstance\u001B[0m\u001B[0;34m(\u001B[0m\u001B[0mkey\u001B[0m\u001B[0;34m,\u001B[0m \u001B[0mDataFrame\u001B[0m\u001B[0;34m)\u001B[0m\u001B[0;34m:\u001B[0m\u001B[0;34m\u001B[0m\u001B[0;34m\u001B[0m\u001B[0m\n\u001B[0;32m-> 3883\u001B[0;31m             \u001B[0;32mreturn\u001B[0m \u001B[0mself\u001B[0m\u001B[0;34m.\u001B[0m\u001B[0mwhere\u001B[0m\u001B[0;34m(\u001B[0m\u001B[0mkey\u001B[0m\u001B[0;34m)\u001B[0m\u001B[0;34m\u001B[0m\u001B[0;34m\u001B[0m\u001B[0m\n\u001B[0m\u001B[1;32m   3884\u001B[0m \u001B[0;34m\u001B[0m\u001B[0m\n\u001B[1;32m   3885\u001B[0m         \u001B[0;31m# Do we have a (boolean) 1d indexer?\u001B[0m\u001B[0;34m\u001B[0m\u001B[0;34m\u001B[0m\u001B[0;34m\u001B[0m\u001B[0m\n\u001B[1;32m   3886\u001B[0m         \u001B[0;32mif\u001B[0m \u001B[0mcom\u001B[0m\u001B[0;34m.\u001B[0m\u001B[0mis_bool_indexer\u001B[0m\u001B[0;34m(\u001B[0m\u001B[0mkey\u001B[0m\u001B[0;34m)\u001B[0m\u001B[0;34m:\u001B[0m\u001B[0;34m\u001B[0m\u001B[0;34m\u001B[0m\u001B[0m\n",
      "\u001B[0;32m~/Documents/GitHub/ECOPY_23241/venv/lib/python3.9/site-packages/pandas/core/generic.py\u001B[0m in \u001B[0;36m?\u001B[0;34m(self, cond, other, inplace, axis, level)\u001B[0m\n\u001B[1;32m  10599\u001B[0m                         \u001B[0mChainedAssignmentError\u001B[0m\u001B[0;34m,\u001B[0m\u001B[0;34m\u001B[0m\u001B[0;34m\u001B[0m\u001B[0m\n\u001B[1;32m  10600\u001B[0m                         \u001B[0mstacklevel\u001B[0m\u001B[0;34m=\u001B[0m\u001B[0;36m2\u001B[0m\u001B[0;34m,\u001B[0m\u001B[0;34m\u001B[0m\u001B[0;34m\u001B[0m\u001B[0m\n\u001B[1;32m  10601\u001B[0m                     )\n\u001B[1;32m  10602\u001B[0m         \u001B[0mother\u001B[0m \u001B[0;34m=\u001B[0m \u001B[0mcommon\u001B[0m\u001B[0;34m.\u001B[0m\u001B[0mapply_if_callable\u001B[0m\u001B[0;34m(\u001B[0m\u001B[0mother\u001B[0m\u001B[0;34m,\u001B[0m \u001B[0mself\u001B[0m\u001B[0;34m)\u001B[0m\u001B[0;34m\u001B[0m\u001B[0;34m\u001B[0m\u001B[0m\n\u001B[0;32m> 10603\u001B[0;31m         \u001B[0;32mreturn\u001B[0m \u001B[0mself\u001B[0m\u001B[0;34m.\u001B[0m\u001B[0m_where\u001B[0m\u001B[0;34m(\u001B[0m\u001B[0mcond\u001B[0m\u001B[0;34m,\u001B[0m \u001B[0mother\u001B[0m\u001B[0;34m,\u001B[0m \u001B[0minplace\u001B[0m\u001B[0;34m,\u001B[0m \u001B[0maxis\u001B[0m\u001B[0;34m,\u001B[0m \u001B[0mlevel\u001B[0m\u001B[0;34m)\u001B[0m\u001B[0;34m\u001B[0m\u001B[0;34m\u001B[0m\u001B[0m\n\u001B[0m",
      "\u001B[0;32m~/Documents/GitHub/ECOPY_23241/venv/lib/python3.9/site-packages/pandas/core/generic.py\u001B[0m in \u001B[0;36m?\u001B[0;34m(self, cond, other, inplace, axis, level)\u001B[0m\n\u001B[1;32m  10305\u001B[0m                     \u001B[0;32mraise\u001B[0m \u001B[0mValueError\u001B[0m\u001B[0;34m(\u001B[0m\u001B[0mmsg\u001B[0m\u001B[0;34m.\u001B[0m\u001B[0mformat\u001B[0m\u001B[0;34m(\u001B[0m\u001B[0mdtype\u001B[0m\u001B[0;34m=\u001B[0m\u001B[0mcond\u001B[0m\u001B[0;34m.\u001B[0m\u001B[0mdtype\u001B[0m\u001B[0;34m)\u001B[0m\u001B[0;34m)\u001B[0m\u001B[0;34m\u001B[0m\u001B[0;34m\u001B[0m\u001B[0m\n\u001B[1;32m  10306\u001B[0m             \u001B[0;32melse\u001B[0m\u001B[0;34m:\u001B[0m\u001B[0;34m\u001B[0m\u001B[0;34m\u001B[0m\u001B[0m\n\u001B[1;32m  10307\u001B[0m                 \u001B[0;32mfor\u001B[0m \u001B[0m_dt\u001B[0m \u001B[0;32min\u001B[0m \u001B[0mcond\u001B[0m\u001B[0;34m.\u001B[0m\u001B[0mdtypes\u001B[0m\u001B[0;34m:\u001B[0m\u001B[0;34m\u001B[0m\u001B[0;34m\u001B[0m\u001B[0m\n\u001B[1;32m  10308\u001B[0m                     \u001B[0;32mif\u001B[0m \u001B[0;32mnot\u001B[0m \u001B[0mis_bool_dtype\u001B[0m\u001B[0;34m(\u001B[0m\u001B[0m_dt\u001B[0m\u001B[0;34m)\u001B[0m\u001B[0;34m:\u001B[0m\u001B[0;34m\u001B[0m\u001B[0;34m\u001B[0m\u001B[0m\n\u001B[0;32m> 10309\u001B[0;31m                         \u001B[0;32mraise\u001B[0m \u001B[0mValueError\u001B[0m\u001B[0;34m(\u001B[0m\u001B[0mmsg\u001B[0m\u001B[0;34m.\u001B[0m\u001B[0mformat\u001B[0m\u001B[0;34m(\u001B[0m\u001B[0mdtype\u001B[0m\u001B[0;34m=\u001B[0m\u001B[0m_dt\u001B[0m\u001B[0;34m)\u001B[0m\u001B[0;34m)\u001B[0m\u001B[0;34m\u001B[0m\u001B[0;34m\u001B[0m\u001B[0m\n\u001B[0m\u001B[1;32m  10310\u001B[0m                 \u001B[0;32mif\u001B[0m \u001B[0mcond\u001B[0m\u001B[0;34m.\u001B[0m\u001B[0m_mgr\u001B[0m\u001B[0;34m.\u001B[0m\u001B[0many_extension_types\u001B[0m\u001B[0;34m:\u001B[0m\u001B[0;34m\u001B[0m\u001B[0;34m\u001B[0m\u001B[0m\n\u001B[1;32m  10311\u001B[0m                     \u001B[0;31m# GH51574: avoid object ndarray conversion later on\u001B[0m\u001B[0;34m\u001B[0m\u001B[0;34m\u001B[0m\u001B[0;34m\u001B[0m\u001B[0m\n\u001B[1;32m  10312\u001B[0m                     cond = cond._constructor(\n",
      "\u001B[0;31mValueError\u001B[0m: Boolean array expected for the condition, not object"
     ]
    }
   ],
   "source": [
    "import pandas as pd\n",
    "\n",
    "def sliced_view(input_df, columns_to_keep, column_to_filter, rows_to_keep):\n",
    "    # Az oszlopok kiválasztása a 'columns_to_keep' listával\n",
    "    selected_columns = input_df[columns_to_keep]\n",
    "\n",
    "    # Sorok szűrése az 'column_to_filter' oszlop alapján, a 'rows_to_keep' lista segítségével\n",
    "    filtered_rows = input_df[input_df[column_to_filter].isin(rows_to_keep)]\n",
    "\n",
    "    # Az eredmény DataFrame kiválasztása a kiválasztott oszlopok és szűrt sorok alapján\n",
    "    result_df = filtered_rows[selected_columns]\n",
    "\n",
    "    return result_df\n",
    "\n",
    "# Példa a függvény használatára egy tetszőleges adathalmazon\n",
    "# Ahol 'food' a bemeneti DataFrame, ['item_name', 'item_price'] a kiválasztott oszlopok,\n",
    "# 'item_name' az oszlop, amely alapján szűrünk, és ['Chicken Bowl', 'Steak Burrito'] az engedélyezett sorok\n",
    "sliced_data = sliced_view(food, ['item_name', 'item_price'], 'item_name', ['Chicken Bowl', 'Steak Burrito'])\n",
    "\n",
    "# Az \"sliced_data\" tartalmazza az eredmény DataFrame-t.\n"
   ]
  },
  {
   "cell_type": "code",
   "execution_count": null,
   "id": "6e731f8b0d4c77ee",
   "metadata": {
    "collapsed": false
   },
   "outputs": [],
   "source": []
  },
  {
   "cell_type": "code",
   "execution_count": null,
   "id": "47d70863b98e7ae3",
   "metadata": {
    "collapsed": false
   },
   "outputs": [],
   "source": [
    "\"\"\"\n",
    "12. Készíts egy függvényt, ami a bemeneti adatokat kiegészíti egy 'Quartile' oszloppal. Használd a tisztított adatokat. A kvartilis oszlop értékeit az ár alapján határozza meg:\n",
    "\n",
    "30 - : 'premium'\n",
    "20 - 29.99: 'high-cost'\n",
    "10 - 19.99: 'medium-cost\n",
    "0 - 9.99: 'low-cost'\n",
    "\n",
    "fv. név: generate_quartile\n",
    "bemenet: input_df\n",
    "return type: pandas.core.frame.DataFrame\n",
    "\n",
    "\"\"\""
   ]
  },
  {
   "cell_type": "code",
   "execution_count": 19,
   "id": "21d385ae84f4114d",
   "metadata": {
    "collapsed": false,
    "ExecuteTime": {
     "end_time": "2023-10-18T18:16:46.301981Z",
     "start_time": "2023-10-18T18:16:46.120845Z"
    }
   },
   "outputs": [],
   "source": [
    "import pandas as pd\n",
    "\n",
    "def generate_quartile(input_df):\n",
    "    # A \"Quartile\" oszlop létrehozása az árkategóriák alapján\n",
    "    input_df['Quartile'] = pd.cut(input_df['item_price'], bins=[0, 10, 20, 30, input_df['item_price'].max()], \n",
    "                                  labels=['low-cost', 'medium-cost', 'high-cost', 'premium'], right=False)\n",
    "    \n",
    "    return input_df\n",
    "\n",
    "# Példa a függvény használatára a tisztított \"food_cleaned\" DataFrame-en\n",
    "food_with_quartile = generate_quartile(food)\n",
    "\n",
    "# Az \"food_with_quartile\" tartalmazza az \"Quartile\" oszlopot a kiegészített adatokkal.\n"
   ]
  },
  {
   "cell_type": "code",
   "execution_count": null,
   "id": "3ad4b27111f25648",
   "metadata": {
    "collapsed": false
   },
   "outputs": [],
   "source": [
    "def generate_quarters(input_df):\n",
    "    def quartile(price):\n",
    "        if price <=30:\n",
    "            return 'premium'\n",
    "        elif 20 <= price <= 29.99:\n",
    "            return 'high-cost'\n",
    "        elif 10 <= price <= 19.99:\n",
    "            return 'medium-cost'\n",
    "        else:\n",
    "            return 'low-cost'\n",
    "\n",
    "    input_df['Quartile'] = input_df['Price'].apply(quartile)\n",
    "    return input_df"
   ]
  },
  {
   "cell_type": "code",
   "execution_count": null,
   "id": "bb70c884473a7679",
   "metadata": {
    "collapsed": false
   },
   "outputs": [],
   "source": [
    "\"\"\"\n",
    "13., Készíts egy függvényt, ami minden kvartilis értékhez kiszámítja, az átlagos árat. Használd az előző feladat eredményét bemenetként.\n",
    "\n",
    "fn név: average_price_in_quartiles\n",
    "bemenet: input_df\n",
    "return type: pandas.core.frame.DataFrame\n",
    "\n",
    "\"\"\""
   ]
  },
  {
   "cell_type": "code",
   "execution_count": 20,
   "id": "dad25f20c5ac3ec6",
   "metadata": {
    "collapsed": false,
    "ExecuteTime": {
     "end_time": "2023-10-18T18:18:36.255333Z",
     "start_time": "2023-10-18T18:18:36.107609Z"
    }
   },
   "outputs": [
    {
     "name": "stderr",
     "output_type": "stream",
     "text": [
      "/var/folders/m5/_bm86n6s0fx1lfrr51l630_c0000gn/T/ipykernel_29038/2216920457.py:5: FutureWarning: The default of observed=False is deprecated and will be changed to True in a future version of pandas. Pass observed=False to retain current behavior or observed=True to adopt the future default and silence this warning.\n",
      "  avg_price_in_quartiles = input_df.groupby('Quartile')['item_price'].mean().reset_index()\n"
     ]
    }
   ],
   "source": [
    "import pandas as pd\n",
    "\n",
    "def average_price_in_quartiles(input_df):\n",
    "    # Csoportosítás a \"Quartile\" oszlop alapján, majd átlagos ár kiszámítása\n",
    "    avg_price_in_quartiles = input_df.groupby('Quartile')['item_price'].mean().reset_index()\n",
    "\n",
    "    return avg_price_in_quartiles\n",
    "\n",
    "# Példa a függvény használatára az előző feladatban kiegészített \"food_with_quartile\" DataFrame-en\n",
    "average_prices_by_quartile = average_price_in_quartiles(food_with_quartile)\n",
    "\n",
    "# Az \"average_prices_by_quartile\" tartalmazza az átlagos árakat kvartilis kategóriánként.\n"
   ]
  },
  {
   "cell_type": "code",
   "execution_count": null,
   "id": "8a8aa5257e5e9f81",
   "metadata": {
    "collapsed": false
   },
   "outputs": [],
   "source": []
  },
  {
   "cell_type": "code",
   "execution_count": null,
   "id": "1fa60ba13b667576",
   "metadata": {
    "collapsed": false
   },
   "outputs": [],
   "source": [
    "\"\"\"\n",
    "14., Készíts egy függvényt ami minden kvartilis esetén visszadja az árak minimális és maximális értékét, valamint az átlagát.\n",
    "\n",
    "fv. név: minmaxmean_price_in_quartile\n",
    "bemenet: input_df\n",
    "return type: pandas.core.frame.DataFrame\n",
    "\"\"\""
   ]
  },
  {
   "cell_type": "code",
   "execution_count": 21,
   "id": "a4166f92696d8f3c",
   "metadata": {
    "collapsed": false,
    "ExecuteTime": {
     "end_time": "2023-10-18T18:19:38.609816Z",
     "start_time": "2023-10-18T18:19:38.490717Z"
    }
   },
   "outputs": [
    {
     "name": "stderr",
     "output_type": "stream",
     "text": [
      "/var/folders/m5/_bm86n6s0fx1lfrr51l630_c0000gn/T/ipykernel_29038/1517798637.py:5: FutureWarning: The default of observed=False is deprecated and will be changed to True in a future version of pandas. Pass observed=False to retain current behavior or observed=True to adopt the future default and silence this warning.\n",
      "  minmaxmean_price = input_df.groupby('Quartile')['item_price'].agg(['min', 'max', 'mean']).reset_index()\n"
     ]
    }
   ],
   "source": [
    "import pandas as pd\n",
    "\n",
    "def minmaxmean_price_in_quartile(input_df):\n",
    "    # Csoportosítás a \"Quartile\" oszlop alapján, majd minimális, maximális és átlagos árak kiszámítása\n",
    "    minmaxmean_price = input_df.groupby('Quartile')['item_price'].agg(['min', 'max', 'mean']).reset_index()\n",
    "\n",
    "    return minmaxmean_price\n",
    "\n",
    "# Példa a függvény használatára az előző feladatban kiegészített \"food_with_quartile\" DataFrame-en\n",
    "minmaxmean_prices_by_quartile = minmaxmean_price_in_quartile(food_with_quartile)\n",
    "\n",
    "# Az \"minmaxmean_prices_by_quartile\" tartalmazza a minimális, maximális és átlagos árakat kvartilis kategóriánként.\n"
   ]
  },
  {
   "cell_type": "code",
   "execution_count": null,
   "id": "accb935cb089b427",
   "metadata": {
    "collapsed": false
   },
   "outputs": [],
   "source": []
  },
  {
   "cell_type": "code",
   "execution_count": null,
   "id": "10b9f08f28204e28",
   "metadata": {
    "collapsed": false
   },
   "outputs": [],
   "source": [
    "\"\"\"\n",
    "15. Készíts egy függvényt, ami létrehoz egy listát, benne number_of_trajectories db listával. A belső listák létrehozásának logikája a következő:\n",
    "    A bemeneti paraméterként kapott distribution osztály felhasználásával (UniformDistribution 0,1 paraméterekkel) generálj length_of_trajectory véletlen számot\n",
    "    A belső lista tartalmazza a generált számok kumulatív átlagát.\n",
    "    Ismételd meg number_of_trajectories alkalommal (mindegyik belső listába egyszer)\n",
    "    A seed értéke legyen 42.\n",
    "\n",
    "függvény bemenete: distribution, number_of_trajectories, length_of_trajectory\n",
    "kimeneti típus: List    \n",
    "függvény neve: gen_uniform_mean_trajectories\n",
    "\"\"\""
   ]
  },
  {
   "cell_type": "code",
   "execution_count": null,
   "id": "47062ae9a2ba3c0d",
   "metadata": {
    "collapsed": false
   },
   "outputs": [],
   "source": [
    "from random import seed, uniform\n",
    "\n",
    "def gen_uniform_mean_trajectories(distribution, number_of_trajectories, length_of_trajectory):\n",
    "    # Inicializáljuk a random generátort a megadott seed értékkel (42)\n",
    "    seed(42)\n",
    "\n",
    "    # Lista a kimeneti trajectóriák tárolására\n",
    "    trajectories = []\n",
    "\n",
    "    for _ in range(number_of_trajectories):\n",
    "        # Kezdeti érték az adott trajectória kumulatív átlagához\n",
    "        cumulative_average = 0.0\n",
    "\n",
    "        # Trajectória létrehozása\n",
    "        trajectory = []\n",
    "\n",
    "        for _ in range(length_of_trajectory):\n",
    "            # Véletlenszerűen generált szám uniform eloszlás alapján\n",
    "            random_value = distribution.uniform(0, 1)\n",
    "\n",
    "            # Kumulatív átlag frissítése\n",
    "            cumulative_average = (cumulative_average + random_value) / (len(trajectory) + 1)\n",
    "\n",
    "            # Hozzáadjuk a kumulatív átlagot a trajectóriához\n",
    "            trajectory.append(cumulative_average)\n",
    "\n",
    "        # Hozzáadjuk a trajectóriát a kimeneti listához\n",
    "        trajectories.append(trajectory)\n",
    "\n",
    "    return trajectories\n",
    "\n",
    "# Példa a függvény használatára\n",
    "from statistics import mean\n",
    "from random import Random\n",
    "\n",
    "# UniformDistribution 0,1 paraméterekkel\n",
    "rand = Random()\n",
    "distribution = rand.uniform\n",
    "\n",
    "number_of_trajectories = 5\n",
    "length_of_trajectory = 10\n",
    "\n",
    "result = gen_uniform_mean_trajectories(distribution, number_of_trajectories, length_of_trajectory)\n",
    "\n",
    "# Az \"result\" tartalmazza a generált trajectóriákat\n",
    "# Az alábbi példakód kiírja az egyes trajectóriák átlagát\n",
    "for i, trajectory in enumerate(result):\n",
    "    avg = mean(trajectory)\n",
    "    print(f\"Trajectory {i+1} average: {avg:.2f}\")\n"
   ]
  },
  {
   "cell_type": "code",
   "execution_count": null,
   "id": "c1b1f595c241254b",
   "metadata": {
    "collapsed": false
   },
   "outputs": [],
   "source": []
  },
  {
   "cell_type": "code",
   "execution_count": null,
   "id": "3857db99deaa3a1a",
   "metadata": {
    "collapsed": false
   },
   "outputs": [],
   "source": [
    "\"\"\"\n",
    "16. Készíts egy függvényt, ami létrehoz egy listát, benne number_of_trajectories db listával. A belső listák létrehozásának logikája a következő:\n",
    "    A bemeneti paraméterként kapott distribution osztály felhasználásával (LogisticDistribution 1, 3.3 paraméterekkel) generálj length_of_trajectory véletlen számot\n",
    "    A belső lista tartalmazza a generált számok kumulatív átlagát.\n",
    "    Ismételd meg number_of_trajectories alkalommal (mindegyik belső listába egyszer)\n",
    "    A seed értéke legyen 42.\n",
    "\n",
    "függvény bemenete: distribution, number_of_trajectories, length_of_trajectory\n",
    "kimeneti típus: List    \n",
    "függvény neve: gen_logistic_mean_trajectories\n",
    "\"\"\""
   ]
  },
  {
   "cell_type": "code",
   "execution_count": null,
   "outputs": [],
   "source": [
    "from random import seed, gauss\n",
    "\n",
    "def gen_logistic_mean_trajectories(distribution, number_of_trajectories, length_of_trajectory):\n",
    "    # Inicializáljuk a random generátort a megadott seed értékkel (42)\n",
    "    seed(42)\n",
    "\n",
    "    # Lista a kimeneti trajectóriák tárolására\n",
    "    trajectories = []\n",
    "\n",
    "    for _ in range(number_of_trajectories):\n",
    "        # Kezdeti érték az adott trajectória kumulatív átlagához\n",
    "        cumulative_average = 0.0\n",
    "\n",
    "        # Trajectória létrehozása\n",
    "        trajectory = []\n",
    "\n",
    "        for _ in range(length_of_trajectory):\n",
    "            # Véletlenszerűen generált szám Gauss-eloszlás alapján\n",
    "            random_value = distribution.gauss(1, 3.3)\n",
    "\n",
    "            # Kumulatív átlag frissítése\n",
    "            cumulative_average = (cumulative_average + random_value) / (len(trajectory) + 1)\n",
    "\n",
    "            # Hozzáadjuk a kumulatív átlagot a trajectóriához\n",
    "            trajectory.append(cumulative_average)\n",
    "\n",
    "        # Hozzáadjuk a trajectóriát a kimeneti listához\n",
    "        trajectories.append(trajectory)\n",
    "\n",
    "    return trajectories\n",
    "\n",
    "# Példa a függvény használatára\n",
    "from statistics import mean\n",
    "from random import Random\n",
    "\n",
    "# LogisticDistribution 1, 3.3 paraméterekkel\n",
    "rand = Random()\n",
    "distribution = rand.gauss\n",
    "\n",
    "number_of_trajectories = 5\n",
    "length_of_trajectory = 10\n",
    "\n",
    "result = gen_logistic_mean_trajectories(distribution, number_of_trajectories, length_of_trajectory)\n",
    "\n",
    "# Az \"result\" tartalmazza a generált trajectóriákat\n",
    "# Az alábbi példakód kiírja az egyes trajectóriák átlagát\n",
    "for i, trajectory in enumerate(result):\n",
    "    avg = mean(trajectory)\n",
    "    print(f\"Trajectory {i+1} average: {avg:.2f}\")\n",
    "\n"
   ],
   "metadata": {
    "collapsed": false
   },
   "id": "7abb690a4366a416"
  },
  {
   "cell_type": "code",
   "execution_count": null,
   "outputs": [],
   "source": [],
   "metadata": {
    "collapsed": false
   },
   "id": "9ef153c86975f584"
  },
  {
   "cell_type": "code",
   "execution_count": null,
   "outputs": [],
   "source": [
    "\"\"\"\n",
    "17. Készíts egy függvényt, ami létrehoz egy listát, benne number_of_trajectories db listával. A belső listák létrehozásának logikája a következő:\n",
    "    A bemeneti paraméterként kapott distribution osztály felhasználásával (LaplaceDistribution 1, 3.3 paraméterekkel) generálj length_of_trajectory véletlen számot\n",
    "    A belső lista tartalmazza a generált számok kumulatív átlagát.\n",
    "    Ismételd meg number_of_trajectories alkalommal (mindegyik belső listába egyszer)\n",
    "    A seed értéke legyen 42.\n",
    "\n",
    "függvény bemenete: distribution, number_of_trajectories, length_of_trajectory\n",
    "kimeneti típus: List    \n",
    "függvény neve: gen_laplace_mean_trajectories\n",
    "\"\"\""
   ],
   "metadata": {
    "collapsed": false
   },
   "id": "4a0a34d82f78f1f7"
  },
  {
   "cell_type": "code",
   "execution_count": null,
   "outputs": [],
   "source": [
    "from random import seed, gauss\n",
    "\n",
    "def gen_laplace_mean_trajectories(distribution, number_of_trajectories, length_of_trajectory):\n",
    "    # Inicializáljuk a random generátort a megadott seed értékkel (42)\n",
    "    seed(42)\n",
    "\n",
    "    # Lista a kimeneti trajectóriák tárolására\n",
    "    trajectories = []\n",
    "\n",
    "    for _ in range(number_of_trajectories):\n",
    "        # Kezdeti érték az adott trajectória kumulatív átlagához\n",
    "        cumulative_average = 0.0\n",
    "\n",
    "        # Trajectória létrehozása\n",
    "        trajectory = []\n",
    "\n",
    "        for _ in range(length_of_trajectory):\n",
    "            # Véletlenszerűen generált szám Gauss-eloszlás alapján\n",
    "            random_value = distribution.gauss(1, 3.3)\n",
    "\n",
    "            # Kumulatív átlag frissítése\n",
    "            cumulative_average = (cumulative_average + random_value) / (len(trajectory) + 1)\n",
    "\n",
    "            # Hozzáadjuk a kumulatív átlagot a trajectóriához\n",
    "            trajectory.append(cumulative_average)\n",
    "\n",
    "        # Hozzáadjuk a trajectóriát a kimeneti listához\n",
    "        trajectories.append(trajectory)\n",
    "\n",
    "    return trajectories\n",
    "\n",
    "# Példa a függvény használatára\n",
    "from statistics import mean\n",
    "from random import Random\n",
    "\n",
    "# LaplaceDistribution 1, 3.3 paraméterekkel\n",
    "rand = Random()\n",
    "distribution = rand.gauss\n",
    "\n",
    "number_of_trajectories = 5\n",
    "length_of_trajectory = 10\n",
    "\n",
    "result = gen_laplace_mean_trajectories(distribution, number_of_trajectories, length_of_trajectory)\n",
    "\n",
    "# Az \"result\" tartalmazza a generált trajectóriákat\n",
    "# Az alábbi példakód kiírja az egyes trajectóriák átlagát\n",
    "for i, trajectory in enumerate(result):\n",
    "    avg = mean(trajectory)\n",
    "    print(f\"Trajectory {i+1} average: {avg:.2f}\")\n"
   ],
   "metadata": {
    "collapsed": false
   },
   "id": "a77e96e5081b079b"
  },
  {
   "cell_type": "code",
   "execution_count": null,
   "outputs": [],
   "source": [],
   "metadata": {
    "collapsed": false
   },
   "id": "3846a1c67739b3ce"
  },
  {
   "cell_type": "code",
   "execution_count": null,
   "outputs": [],
   "source": [
    "\"\"\"\n",
    "18. Készíts egy függvényt, ami létrehoz egy listát, benne number_of_trajectories db listával. A belső listák létrehozásának logikája a következő:\n",
    "    A bemeneti paraméterként kapott distribution osztály felhasználásával (CauchyDistribution 2,4 paraméterekkel) generálj length_of_trajectory véletlen számot\n",
    "    A belső lista tartalmazza a generált számok kumulatív átlagát.\n",
    "    Ismételd meg number_of_trajectories alkalommal (mindegyik belső listába egyszer)\n",
    "    A seed értéke legyen 42.\n",
    "\n",
    "függvény bemenete: distribution, number_of_trajectories, length_of_trajectory\n",
    "kimeneti típus: List    \n",
    "függvény neve: gen_cauchy_mean_trajectories\n",
    "\"\"\""
   ],
   "metadata": {
    "collapsed": false
   },
   "id": "4eac338e5ed7e03b"
  },
  {
   "cell_type": "code",
   "execution_count": null,
   "outputs": [],
   "source": [
    "from random import seed, cauchy\n",
    "\n",
    "def gen_cauchy_mean_trajectories(distribution, number_of_trajectories, length_of_trajectory, seed_value=42):\n",
    "    seed(seed_value)  # Beállítjuk a seed-et a visszavonhatóság érdekében\n",
    "    \n",
    "    trajectories = []  # Az eredmény trajektóriákat tartalmazó lista\n",
    "\n",
    "    for _ in range(number_of_trajectories):\n",
    "        trajectory = []  # Az adott trajektória kezdetben üres lista\n",
    "        cumulative_sum = 0\n",
    "        \n",
    "        for _ in range(length_of_trajectory):\n",
    "            # A megadott eloszlás felhasználásával generálunk egy véletlen számot\n",
    "            random_number = distribution(2, 4)\n",
    "            cumulative_sum += random_number\n",
    "            trajectory.append(cumulative_sum)\n",
    "        \n",
    "        trajectories.append(trajectory)\n",
    "\n",
    "    return trajectories\n",
    "\n",
    "# Példa a függvény használatára:\n",
    "from statistics import CauchyDistribution  # Az eloszlás importálása\n",
    "\n",
    "number_of_trajectories = 5\n",
    "length_of_trajectory = 10\n",
    "\n",
    "result = gen_cauchy_mean_trajectories(CauchyDistribution, number_of_trajectories, length_of_trajectory)\n",
    "for i, trajectory in enumerate(result):\n",
    "    print(f\"Trajektória {i+1}: {trajectory}\")\n"
   ],
   "metadata": {
    "collapsed": false
   },
   "id": "46ed1c9a25c56aec"
  },
  {
   "cell_type": "code",
   "execution_count": null,
   "outputs": [],
   "source": [
    "from random import seed, cauchy\n",
    "\n",
    "def gen_cauchy_mean_trajectories(distribution, number_of_trajectories, length_of_trajectory):\n",
    "    # Inicializáljuk a random generátort a megadott seed értékkel (42)\n",
    "    seed(42)\n",
    "\n",
    "    # Lista a kimeneti trajectóriák tárolására\n",
    "    trajectories = []\n",
    "\n",
    "    for _ in range(number_of_trajectories):\n",
    "        # Kezdeti érték az adott trajectória kumulatív átlagához\n",
    "        cumulative_average = 0.0\n",
    "\n",
    "        # Trajectória létrehozása\n",
    "        trajectory = []\n",
    "\n",
    "        for _ in range(length_of_trajectory):\n",
    "            # Véletlenszerűen generált szám Cauchy-eloszlás alapján\n",
    "            random_value = distribution(2, 4)\n",
    "\n",
    "            # Kumulatív átlag frissítése\n",
    "            cumulative_average = (cumulative_average + random_value) / (len(trajectory) + 1)\n",
    "\n",
    "            # Hozzáadjuk a kumulatív átlagot a trajectóriához\n",
    "            trajectory.append(cumulative_average)\n",
    "\n",
    "        # Hozzáadjuk a trajectóriát a kimeneti listához\n",
    "        trajectories.append(trajectory)\n",
    "\n",
    "    return trajectories\n",
    "\n",
    "# Példa a függvény használatára\n",
    "from statistics import mean\n",
    "from random import Random\n",
    "\n",
    "# CauchyDistribution 2, 4 paraméterekkel\n",
    "rand = Random()\n",
    "distribution = rand.cauchy\n",
    "\n",
    "number_of_trajectories = 5\n",
    "length_of_trajectory = 10\n",
    "\n",
    "result = gen_cauchy_mean_trajectories(distribution, number_of_trajectories, length_of_trajectory)\n",
    "\n",
    "# Az \"result\" tartalmazza a generált trajectóriákat\n",
    "# Az alábbi példakód kiírja az egyes trajectóriák átlagát\n",
    "for i, trajectory in enumerate(result):\n",
    "    avg = mean(trajectory)\n",
    "    print(f\"Trajectory {i+1} average: {avg:.2f}\")\n"
   ],
   "metadata": {
    "collapsed": false
   },
   "id": "c9c118d43729fc7a"
  },
  {
   "cell_type": "code",
   "execution_count": null,
   "outputs": [],
   "source": [
    "\"\"\"\n",
    "19. Készíts egy függvényt, ami létrehoz egy listát, benne number_of_trajectories db listával. A belső listák létrehozásának logikája a következő:\n",
    "    A bemeneti paraméterként kapott distribution osztály felhasználásával (ChiSquaredDistribution 3 paraméterrel) generálj length_of_trajectory véletlen számot\n",
    "    A belső lista tartalmazza a generált számok kumulatív átlagát.\n",
    "    Ismételd meg number_of_trajectories alkalommal (mindegyik belső listába egyszer)\n",
    "    A seed értéke legyen 42.\n",
    "\n",
    "függvény bemenete: distribution, number_of_trajectories, length_of_trajectory\n",
    "kimeneti típus: List    \n",
    "függvény neve: gen_chi2_mean_trajectories\n",
    "\"\"\""
   ],
   "metadata": {
    "collapsed": false
   },
   "id": "a506ece2fa8329f2"
  },
  {
   "cell_type": "code",
   "execution_count": null,
   "outputs": [],
   "source": [
    "from random import seed, chisquare\n",
    "\n",
    "def gen_chi2_mean_trajectories(distribution, number_of_trajectories, length_of_trajectory):\n",
    "    # Inicializáljuk a random generátort a megadott seed értékkel (42)\n",
    "    seed(42)\n",
    "\n",
    "    # Lista a kimeneti trajectóriák tárolására\n",
    "    trajectories = []\n",
    "\n",
    "    for _ in range(number_of_trajectories):\n",
    "        # Kezdeti érték az adott trajectória kumulatív átlagához\n",
    "        cumulative_average = 0.0\n",
    "\n",
    "        # Trajectória létrehozása\n",
    "        trajectory = []\n",
    "\n",
    "        for _ in range(length_of_trajectory):\n",
    "            # Véletlenszerűen generált szám Chi-squared eloszlás alapján\n",
    "            random_value = distribution(3)\n",
    "\n",
    "            # Kumulatív átlag frissítése\n",
    "            cumulative_average = (cumulative_average + random_value) / (len(trajectory) + 1)\n",
    "\n",
    "            # Hozzáadjuk a kumulatív átlagot a trajectóriához\n",
    "            trajectory.append(cumulative_average)\n",
    "\n",
    "        # Hozzáadjuk a trajectóriát a kimeneti listához\n",
    "        trajectories.append(trajectory)\n",
    "\n",
    "    return trajectories\n",
    "\n",
    "# Példa a függvény használatára\n",
    "from statistics import mean\n",
    "from random import Random\n",
    "\n",
    "# ChiSquaredDistribution 3 paraméterrel\n",
    "rand = Random()\n",
    "distribution = rand.gammavariate\n",
    "\n",
    "number_of_trajectories = 5\n",
    "length_of_trajectory = 10\n",
    "\n",
    "result = gen_chi2_mean_trajectories(distribution, number_of_trajectories, length_of_trajectory)\n",
    "\n",
    "# Az \"result\" tartalmazza a generált trajectóriákat\n",
    "# Az alábbi példakód kiírja az egyes trajectóriák átlagát\n",
    "for i, trajectory in enumerate(result):\n",
    "    avg = mean(trajectory)\n",
    "    print(f\"Trajectory {i+1} average: {avg:.2f}\")\n"
   ],
   "metadata": {
    "collapsed": false
   },
   "id": "7571d5df9c5435c"
  },
  {
   "cell_type": "code",
   "execution_count": null,
   "outputs": [],
   "source": [],
   "metadata": {
    "collapsed": false
   },
   "id": "cec5861b841868fa"
  }
 ],
 "metadata": {
  "kernelspec": {
   "display_name": "Python 3 (ipykernel)",
   "language": "python",
   "name": "python3"
  },
  "language_info": {
   "codemirror_mode": {
    "name": "ipython",
    "version": 3
   },
   "file_extension": ".py",
   "mimetype": "text/x-python",
   "name": "python",
   "nbconvert_exporter": "python",
   "pygments_lexer": "ipython3",
   "version": "3.10.4"
  }
 },
 "nbformat": 4,
 "nbformat_minor": 5
}
