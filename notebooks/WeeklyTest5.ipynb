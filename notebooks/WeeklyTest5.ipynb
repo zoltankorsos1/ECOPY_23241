{
 "cells": [
  {
   "cell_type": "markdown",
   "id": "de9d9737616514b8",
   "metadata": {
    "collapsed": false
   },
   "source": [
    "## Az eredményeket mentsd a src/weekly modul-ba weekly_test_5.py néven"
   ]
  },
  {
   "cell_type": "markdown",
   "id": "a9789db8f0fbd7ec",
   "metadata": {
    "collapsed": false
   },
   "source": [
    "#### Használható modulok: pandas, typing, matplotlib, random, src.utils, src.weekly, str"
   ]
  },
  {
   "cell_type": "code",
   "execution_count": null,
   "id": "dfea6e648868022e",
   "metadata": {
    "collapsed": false
   },
   "outputs": [],
   "source": [
    "from pathlib import Path\n",
    "\n",
    "file_to_load = Path.cwd().parent.joinpath('data').joinpath('chipotle.tsv')"
   ]
  },
  {
   "cell_type": "code",
   "execution_count": null,
   "id": "9d26aec7b4e97407",
   "metadata": {
    "collapsed": false
   },
   "outputs": [],
   "source": [
    "\"\"\"\n",
    "1., Olvasd be a data mappa chipotle.tsv nevű fájlját egy dataframe-be. A betöltött   adatokat food nevű változóban mentse. A következő feladatokban a kiinduló fájlt csak akkor írd felül, ha jelezve van.\n",
    "\"\"\""
   ]
  },
  {
   "cell_type": "code",
   "execution_count": null,
   "id": "f1945d927f8109c4",
   "metadata": {
    "collapsed": false
   },
   "outputs": [],
   "source": []
  },
  {
   "cell_type": "code",
   "execution_count": null,
   "outputs": [],
   "source": [],
   "metadata": {
    "collapsed": false
   },
   "id": "f35d60f5979c143f"
  },
  {
   "cell_type": "code",
   "execution_count": null,
   "outputs": [],
   "source": [
    "\"\"\"\n",
    "2., Készts egy függvényt, ami a bemeneti adattömbben átalakítja az item_price értékeit float-ra. Az eredeti adatokat a függvény ne módosítsa. A kapott, tisztított adatokkal írd felül a food változót.\n",
    "\n",
    "függvény név: change_price_to_float\n",
    "bemenet: input_df\n",
    "kimeneti típus: pandas.core.frame.DataFrame\n",
    "\"\"\""
   ],
   "metadata": {
    "collapsed": false
   },
   "id": "d42ee754b557dcef"
  },
  {
   "cell_type": "code",
   "execution_count": null,
   "outputs": [],
   "source": [],
   "metadata": {
    "collapsed": false
   },
   "id": "62f342effc8f0d82"
  },
  {
   "cell_type": "code",
   "execution_count": null,
   "outputs": [],
   "source": [],
   "metadata": {
    "collapsed": false
   },
   "id": "97a528d6564e3cde"
  },
  {
   "cell_type": "code",
   "execution_count": null,
   "id": "b79c977da040d844",
   "metadata": {
    "collapsed": false
   },
   "outputs": [],
   "source": [
    "\"\"\"\n",
    "3., Készíts egy függvényt, ami megmondja, hogy hány megfigyelés található az adathalmazban\n",
    "\n",
    "függvény név: number_of_observations\n",
    "bemenet: input_df\n",
    "kimeneti típus: int\n",
    "\"\"\""
   ]
  },
  {
   "cell_type": "code",
   "execution_count": null,
   "id": "505baa2089524304",
   "metadata": {
    "collapsed": false
   },
   "outputs": [],
   "source": []
  },
  {
   "cell_type": "code",
   "execution_count": null,
   "id": "9d190eb6f3a482b6",
   "metadata": {
    "collapsed": false
   },
   "outputs": [],
   "source": []
  },
  {
   "cell_type": "code",
   "execution_count": null,
   "id": "dd10fafbf699543d",
   "metadata": {
    "collapsed": false
   },
   "outputs": [],
   "source": [
    "\"\"\"\n",
    "4., Készíts egy függvényt, ami visszadja a termék neveket és az áraikat.\n",
    "\n",
    "függvény név: items_and_prices\n",
    "bemenet: input_df\n",
    "kimeneti típus: pandas.core.frame.DataFrame\n",
    "\"\"\""
   ]
  },
  {
   "cell_type": "code",
   "execution_count": null,
   "id": "a58cb336d2bac95d",
   "metadata": {
    "collapsed": false
   },
   "outputs": [],
   "source": []
  },
  {
   "cell_type": "code",
   "execution_count": null,
   "id": "47f914b529be356b",
   "metadata": {
    "collapsed": false
   },
   "outputs": [],
   "source": []
  },
  {
   "cell_type": "code",
   "execution_count": null,
   "id": "a35053917db8723e",
   "metadata": {
    "collapsed": false
   },
   "outputs": [],
   "source": [
    "\"\"\"\n",
    "5., Készíts egy függvényt, ami sorba rendezi az termékeket az áruk alapján, csökkenő sorrendben. Használd az előző  függvény eredményét.\n",
    "\n",
    "függvény név: sorted_by_price\n",
    "bemenet: input_df\n",
    "kimeneti típus: pandas.core.frame.DataFrame\n",
    "\n",
    "\"\"\""
   ]
  },
  {
   "cell_type": "code",
   "execution_count": null,
   "id": "5c764033a4ca200b",
   "metadata": {
    "collapsed": false
   },
   "outputs": [],
   "source": []
  },
  {
   "cell_type": "code",
   "execution_count": null,
   "id": "a10e9e934b2a98b8",
   "metadata": {
    "collapsed": false
   },
   "outputs": [],
   "source": []
  },
  {
   "cell_type": "code",
   "execution_count": null,
   "id": "30fd1aa0c59afb47",
   "metadata": {
    "collapsed": false
   },
   "outputs": [],
   "source": [
    "\"\"\"\n",
    "6., Készíts egy függvényt, ami visszaadja az átlagos árat.\n",
    "\n",
    "függvény név: avg_price\n",
    "bemenet: input_df\n",
    "kimeneti típus: float\n",
    "\n",
    "\"\"\""
   ]
  },
  {
   "cell_type": "code",
   "execution_count": null,
   "id": "44865d1982f4fe17",
   "metadata": {
    "collapsed": false
   },
   "outputs": [],
   "source": []
  },
  {
   "cell_type": "code",
   "execution_count": null,
   "id": "8d4529f9fc423a7",
   "metadata": {
    "collapsed": false
   },
   "outputs": [],
   "source": []
  },
  {
   "cell_type": "code",
   "execution_count": null,
   "id": "4637c401e0e6352c",
   "metadata": {
    "collapsed": false
   },
   "outputs": [],
   "source": [
    "\"\"\"\n",
    "7., Készíts egy függvényt, ami visszadja azokat az egyedi termékeket (név, feltét és ár szempontjából egyedi), amelyek ára 10 dollár felett van\n",
    "\n",
    "függvény név: unique_items_over_ten_dollars\n",
    "bement: input_df\n",
    "kimeneti típus: pandas.core.frame.DataFrame\n",
    "\n",
    "\"\"\""
   ]
  },
  {
   "cell_type": "code",
   "execution_count": null,
   "id": "f1dd81478909c86c",
   "metadata": {
    "collapsed": false
   },
   "outputs": [],
   "source": []
  },
  {
   "cell_type": "code",
   "execution_count": null,
   "id": "5c1dc290a99cf46c",
   "metadata": {
    "collapsed": false
   },
   "outputs": [],
   "source": []
  },
  {
   "cell_type": "code",
   "execution_count": null,
   "id": "ff27a788246be43c",
   "metadata": {
    "collapsed": false
   },
   "outputs": [],
   "source": [
    "\"\"\"\n",
    "8., Készíts egy függvényt, ami visszaadja azon termékek neveit, amelyek neve 'S'-el kezdődik.\n",
    "\n",
    "fv. neve: items_starting_with_s\n",
    "bemenet: input_df\n",
    "kimeneti típus: pandas.core.frame.DataFrame\n",
    "\"\"\""
   ]
  },
  {
   "cell_type": "code",
   "execution_count": null,
   "id": "2ebc475c23f0de6e",
   "metadata": {
    "collapsed": false
   },
   "outputs": [],
   "source": []
  },
  {
   "cell_type": "code",
   "execution_count": null,
   "id": "a4eef25889cb8347",
   "metadata": {
    "collapsed": false
   },
   "outputs": [],
   "source": []
  },
  {
   "cell_type": "code",
   "execution_count": null,
   "id": "2293e3b440a8ae85",
   "metadata": {
    "collapsed": false
   },
   "outputs": [],
   "source": [
    "\"\"\"\n",
    "9. Készíts egy függvényt, ami visszaadja az első 3 oszlopot. Használd a tisztított.\n",
    "\n",
    "fv. név: first_three_columns\n",
    "bemenet: input_df\n",
    "return típus: pandas.core.frame.DataFrame\n",
    "\n",
    "\"\"\""
   ]
  },
  {
   "cell_type": "code",
   "execution_count": null,
   "id": "a192f2eebf0bb24d",
   "metadata": {
    "collapsed": false
   },
   "outputs": [],
   "source": []
  },
  {
   "cell_type": "code",
   "execution_count": null,
   "id": "dc174ca46e9dea9b",
   "metadata": {
    "collapsed": false
   },
   "outputs": [],
   "source": []
  },
  {
   "cell_type": "code",
   "execution_count": null,
   "id": "a9a68b16090a09f7",
   "metadata": {
    "collapsed": false
   },
   "outputs": [],
   "source": [
    "\"\"\"\n",
    "10. Készíts egy függvényt, ami visszaadja az összes oszlopot az utolsó 2-on kívül. Használd a tisztított adatokat.\n",
    "\n",
    "fv. név: every_column_except_last_two\n",
    "bemenet: input_df\n",
    "return típus: pandas.core.frame.DataFrame\n",
    "\n",
    "\"\"\""
   ]
  },
  {
   "cell_type": "code",
   "execution_count": null,
   "id": "1d0754a3513e5eec",
   "metadata": {
    "collapsed": false
   },
   "outputs": [],
   "source": []
  },
  {
   "cell_type": "code",
   "execution_count": null,
   "id": "64582e56a87a8160",
   "metadata": {
    "collapsed": false
   },
   "outputs": [],
   "source": []
  },
  {
   "cell_type": "code",
   "execution_count": null,
   "id": "376c202b0fe487aa",
   "metadata": {
    "collapsed": false
   },
   "outputs": [],
   "source": [
    "\"\"\"\n",
    "11. Készíts egy függvényt, amely tetszőleges oszlopokat és sorokat ad vissza a bemeneti adatokból. A sorokat és oszlopokat listák formájában adjuk be a függvénynek. A sorokat egy bemeneti oszlop alapján szűrjük.\n",
    "\n",
    "fv. név: sliced_view\n",
    "bemenet: input_df, columns_to_keep, column_to_filter, rows_to_keep\n",
    "return type: pandas.core.frame.DataFrame\n",
    "\n",
    "\"\"\""
   ]
  },
  {
   "cell_type": "code",
   "execution_count": null,
   "id": "3596668112e27e6",
   "metadata": {
    "collapsed": false
   },
   "outputs": [],
   "source": []
  },
  {
   "cell_type": "code",
   "execution_count": null,
   "id": "6e731f8b0d4c77ee",
   "metadata": {
    "collapsed": false
   },
   "outputs": [],
   "source": []
  },
  {
   "cell_type": "code",
   "execution_count": null,
   "id": "47d70863b98e7ae3",
   "metadata": {
    "collapsed": false
   },
   "outputs": [],
   "source": [
    "\"\"\"\n",
    "12. Készíts egy függvényt, ami a bemeneti adatokat kiegészíti egy 'Quartile' oszloppal. Használd a tisztított adatokat. A kvartilis oszlop értékeit az ár alapján határozza meg:\n",
    "\n",
    "30 - : 'premium'\n",
    "20 - 29.99: 'high-cost'\n",
    "10 - 19.99: 'medium-cost\n",
    "0 - 9.99: 'low-cost'\n",
    "\n",
    "fv. név: generate_quartile\n",
    "bemenet: input_df\n",
    "return type: pandas.core.frame.DataFrame\n",
    "\n",
    "\"\"\""
   ]
  },
  {
   "cell_type": "code",
   "execution_count": null,
   "id": "21d385ae84f4114d",
   "metadata": {
    "collapsed": false
   },
   "outputs": [],
   "source": []
  },
  {
   "cell_type": "code",
   "execution_count": null,
   "id": "3ad4b27111f25648",
   "metadata": {
    "collapsed": false
   },
   "outputs": [],
   "source": []
  },
  {
   "cell_type": "code",
   "execution_count": null,
   "id": "bb70c884473a7679",
   "metadata": {
    "collapsed": false
   },
   "outputs": [],
   "source": [
    "\"\"\"\n",
    "13., Készíts egy függvényt, ami minden kvartilis értékhez kiszámítja, az átlagos árat. Használd az előző feladat eredményét bemenetként.\n",
    "\n",
    "fn név: average_price_in_quartiles\n",
    "bemenet: input_df\n",
    "return type: pandas.core.frame.DataFrame\n",
    "\n",
    "\"\"\""
   ]
  },
  {
   "cell_type": "code",
   "execution_count": null,
   "id": "dad25f20c5ac3ec6",
   "metadata": {
    "collapsed": false
   },
   "outputs": [],
   "source": []
  },
  {
   "cell_type": "code",
   "execution_count": null,
   "id": "8a8aa5257e5e9f81",
   "metadata": {
    "collapsed": false
   },
   "outputs": [],
   "source": []
  },
  {
   "cell_type": "code",
   "execution_count": null,
   "id": "1fa60ba13b667576",
   "metadata": {
    "collapsed": false
   },
   "outputs": [],
   "source": [
    "\"\"\"\n",
    "14., Készíts egy függvényt ami minden kvartilis esetén visszadja az árak minimális és maximális értékét, valamint az átlagát.\n",
    "\n",
    "fv. név: minmaxmean_price_in_quartile\n",
    "bemenet: input_df\n",
    "return type: pandas.core.frame.DataFrame\n",
    "\"\"\""
   ]
  },
  {
   "cell_type": "code",
   "execution_count": null,
   "id": "a4166f92696d8f3c",
   "metadata": {
    "collapsed": false
   },
   "outputs": [],
   "source": []
  },
  {
   "cell_type": "code",
   "execution_count": null,
   "id": "accb935cb089b427",
   "metadata": {
    "collapsed": false
   },
   "outputs": [],
   "source": []
  },
  {
   "cell_type": "code",
   "execution_count": null,
   "id": "10b9f08f28204e28",
   "metadata": {
    "collapsed": false
   },
   "outputs": [],
   "source": [
    "\"\"\"\n",
    "15. Készíts egy függvényt, ami létrehoz egy listát, benne number_of_trajectories db listával. A belső listák létrehozásának logikája a következő:\n",
    "    A bemeneti paraméterként kapott distribution osztály felhasználásával (UniformDistribution 0,1 paraméterekkel) generálj length_of_trajectory véletlen számot\n",
    "    A belső lista tartalmazza a generált számok kumulatív átlagát.\n",
    "    Ismételd meg number_of_trajectories alkalommal (mindegyik belső listába egyszer)\n",
    "    A seed értéke legyen 42.\n",
    "\n",
    "függvény bemenete: distribution, number_of_trajectories, length_of_trajectory\n",
    "kimeneti típus: List    \n",
    "függvény neve: gen_uniform_mean_trajectories\n",
    "\"\"\""
   ]
  },
  {
   "cell_type": "code",
   "execution_count": null,
   "id": "47062ae9a2ba3c0d",
   "metadata": {
    "collapsed": false
   },
   "outputs": [],
   "source": []
  },
  {
   "cell_type": "code",
   "execution_count": null,
   "id": "c1b1f595c241254b",
   "metadata": {
    "collapsed": false
   },
   "outputs": [],
   "source": []
  },
  {
   "cell_type": "code",
   "execution_count": null,
   "id": "3857db99deaa3a1a",
   "metadata": {
    "collapsed": false
   },
   "outputs": [],
   "source": [
    "\"\"\"\n",
    "16. Készíts egy függvényt, ami létrehoz egy listát, benne number_of_trajectories db listával. A belső listák létrehozásának logikája a következő:\n",
    "    A bemeneti paraméterként kapott distribution osztály felhasználásával (LogisticDistribution 1, 3.3 paraméterekkel) generálj length_of_trajectory véletlen számot\n",
    "    A belső lista tartalmazza a generált számok kumulatív átlagát.\n",
    "    Ismételd meg number_of_trajectories alkalommal (mindegyik belső listába egyszer)\n",
    "    A seed értéke legyen 42.\n",
    "\n",
    "függvény bemenete: distribution, number_of_trajectories, length_of_trajectory\n",
    "kimeneti típus: List    \n",
    "függvény neve: gen_logistic_mean_trajectories\n",
    "\"\"\""
   ]
  },
  {
   "cell_type": "code",
   "execution_count": null,
   "outputs": [],
   "source": [],
   "metadata": {
    "collapsed": false
   },
   "id": "7abb690a4366a416"
  },
  {
   "cell_type": "code",
   "execution_count": null,
   "outputs": [],
   "source": [],
   "metadata": {
    "collapsed": false
   },
   "id": "9ef153c86975f584"
  },
  {
   "cell_type": "code",
   "execution_count": null,
   "outputs": [],
   "source": [
    "\"\"\"\n",
    "17. Készíts egy függvényt, ami létrehoz egy listát, benne number_of_trajectories db listával. A belső listák létrehozásának logikája a következő:\n",
    "    A bemeneti paraméterként kapott distribution osztály felhasználásával (LaplaceDistribution 1, 3.3 paraméterekkel) generálj length_of_trajectory véletlen számot\n",
    "    A belső lista tartalmazza a generált számok kumulatív átlagát.\n",
    "    Ismételd meg number_of_trajectories alkalommal (mindegyik belső listába egyszer)\n",
    "    A seed értéke legyen 42.\n",
    "\n",
    "függvény bemenete: distribution, number_of_trajectories, length_of_trajectory\n",
    "kimeneti típus: List    \n",
    "függvény neve: gen_laplace_mean_trajectories\n",
    "\"\"\""
   ],
   "metadata": {
    "collapsed": false
   },
   "id": "4a0a34d82f78f1f7"
  },
  {
   "cell_type": "code",
   "execution_count": null,
   "outputs": [],
   "source": [],
   "metadata": {
    "collapsed": false
   },
   "id": "a77e96e5081b079b"
  },
  {
   "cell_type": "code",
   "execution_count": null,
   "outputs": [],
   "source": [],
   "metadata": {
    "collapsed": false
   },
   "id": "3846a1c67739b3ce"
  },
  {
   "cell_type": "code",
   "execution_count": null,
   "outputs": [],
   "source": [
    "\"\"\"\n",
    "18. Készíts egy függvényt, ami létrehoz egy listát, benne number_of_trajectories db listával. A belső listák létrehozásának logikája a következő:\n",
    "    A bemeneti paraméterként kapott distribution osztály felhasználásával (CauchyDistribution 2,4 paraméterekkel) generálj length_of_trajectory véletlen számot\n",
    "    A belső lista tartalmazza a generált számok kumulatív átlagát.\n",
    "    Ismételd meg number_of_trajectories alkalommal (mindegyik belső listába egyszer)\n",
    "    A seed értéke legyen 42.\n",
    "\n",
    "függvény bemenete: distribution, number_of_trajectories, length_of_trajectory\n",
    "kimeneti típus: List    \n",
    "függvény neve: gen_cauchy_mean_trajectories\n",
    "\"\"\""
   ],
   "metadata": {
    "collapsed": false
   },
   "id": "4eac338e5ed7e03b"
  },
  {
   "cell_type": "code",
   "execution_count": null,
   "outputs": [],
   "source": [],
   "metadata": {
    "collapsed": false
   },
   "id": "46ed1c9a25c56aec"
  },
  {
   "cell_type": "code",
   "execution_count": null,
   "outputs": [],
   "source": [],
   "metadata": {
    "collapsed": false
   },
   "id": "c9c118d43729fc7a"
  },
  {
   "cell_type": "code",
   "execution_count": null,
   "outputs": [],
   "source": [
    "\"\"\"\n",
    "19. Készíts egy függvényt, ami létrehoz egy listát, benne number_of_trajectories db listával. A belső listák létrehozásának logikája a következő:\n",
    "    A bemeneti paraméterként kapott distribution osztály felhasználásával (ChiSquaredDistribution 3 paraméterrel) generálj length_of_trajectory véletlen számot\n",
    "    A belső lista tartalmazza a generált számok kumulatív átlagát.\n",
    "    Ismételd meg number_of_trajectories alkalommal (mindegyik belső listába egyszer)\n",
    "    A seed értéke legyen 42.\n",
    "\n",
    "függvény bemenete: distribution, number_of_trajectories, length_of_trajectory\n",
    "kimeneti típus: List    \n",
    "függvény neve: gen_chi2_mean_trajectories\n",
    "\"\"\""
   ],
   "metadata": {
    "collapsed": false
   },
   "id": "a506ece2fa8329f2"
  },
  {
   "cell_type": "code",
   "execution_count": null,
   "outputs": [],
   "source": [],
   "metadata": {
    "collapsed": false
   },
   "id": "7571d5df9c5435c"
  },
  {
   "cell_type": "code",
   "execution_count": null,
   "outputs": [],
   "source": [],
   "metadata": {
    "collapsed": false
   },
   "id": "cec5861b841868fa"
  }
 ],
 "metadata": {
  "kernelspec": {
   "display_name": "Python 3 (ipykernel)",
   "language": "python",
   "name": "python3"
  },
  "language_info": {
   "codemirror_mode": {
    "name": "ipython",
    "version": 3
   },
   "file_extension": ".py",
   "mimetype": "text/x-python",
   "name": "python",
   "nbconvert_exporter": "python",
   "pygments_lexer": "ipython3",
   "version": "3.10.4"
  }
 },
 "nbformat": 4,
 "nbformat_minor": 5
}
