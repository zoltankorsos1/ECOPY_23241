{
 "cells": [
  {
   "cell_type": "markdown",
   "source": [
    "# Lista feladatok"
   ],
   "metadata": {
    "collapsed": false
   },
   "id": "bfa98d17c32c9644"
  },
  {
   "cell_type": "code",
   "execution_count": null,
   "outputs": [],
   "source": [
    "# 1., Hozzon létre egy listát a következő elemekkel a Subscript operátor segítségével: 17, 18, 3.14, a, alma"
   ],
   "metadata": {
    "collapsed": false
   },
   "id": "initial_id"
  },
  {
   "cell_type": "code",
   "execution_count": 7,
   "outputs": [],
   "source": [
    "list=[17,18,3.14,'a','alma']"
   ],
   "metadata": {
    "collapsed": false,
    "ExecuteTime": {
     "end_time": "2023-09-19T18:52:22.832917Z",
     "start_time": "2023-09-19T18:52:22.715043Z"
    }
   },
   "id": "9e6bb1295f6a1c41"
  },
  {
   "cell_type": "code",
   "execution_count": null,
   "outputs": [],
   "source": [
    "# 2., Hozzon létre egy listát a list() függvény segítségével: 1,2,3,4,5,6,7,8,9,10"
   ],
   "metadata": {
    "collapsed": false
   },
   "id": "1a0427c3806a075e"
  },
  {
   "cell_type": "code",
   "execution_count": 5,
   "outputs": [
    {
     "name": "stdout",
     "output_type": "stream",
     "text": [
      "[1, 2, 3, 4, 5, 6, 7, 8, 9, 10]\n"
     ]
    }
   ],
   "source": [
    "r=range(1,11)\n",
    "l=list(r)\n",
    "print(l)"
   ],
   "metadata": {
    "collapsed": false,
    "ExecuteTime": {
     "end_time": "2023-09-19T18:51:20.889795Z",
     "start_time": "2023-09-19T18:51:20.860664Z"
    }
   },
   "id": "af29f62bec3fe845"
  },
  {
   "cell_type": "code",
   "execution_count": null,
   "outputs": [],
   "source": [
    "# 3., Adja vissza a lista 1. indexén lévő elemét"
   ],
   "metadata": {
    "collapsed": false
   },
   "id": "87a48bdd04adc666"
  },
  {
   "cell_type": "code",
   "execution_count": 8,
   "outputs": [
    {
     "data": {
      "text/plain": "2"
     },
     "execution_count": 8,
     "metadata": {},
     "output_type": "execute_result"
    }
   ],
   "source": [
    "l[1]"
   ],
   "metadata": {
    "collapsed": false,
    "ExecuteTime": {
     "end_time": "2023-09-19T18:53:18.494367Z",
     "start_time": "2023-09-19T18:53:18.400775Z"
    }
   },
   "id": "f7b55ce66eaa1477"
  },
  {
   "cell_type": "code",
   "execution_count": null,
   "outputs": [],
   "source": [
    "# 4., Adja vissza a lista 1 elemét"
   ],
   "metadata": {
    "collapsed": false
   },
   "id": "cb4dee7d4c8dae1c"
  },
  {
   "cell_type": "code",
   "execution_count": 9,
   "outputs": [
    {
     "data": {
      "text/plain": "1"
     },
     "execution_count": 9,
     "metadata": {},
     "output_type": "execute_result"
    }
   ],
   "source": [
    "l[0]"
   ],
   "metadata": {
    "collapsed": false,
    "ExecuteTime": {
     "end_time": "2023-09-19T18:53:41.048710Z",
     "start_time": "2023-09-19T18:53:40.948229Z"
    }
   },
   "id": "b1682229162f49ec"
  },
  {
   "cell_type": "code",
   "execution_count": null,
   "outputs": [],
   "source": [
    "# 5., Adja vissza a lista legnagyobb elemét"
   ],
   "metadata": {
    "collapsed": false
   },
   "id": "c988bd6fd6137bd1"
  },
  {
   "cell_type": "code",
   "execution_count": 10,
   "outputs": [
    {
     "data": {
      "text/plain": "10"
     },
     "execution_count": 10,
     "metadata": {},
     "output_type": "execute_result"
    }
   ],
   "source": [
    "max(l)"
   ],
   "metadata": {
    "collapsed": false,
    "ExecuteTime": {
     "end_time": "2023-09-19T18:53:48.756989Z",
     "start_time": "2023-09-19T18:53:48.626473Z"
    }
   },
   "id": "2c94a4cc8ec5936d"
  },
  {
   "cell_type": "code",
   "execution_count": null,
   "outputs": [],
   "source": [
    "# 6. Adja vissza a lista legnagyobb elemének az indexét"
   ],
   "metadata": {
    "collapsed": false
   },
   "id": "f2d0f6303be357d0"
  },
  {
   "cell_type": "code",
   "execution_count": 11,
   "outputs": [
    {
     "data": {
      "text/plain": "9"
     },
     "execution_count": 11,
     "metadata": {},
     "output_type": "execute_result"
    }
   ],
   "source": [
    "l.index(10)"
   ],
   "metadata": {
    "collapsed": false,
    "ExecuteTime": {
     "end_time": "2023-09-19T18:53:53.223053Z",
     "start_time": "2023-09-19T18:53:53.069075Z"
    }
   },
   "id": "d3c2f3d961fd0a72"
  },
  {
   "cell_type": "code",
   "execution_count": null,
   "outputs": [],
   "source": [
    "# 7., Írjon egy függvényt ami megvizsgálja, hogy a listában létezik-e egy adott elem\n",
    "# függvény név: contains_values\n",
    "# bemeneti paraméterek: input_list, element \n",
    "# kimeneti típus: bool "
   ],
   "metadata": {
    "collapsed": false
   },
   "id": "75d189cb06cb410"
  },
  {
   "cell_type": "code",
   "execution_count": 64,
   "outputs": [],
   "source": [
    "def contains_values(input_list, element):\n",
    "    for item in input_list:\n",
    "        if item == element:\n",
    "            return True\n",
    "    return False"
   ],
   "metadata": {
    "collapsed": false,
    "ExecuteTime": {
     "end_time": "2023-09-19T21:05:02.067232Z",
     "start_time": "2023-09-19T21:05:01.919699Z"
    }
   },
   "id": "2874f3f5f7334f7a"
  },
  {
   "cell_type": "code",
   "execution_count": 65,
   "outputs": [
    {
     "name": "stdout",
     "output_type": "stream",
     "text": [
      "False\n"
     ]
    }
   ],
   "source": [
    "print(contains_values([1, 2, 3, 4, 5, 6, 7, 8, 9, 10], 11))"
   ],
   "metadata": {
    "collapsed": false,
    "ExecuteTime": {
     "end_time": "2023-09-19T21:05:02.096711Z",
     "start_time": "2023-09-19T21:05:01.935434Z"
    }
   },
   "id": "a1550da6b798fb6d"
  },
  {
   "cell_type": "code",
   "execution_count": null,
   "outputs": [],
   "source": [
    "# 8., Írjon egy függvényt ami megvizsgálja, hogy hány elem található a listában.\n",
    "# függvény név: number_of_elements_in_list\n",
    "# bemeneti paraméterek: input_list \n",
    "# kimeneti típus: int "
   ],
   "metadata": {
    "collapsed": false
   },
   "id": "4ff7a5a8e77c3570"
  },
  {
   "cell_type": "code",
   "execution_count": 14,
   "outputs": [],
   "source": [
    "def number_of_elements_in_list(input_list):\n",
    "    return len(input_list)"
   ],
   "metadata": {
    "collapsed": false,
    "ExecuteTime": {
     "end_time": "2023-09-19T19:05:14.219422Z",
     "start_time": "2023-09-19T19:05:14.076330Z"
    }
   },
   "id": "9c77237804758b96"
  },
  {
   "cell_type": "code",
   "execution_count": 15,
   "outputs": [
    {
     "name": "stdout",
     "output_type": "stream",
     "text": [
      "10\n"
     ]
    }
   ],
   "source": [
    "print(number_of_elements_in_list((1,2,3,4,5,6,7,8,9,10)))"
   ],
   "metadata": {
    "collapsed": false,
    "ExecuteTime": {
     "end_time": "2023-09-19T19:05:14.222420Z",
     "start_time": "2023-09-19T19:05:14.091570Z"
    }
   },
   "id": "bed569e50734a02c"
  },
  {
   "cell_type": "code",
   "execution_count": null,
   "outputs": [],
   "source": [
    "# 9., Írjon egy függvényt ami törli az összes elemet a listából\n",
    "# függvény név: remove_every_element_from_list\n",
    "# bemeneti paraméterek: input_list \n",
    "# kimeneti típus: None "
   ],
   "metadata": {
    "collapsed": false
   },
   "id": "e00fdbc3454b3e0"
  },
  {
   "cell_type": "code",
   "execution_count": 66,
   "outputs": [],
   "source": [
    "def remove_every_element_from_list(input_list):\n",
    "    input_list.clear()"
   ],
   "metadata": {
    "collapsed": false,
    "ExecuteTime": {
     "end_time": "2023-09-19T21:06:00.211018Z",
     "start_time": "2023-09-19T21:06:00.087553Z"
    }
   },
   "id": "86ea2864ab680a75"
  },
  {
   "cell_type": "code",
   "execution_count": 67,
   "outputs": [
    {
     "name": "stdout",
     "output_type": "stream",
     "text": [
      "[]\n"
     ]
    }
   ],
   "source": [
    "l=[1,2,3,4,5,6,7,8,9,10]\n",
    "remove_every_element_from_list(l)\n",
    "print(l)"
   ],
   "metadata": {
    "collapsed": false,
    "ExecuteTime": {
     "end_time": "2023-09-19T21:06:00.277763Z",
     "start_time": "2023-09-19T21:06:00.104912Z"
    }
   },
   "id": "fd4fb9107a1c62e6"
  },
  {
   "cell_type": "code",
   "execution_count": null,
   "outputs": [],
   "source": [
    "# 10., Írjon egy függvényt ami fordított sorrendben adja vissza a lista összes elemét\n",
    "# függvény név: reverse_list\n",
    "# bemeneti paraméterek: input_list \n",
    "# kimeneti típus: List "
   ],
   "metadata": {
    "collapsed": false
   },
   "id": "4b93b2aa868093d7"
  },
  {
   "cell_type": "code",
   "execution_count": 46,
   "outputs": [],
   "source": [
    "def reverse_list(input_list):\n",
    "    reversed_list = []\n",
    "    for i in range(len(input_list) - 1, -1, -1):\n",
    "        reversed_list.append(input_list[i])\n",
    "    return reversed_list"
   ],
   "metadata": {
    "collapsed": false,
    "ExecuteTime": {
     "end_time": "2023-09-19T20:25:16.078992Z",
     "start_time": "2023-09-19T20:25:15.908914Z"
    }
   },
   "id": "b3573ccabce315f6"
  },
  {
   "cell_type": "code",
   "execution_count": 47,
   "outputs": [
    {
     "name": "stdout",
     "output_type": "stream",
     "text": [
      "[10, 9, 8, 7, 6, 5, 4, 3, 2, 1]\n"
     ]
    }
   ],
   "source": [
    "print(reverse_list([1,2,3,4,5,6,7,8,9,10]))"
   ],
   "metadata": {
    "collapsed": false,
    "ExecuteTime": {
     "end_time": "2023-09-19T20:25:16.109977Z",
     "start_time": "2023-09-19T20:25:15.922946Z"
    }
   },
   "id": "793b21ca395bae46"
  },
  {
   "cell_type": "code",
   "execution_count": null,
   "outputs": [],
   "source": [
    "# 11., Írjon egy függvényt ami vissza adja a bemeneti lista páratlan elemeit\n",
    "# függvény név: odds_from_list\n",
    "# bemeneti paraméterek: input_list \n",
    "# kimeneti típus: List "
   ],
   "metadata": {
    "collapsed": false
   },
   "id": "fd4a515bb1e95737"
  },
  {
   "cell_type": "code",
   "execution_count": 60,
   "outputs": [],
   "source": [
    "def odds_from_list(input_list):\n",
    "    output_list=[]\n",
    "    for element in input_list:\n",
    "        if element % 2 == 1:\n",
    "            output_list.append(element)\n",
    "    return output_list"
   ],
   "metadata": {
    "collapsed": false,
    "ExecuteTime": {
     "end_time": "2023-09-19T20:43:13.377343Z",
     "start_time": "2023-09-19T20:43:13.204268Z"
    }
   },
   "id": "57a11fda6b893fe3"
  },
  {
   "cell_type": "code",
   "execution_count": 61,
   "outputs": [
    {
     "name": "stdout",
     "output_type": "stream",
     "text": [
      "[1, 3, 5, 7, 9]\n"
     ]
    }
   ],
   "source": [
    "l=[1,2,3,4,5,6,7,8,9,10]\n",
    "result=odds_from_list(l)\n",
    "print(result)"
   ],
   "metadata": {
    "collapsed": false,
    "ExecuteTime": {
     "end_time": "2023-09-19T20:43:13.413103Z",
     "start_time": "2023-09-19T20:43:13.217218Z"
    }
   },
   "id": "9f20b2394c40484b"
  },
  {
   "cell_type": "code",
   "execution_count": null,
   "outputs": [],
   "source": [
    "# 12., Írjon egy függvényt ami megszámolja a bemeneti lista páratlan elemeit\n",
    "# függvény név: number_of_odds_in_list\n",
    "# bemeneti paraméterek: input_list \n",
    "# kimeneti típus: int "
   ],
   "metadata": {
    "collapsed": false
   },
   "id": "28290ea181d27115"
  },
  {
   "cell_type": "code",
   "execution_count": 73,
   "outputs": [],
   "source": [
    "def number_of_odds_in_list(input_list):\n",
    "    count=0\n",
    "    for element in input_list:\n",
    "        if element % 2 == 1:\n",
    "            count += 1\n",
    "    return count"
   ],
   "metadata": {
    "collapsed": false,
    "ExecuteTime": {
     "end_time": "2023-09-19T21:15:47.601176Z",
     "start_time": "2023-09-19T21:15:47.427755Z"
    }
   },
   "id": "279b237c1175983"
  },
  {
   "cell_type": "code",
   "execution_count": 74,
   "outputs": [
    {
     "name": "stdout",
     "output_type": "stream",
     "text": [
      "5\n"
     ]
    }
   ],
   "source": [
    "l=[1,2,3,4,5,6,7,8,9,10]\n",
    "result=number_of_odds_in_list(l)\n",
    "print(result)"
   ],
   "metadata": {
    "collapsed": false,
    "ExecuteTime": {
     "end_time": "2023-09-19T21:15:47.602Z",
     "start_time": "2023-09-19T21:15:47.454645Z"
    }
   },
   "id": "9cf78a5e1fa0aa59"
  },
  {
   "cell_type": "code",
   "execution_count": null,
   "outputs": [],
   "source": [
    "# 13., Írjon egy függvényt ami visszaadja, hogy a bemeneti listának van-e páratlan eleme\n",
    "# függvény név: contains_odd\n",
    "# bemeneti paraméterek: input_list \n",
    "# kimeneti típus: bool "
   ],
   "metadata": {
    "collapsed": false
   },
   "id": "337fe85c1df2c4d4"
  },
  {
   "cell_type": "code",
   "execution_count": 83,
   "outputs": [],
   "source": [
    "def contains_odd(input_list):\n",
    "    for element in input_list:\n",
    "        if element % 2 == 1:\n",
    "            return True\n",
    "    return False"
   ],
   "metadata": {
    "collapsed": false,
    "ExecuteTime": {
     "end_time": "2023-09-19T21:28:40.160247Z",
     "start_time": "2023-09-19T21:28:40.021416Z"
    }
   },
   "id": "a0fc68adef56fd06"
  },
  {
   "cell_type": "code",
   "execution_count": 84,
   "outputs": [
    {
     "name": "stdout",
     "output_type": "stream",
     "text": [
      "True\n"
     ]
    }
   ],
   "source": [
    "l=[1,2,3,4,5,6,7,8,9,10]\n",
    "a=contains_odd(l)\n",
    "print(a)"
   ],
   "metadata": {
    "collapsed": false,
    "ExecuteTime": {
     "end_time": "2023-09-19T21:28:40.175482Z",
     "start_time": "2023-09-19T21:28:40.039668Z"
    }
   },
   "id": "aef3c724f03cb646"
  },
  {
   "cell_type": "code",
   "execution_count": null,
   "outputs": [],
   "source": [
    "# 14., Írjon egy függvényt ami visszaadja a 2. legnagyobb elemet listában \n",
    "# függvény név: second_largest_in_list\n",
    "# bemeneti paraméterek: input_list \n",
    "# kimeneti típus: int "
   ],
   "metadata": {
    "collapsed": false
   },
   "id": "fb1703151c29792"
  },
  {
   "cell_type": "code",
   "execution_count": 86,
   "outputs": [],
   "source": [
    "def second_largest_in_list(input_list ):\n",
    "    largest = max(input_list[0], input_list[1])\n",
    "    second_largest = min(input_list[0], input_list[1])\n",
    "    for i in range(2, len(input_list)):\n",
    "        if input_list[i] > largest:\n",
    "            second_largest = largest\n",
    "            largest = input_list[i]\n",
    "        elif input_list[i] > second_largest and input_list[i] < largest:\n",
    "            second_largest = input_list[i]\n",
    "    return second_largest"
   ],
   "metadata": {
    "collapsed": false,
    "ExecuteTime": {
     "end_time": "2023-09-19T21:34:48.750476Z",
     "start_time": "2023-09-19T21:34:48.615450Z"
    }
   },
   "id": "15ed7bf088bf47cf"
  },
  {
   "cell_type": "code",
   "execution_count": 87,
   "outputs": [
    {
     "name": "stdout",
     "output_type": "stream",
     "text": [
      "9\n"
     ]
    }
   ],
   "source": [
    "l=[1,2,3,4,5,6,7,8,9,10]\n",
    "b=second_largest_in_list(l)\n",
    "print(b)"
   ],
   "metadata": {
    "collapsed": false,
    "ExecuteTime": {
     "end_time": "2023-09-19T21:34:48.763865Z",
     "start_time": "2023-09-19T21:34:48.631341Z"
    }
   },
   "id": "496288a1070b52d6"
  },
  {
   "cell_type": "code",
   "execution_count": null,
   "outputs": [],
   "source": [
    "# 15., Írjon egy függvényt ami kiszámítja a lista elemek összegét \n",
    "# függvény név: sum_of_elements_in_list\n",
    "# bemeneti paraméterek: input_list \n",
    "# kimeneti típus: float "
   ],
   "metadata": {
    "collapsed": false
   },
   "id": "63ccbb5d3bb44ccd"
  },
  {
   "cell_type": "code",
   "execution_count": 88,
   "outputs": [],
   "source": [
    "def sum_of_elements_in_list(input_list):\n",
    "    total = 0.0\n",
    "    for element in input_list:\n",
    "        total += element\n",
    "    return total"
   ],
   "metadata": {
    "collapsed": false,
    "ExecuteTime": {
     "end_time": "2023-09-19T21:38:42.327138Z",
     "start_time": "2023-09-19T21:38:42.194746Z"
    }
   },
   "id": "24c9f32b0be09452"
  },
  {
   "cell_type": "code",
   "execution_count": 89,
   "outputs": [
    {
     "name": "stdout",
     "output_type": "stream",
     "text": [
      "55.0\n"
     ]
    }
   ],
   "source": [
    "l=[1,2,3,4,5,6,7,8,9,10]\n",
    "c=sum_of_elements_in_list(l)\n",
    "print(c)"
   ],
   "metadata": {
    "collapsed": false,
    "ExecuteTime": {
     "end_time": "2023-09-19T21:38:42.347999Z",
     "start_time": "2023-09-19T21:38:42.213826Z"
    }
   },
   "id": "4f4d84e216c131b7"
  },
  {
   "cell_type": "code",
   "execution_count": null,
   "outputs": [],
   "source": [
    "# 16., Írjon egy függvényt ami kiszámítja a lista elemek kumulált összegét\n",
    "# függvény név: cumsum_list\n",
    "# bemeneti paraméterek: input_list \n",
    "# kimeneti típus: List "
   ],
   "metadata": {
    "collapsed": false
   },
   "id": "783928cacc8f343e"
  },
  {
   "cell_type": "code",
   "execution_count": 90,
   "outputs": [],
   "source": [
    "def cumsum_list(input_list):\n",
    "    output_list = []\n",
    "    current_sum = 0.0\n",
    "    for element in input_list:\n",
    "        current_sum += element\n",
    "        output_list.append(current_sum)\n",
    "    return output_list"
   ],
   "metadata": {
    "collapsed": false,
    "ExecuteTime": {
     "end_time": "2023-09-19T21:41:21.836446Z",
     "start_time": "2023-09-19T21:41:21.686357Z"
    }
   },
   "id": "82eb965beced99b4"
  },
  {
   "cell_type": "code",
   "execution_count": 91,
   "outputs": [
    {
     "name": "stdout",
     "output_type": "stream",
     "text": [
      "[1.0, 3.0, 6.0, 10.0, 15.0, 21.0, 28.0, 36.0, 45.0, 55.0]\n"
     ]
    }
   ],
   "source": [
    "l=[1,2,3,4,5,6,7,8,9,10]\n",
    "d=cumsum_list(l)\n",
    "print(d)"
   ],
   "metadata": {
    "collapsed": false,
    "ExecuteTime": {
     "end_time": "2023-09-19T21:41:21.858952Z",
     "start_time": "2023-09-19T21:41:21.702100Z"
    }
   },
   "id": "3e40d3bc6c266a25"
  },
  {
   "cell_type": "code",
   "execution_count": null,
   "outputs": [],
   "source": [
    "# 17., Írjon egy függvényt ami kiszámítja 2 lista elemenként vett összegét\n",
    "# függvény név: element_wise_sum\n",
    "# bemeneti paraméterek: input_list1, input_list2 \n",
    "# kimeneti típus: List "
   ],
   "metadata": {
    "collapsed": false
   },
   "id": "1520ae4325fd9565"
  },
  {
   "cell_type": "code",
   "execution_count": 107,
   "outputs": [],
   "source": [
    "def element_wise_sum(input_list1, input_list2):\n",
    "    output_list = []\n",
    "    min_length = min(len(input_list1), len(input_list2))\n",
    "    for i in range(min_length):\n",
    "        sum = input_list1[i] + input_list2[i]\n",
    "        output_list.append(sum)\n",
    "    return output_list"
   ],
   "metadata": {
    "collapsed": false,
    "ExecuteTime": {
     "end_time": "2023-09-19T22:01:14.656831Z",
     "start_time": "2023-09-19T22:01:14.554291Z"
    }
   },
   "id": "68f45914d66fee0f"
  },
  {
   "cell_type": "code",
   "execution_count": 108,
   "outputs": [
    {
     "name": "stdout",
     "output_type": "stream",
     "text": [
      "[12, 14, 16, 18, 20, 22, 24, 26, 28, 30]\n"
     ]
    }
   ],
   "source": [
    "input_list1 = [1, 2, 3,4,5,6,7,8,9,10]\n",
    "input_list2 = [11,12,13,14,15,16,17,18,19,20]\n",
    "f = element_wise_sum(input_list1, input_list2)\n",
    "print(f)"
   ],
   "metadata": {
    "collapsed": false,
    "ExecuteTime": {
     "end_time": "2023-09-19T22:01:14.710181Z",
     "start_time": "2023-09-19T22:01:14.572240Z"
    }
   },
   "id": "8587e0ed68288c5b"
  },
  {
   "cell_type": "code",
   "execution_count": null,
   "outputs": [],
   "source": [
    "# 18., Írjon egy függvényt ami visszaadja egy lista, 2 tetszőleges index között vett rész listáját\n",
    "# függvény név: subset_of_list\n",
    "# bemeneti paraméterek: input_list, start_index, end_index\n",
    "# kimeneti típus: List "
   ],
   "metadata": {
    "collapsed": false
   },
   "id": "950494bcdf89e3d9"
  },
  {
   "cell_type": "code",
   "execution_count": 122,
   "outputs": [],
   "source": [
    "def subset_of_list(input_list, start_index, end_index):\n",
    "    output_list = []\n",
    "    for i in range(start_index, end_index + 1):\n",
    "        output_list.append(input_list[i])\n",
    "    return output_list"
   ],
   "metadata": {
    "collapsed": false,
    "ExecuteTime": {
     "end_time": "2023-09-19T22:10:38.790567Z",
     "start_time": "2023-09-19T22:10:38.645951Z"
    }
   },
   "id": "720d5fe404eacb35"
  },
  {
   "cell_type": "code",
   "execution_count": 123,
   "outputs": [
    {
     "name": "stdout",
     "output_type": "stream",
     "text": [
      "[2, 3, 4, 5]\n"
     ]
    }
   ],
   "source": [
    "input_list = [1, 2, 3,4,5,6,7,8,9,10]\n",
    "start_index = 1\n",
    "end_index = 4\n",
    "g = subset_of_list(input_list, start_index, end_index)\n",
    "print(g)"
   ],
   "metadata": {
    "collapsed": false,
    "ExecuteTime": {
     "end_time": "2023-09-19T22:10:38.807274Z",
     "start_time": "2023-09-19T22:10:38.660910Z"
    }
   },
   "id": "2e1456a04608edeb"
  },
  {
   "cell_type": "code",
   "execution_count": null,
   "outputs": [],
   "source": [
    "# 19., Írjon egy függvényt ami visszaadja egy lista minden n-edik elemét listaként\n",
    "# függvény név: every_nth\n",
    "# bemeneti paraméterek: input_list, step_size\n",
    "# kimeneti típus: List "
   ],
   "metadata": {
    "collapsed": false
   },
   "id": "b9ce22f42af9fa7c"
  },
  {
   "cell_type": "code",
   "execution_count": 139,
   "outputs": [],
   "source": [
    "def every_nth(input_list, step_size):\n",
    "    output_list = []\n",
    "    for i in range(0, len(input_list), step_size):\n",
    "        output_list.append(input_list[i])\n",
    "    return output_list"
   ],
   "metadata": {
    "collapsed": false,
    "ExecuteTime": {
     "end_time": "2023-09-19T22:19:09.049219Z",
     "start_time": "2023-09-19T22:19:08.912304Z"
    }
   },
   "id": "975736f2becc9bac"
  },
  {
   "cell_type": "code",
   "execution_count": 140,
   "outputs": [
    {
     "name": "stdout",
     "output_type": "stream",
     "text": [
      "[1, 3, 5, 7, 9]\n"
     ]
    }
   ],
   "source": [
    "l = [1, 2, 3, 4, 5,6,7,8,9,10]\n",
    "step_size = 2\n",
    "h = every_nth(l, step_size)\n",
    "print(h)"
   ],
   "metadata": {
    "collapsed": false,
    "ExecuteTime": {
     "end_time": "2023-09-19T22:19:09.063226Z",
     "start_time": "2023-09-19T22:19:08.928692Z"
    }
   },
   "id": "357370587272fc81"
  },
  {
   "cell_type": "code",
   "execution_count": null,
   "outputs": [],
   "source": [
    "# 20., Írjon egy függvényt ami eldönti, hogy a lista minden eleme egyedi-e\n",
    "# függvény név: only_unique_in_list\n",
    "# bemeneti paraméterek: input_list\n",
    "# kimeneti típus: bool "
   ],
   "metadata": {
    "collapsed": false
   },
   "id": "5816b89192f934a1"
  },
  {
   "cell_type": "code",
   "execution_count": 142,
   "outputs": [],
   "source": [
    "def only_unique_in_list(input_list):\n",
    "    unique_set = set()\n",
    "    for element in input_list:\n",
    "        if element in unique_set:\n",
    "            return False\n",
    "        unique_set.add(element)\n",
    "    return True"
   ],
   "metadata": {
    "collapsed": false,
    "ExecuteTime": {
     "end_time": "2023-09-19T22:25:46.347612Z",
     "start_time": "2023-09-19T22:25:46.218369Z"
    }
   },
   "id": "4e2768e426b188ac"
  },
  {
   "cell_type": "code",
   "execution_count": 143,
   "outputs": [
    {
     "name": "stdout",
     "output_type": "stream",
     "text": [
      "True\n"
     ]
    }
   ],
   "source": [
    "l = [1, 2, 3, 4, 5,6,7,8,9,10]\n",
    "j = only_unique_in_list(l)\n",
    "print(j)"
   ],
   "metadata": {
    "collapsed": false,
    "ExecuteTime": {
     "end_time": "2023-09-19T22:25:46.351769Z",
     "start_time": "2023-09-19T22:25:46.229826Z"
    }
   },
   "id": "7bca392945d6a984"
  },
  {
   "cell_type": "code",
   "execution_count": null,
   "outputs": [],
   "source": [
    "# 21., Írjon egy függvényt amely eltávolítja a duplikált lista elemeket\n",
    "# függvény név: keep_unique\n",
    "# bemeneti paraméterek: input_list\n",
    "# kimeneti típus: List "
   ],
   "metadata": {
    "collapsed": false
   },
   "id": "d080dd3e1679efbf"
  },
  {
   "cell_type": "code",
   "execution_count": 145,
   "outputs": [],
   "source": [
    "def keep_unique(input_list):\n",
    "    output_list = []\n",
    "    for element in input_list:\n",
    "        if element not in output_list:\n",
    "            output_list.append(element)\n",
    "    return output_list"
   ],
   "metadata": {
    "collapsed": false,
    "ExecuteTime": {
     "end_time": "2023-09-19T22:28:05.827553Z",
     "start_time": "2023-09-19T22:28:05.726502Z"
    }
   },
   "id": "8a5037c82a3caa8b"
  },
  {
   "cell_type": "code",
   "execution_count": 146,
   "outputs": [
    {
     "name": "stdout",
     "output_type": "stream",
     "text": [
      "[1, 2, 3, 4, 5, 6, 7, 8, 9, 10]\n"
     ]
    }
   ],
   "source": [
    "l = [1,1, 2, 3, 4, 5,6,7,8,9,10]\n",
    "k = keep_unique(l)\n",
    "print(k)"
   ],
   "metadata": {
    "collapsed": false,
    "ExecuteTime": {
     "end_time": "2023-09-19T22:28:05.869738Z",
     "start_time": "2023-09-19T22:28:05.738154Z"
    }
   },
   "id": "db73e363987f797d"
  },
  {
   "cell_type": "code",
   "execution_count": null,
   "outputs": [],
   "source": [
    "# 22., Írjon egy függvényt amely kicserél 2 tetszőleges elemet a listában\n",
    "# függvény név: swap\n",
    "# bemeneti paraméterek: input_list, first_index, second_index\n",
    "# kimeneti típus: List "
   ],
   "metadata": {
    "collapsed": false
   },
   "id": "1d09675d10a71250"
  },
  {
   "cell_type": "code",
   "execution_count": 152,
   "outputs": [],
   "source": [
    "def swap(input_list, first_index, second_index):\n",
    "    temp = input_list[first_index]\n",
    "    input_list[first_index] = input_list[second_index]\n",
    "    input_list[second_index] = temp\n",
    "    return input_list"
   ],
   "metadata": {
    "collapsed": false,
    "ExecuteTime": {
     "end_time": "2023-09-19T22:35:51.156891Z",
     "start_time": "2023-09-19T22:35:50.971330Z"
    }
   },
   "id": "f1974f9bba783dfa"
  },
  {
   "cell_type": "code",
   "execution_count": 153,
   "outputs": [
    {
     "name": "stdout",
     "output_type": "stream",
     "text": [
      "[1, 5, 3, 4, 2, 6, 7, 8, 9, 10]\n"
     ]
    }
   ],
   "source": [
    "l = [1, 2, 3, 4, 5,6,7,8,9,10]\n",
    "first_index = 1\n",
    "second_index = 4\n",
    "y = swap(l, first_index, second_index)\n",
    "print(y)"
   ],
   "metadata": {
    "collapsed": false,
    "ExecuteTime": {
     "end_time": "2023-09-19T22:35:51.182328Z",
     "start_time": "2023-09-19T22:35:50.994143Z"
    }
   },
   "id": "3888481f29688d3"
  },
  {
   "cell_type": "code",
   "execution_count": null,
   "outputs": [],
   "source": [
    "# 23., Írjon egy függvényt amely töröl egy megadott elemet a listából\n",
    "# függvény név: remove_element_by_value\n",
    "# bemeneti paraméterek: input_list, value_to_remove\n",
    "# kimeneti típus: List "
   ],
   "metadata": {
    "collapsed": false
   },
   "id": "3b05357ab0198b4c"
  },
  {
   "cell_type": "code",
   "execution_count": 155,
   "outputs": [],
   "source": [
    "def remove_element_by_value(input_list, value_to_remove):\n",
    "    output_list = []\n",
    "    for element in input_list:\n",
    "        if element != value_to_remove:\n",
    "            output_list.append(element)\n",
    "    return output_list"
   ],
   "metadata": {
    "collapsed": false,
    "ExecuteTime": {
     "end_time": "2023-09-19T22:39:34.587511Z",
     "start_time": "2023-09-19T22:39:34.392962Z"
    }
   },
   "id": "314e2102c6069b73"
  },
  {
   "cell_type": "code",
   "execution_count": 156,
   "outputs": [
    {
     "name": "stdout",
     "output_type": "stream",
     "text": [
      "[2, 3, 4, 5, 6, 7, 8, 9, 10]\n"
     ]
    }
   ],
   "source": [
    "l = [1, 2, 3, 4, 5,6,7,8,9,10]\n",
    "value_to_remove=1\n",
    "c=remove_element_by_value(l, value_to_remove)\n",
    "print(c)"
   ],
   "metadata": {
    "collapsed": false,
    "ExecuteTime": {
     "end_time": "2023-09-19T22:39:34.608775Z",
     "start_time": "2023-09-19T22:39:34.416961Z"
    }
   },
   "id": "1fba323e1abf8ad1"
  },
  {
   "cell_type": "code",
   "execution_count": null,
   "outputs": [],
   "source": [
    "# 24., Írjon egy függvényt amely töröl egy megadott indexű elemet a listából\n",
    "# függvény név: remove_element_by_index\n",
    "# bemeneti paraméterek: input_list, index\n",
    "# kimeneti típus: List "
   ],
   "metadata": {
    "collapsed": false
   },
   "id": "cfaf6d5695fb31df"
  },
  {
   "cell_type": "code",
   "execution_count": 158,
   "outputs": [],
   "source": [
    "def remove_element_by_index(input_list, index):\n",
    "    output_list = []\n",
    "    for i in range(len(input_list)):\n",
    "        if i != index:\n",
    "            output_list.append(input_list[i])\n",
    "    return output_list"
   ],
   "metadata": {
    "collapsed": false,
    "ExecuteTime": {
     "end_time": "2023-09-19T22:42:41.123178Z",
     "start_time": "2023-09-19T22:42:40.981807Z"
    }
   },
   "id": "8f166f1039503820"
  },
  {
   "cell_type": "code",
   "execution_count": 159,
   "outputs": [
    {
     "name": "stdout",
     "output_type": "stream",
     "text": [
      "[2, 3, 4, 5, 6, 7, 8, 9, 10]\n"
     ]
    }
   ],
   "source": [
    "l = [1, 2, 3, 4, 5,6,7,8,9,10]\n",
    "value_to_remove=1\n",
    "index=0\n",
    "v=remove_element_by_index(l, index)\n",
    "print(v)"
   ],
   "metadata": {
    "collapsed": false,
    "ExecuteTime": {
     "end_time": "2023-09-19T22:42:41.135826Z",
     "start_time": "2023-09-19T22:42:41.001977Z"
    }
   },
   "id": "2ead7a0b538aef49"
  },
  {
   "cell_type": "code",
   "execution_count": null,
   "outputs": [],
   "source": [
    "# 25., Írjon egy függvényt amely egy tetszőleges számmal megszorozza a lista összes elemét\n",
    "# függvény név: multiply_every_element\n",
    "# bemeneti paraméterek: input_list, multiplier\n",
    "# kimeneti típus: List "
   ],
   "metadata": {
    "collapsed": false
   },
   "id": "f752e1dbb5e38b88"
  },
  {
   "cell_type": "code",
   "execution_count": 161,
   "outputs": [],
   "source": [
    "def multiply_every_element(input_list, multiplier):\n",
    "    output_list = []\n",
    "    for element in input_list:\n",
    "        product = element * multiplier\n",
    "        output_list.append(product)\n",
    "    return output_list"
   ],
   "metadata": {
    "collapsed": false,
    "ExecuteTime": {
     "end_time": "2023-09-19T22:45:52.052152Z",
     "start_time": "2023-09-19T22:45:51.915994Z"
    }
   },
   "id": "eff0e4599ddbb8fb"
  },
  {
   "cell_type": "code",
   "execution_count": 162,
   "outputs": [
    {
     "name": "stdout",
     "output_type": "stream",
     "text": [
      "[10, 20, 30, 40, 50, 60, 70, 80, 90, 100]\n"
     ]
    }
   ],
   "source": [
    "l = [1, 2, 3, 4, 5,6,7,8,9,10]\n",
    "multiplier=10\n",
    "b=multiply_every_element(l, multiplier)\n",
    "print(b)"
   ],
   "metadata": {
    "collapsed": false,
    "ExecuteTime": {
     "end_time": "2023-09-19T22:45:52.064339Z",
     "start_time": "2023-09-19T22:45:51.927975Z"
    }
   },
   "id": "670a1f660c7ae800"
  },
  {
   "cell_type": "markdown",
   "source": [
    "# Dictionary feladatok"
   ],
   "metadata": {
    "collapsed": false
   },
   "id": "c7bfcf6fbed3ecf"
  },
  {
   "cell_type": "code",
   "execution_count": null,
   "outputs": [],
   "source": [
    "# 1. Hozz létre egy dictionary-t (dict.) amelyhez a két kulcs 'a' és 'b' és a hozzájuk tartozó értékek rendre 9 és [12, 'c']"
   ],
   "metadata": {
    "collapsed": false
   },
   "id": "ea486b7b2097d8c0"
  },
  {
   "cell_type": "code",
   "execution_count": 163,
   "outputs": [
    {
     "name": "stdout",
     "output_type": "stream",
     "text": [
      "{'a': 9, 'b': [12, 'c']}\n"
     ]
    }
   ],
   "source": [
    "my_dict = {}\n",
    "my_dict['a'] = 9\n",
    "my_dict['b'] = [12, 'c']\n",
    "print(my_dict)"
   ],
   "metadata": {
    "collapsed": false,
    "ExecuteTime": {
     "end_time": "2023-09-19T22:50:49.590619Z",
     "start_time": "2023-09-19T22:50:49.529849Z"
    }
   },
   "id": "fa44cb21eee22ee3"
  },
  {
   "cell_type": "code",
   "execution_count": null,
   "outputs": [],
   "source": [
    "# 2. Kérd le az előző dictionary 'a' kulcsán lévő értéket"
   ],
   "metadata": {
    "collapsed": false
   },
   "id": "8f38c2ba17f46ab3"
  },
  {
   "cell_type": "code",
   "execution_count": 164,
   "outputs": [
    {
     "name": "stdout",
     "output_type": "stream",
     "text": [
      "9\n"
     ]
    }
   ],
   "source": [
    "value = my_dict['a']\n",
    "print(value)"
   ],
   "metadata": {
    "collapsed": false,
    "ExecuteTime": {
     "end_time": "2023-09-19T22:52:10.232702Z",
     "start_time": "2023-09-19T22:52:10.128306Z"
    }
   },
   "id": "ae105a95dca05249"
  },
  {
   "cell_type": "code",
   "execution_count": null,
   "outputs": [],
   "source": [
    "# 3. Kérd le az előző dictionary 'd' kulcsán lévő értéket olyan módon, hogy ne hibát kapj, hanem Null legyen a visszatérési érték"
   ],
   "metadata": {
    "collapsed": false
   },
   "id": "d64af3034dbf0bc2"
  },
  {
   "cell_type": "code",
   "execution_count": 165,
   "outputs": [
    {
     "name": "stdout",
     "output_type": "stream",
     "text": [
      "None\n"
     ]
    }
   ],
   "source": [
    "value = my_dict.get('d')\n",
    "print(value)"
   ],
   "metadata": {
    "collapsed": false,
    "ExecuteTime": {
     "end_time": "2023-09-19T22:53:43.083690Z",
     "start_time": "2023-09-19T22:53:42.991346Z"
    }
   },
   "id": "9153fd4f597d5633"
  },
  {
   "cell_type": "code",
   "execution_count": null,
   "outputs": [],
   "source": [
    "# 4., Írjon egy függvényt amely töröl egy megadott kulcsú elemet a dict.-ből\n",
    "# függvény név: remove_key\n",
    "# bemeneti paraméterek: input_dict, key\n",
    "# kimeneti típus: Dict "
   ],
   "metadata": {
    "collapsed": false
   },
   "id": "8d0730f02cbd74ae"
  },
  {
   "cell_type": "code",
   "execution_count": 171,
   "outputs": [],
   "source": [
    "def remove_key(input_dict, key):\n",
    "    if key in input_dict:\n",
    "        del input_dict[key]\n",
    "    return input_dict"
   ],
   "metadata": {
    "collapsed": false,
    "ExecuteTime": {
     "end_time": "2023-09-19T22:57:32.117866Z",
     "start_time": "2023-09-19T22:57:32.009740Z"
    }
   },
   "id": "16025be7289f3fe1"
  },
  {
   "cell_type": "code",
   "execution_count": 172,
   "outputs": [
    {
     "name": "stdout",
     "output_type": "stream",
     "text": [
      "{'a': 9}\n"
     ]
    }
   ],
   "source": [
    "d={'a': 9, 'b': [12, 'c']}\n",
    "key='b'\n",
    "n=remove_key(d, key)\n",
    "print(n)"
   ],
   "metadata": {
    "collapsed": false,
    "ExecuteTime": {
     "end_time": "2023-09-19T22:57:32.168456Z",
     "start_time": "2023-09-19T22:57:32.023568Z"
    }
   },
   "id": "1adaa6cfaf92ce4b"
  },
  {
   "cell_type": "code",
   "execution_count": null,
   "outputs": [],
   "source": [
    "# 5., Írjon egy függvényt amely a sorba rendezi a kulcs-érték párokat a kulcs értéke szerint egy dictionary-ben\n",
    "# függvény név: sort_by_key\n",
    "# bemeneti paraméterek: input_dict\n",
    "# kimeneti típus: Dict "
   ],
   "metadata": {
    "collapsed": false
   },
   "id": "4289ee61b660cf03"
  },
  {
   "cell_type": "code",
   "execution_count": 180,
   "outputs": [],
   "source": [
    "def sort_by_key(input_dict: dict) -> dict:\n",
    "    return dict(sorted(input_dict.items(), key=lambda x: x[0]))"
   ],
   "metadata": {
    "collapsed": false,
    "ExecuteTime": {
     "end_time": "2023-09-19T23:02:49.048043Z",
     "start_time": "2023-09-19T23:02:48.944384Z"
    }
   },
   "id": "4144b46e7390123b"
  },
  {
   "cell_type": "code",
   "execution_count": 181,
   "outputs": [
    {
     "name": "stdout",
     "output_type": "stream",
     "text": [
      "{'a': 9, 'b': [12, 'c']}\n"
     ]
    }
   ],
   "source": [
    "d = {'a': 9, 'b': [12, 'c']}\n",
    "m = sort_by_key(d)\n",
    "print(m)"
   ],
   "metadata": {
    "collapsed": false,
    "ExecuteTime": {
     "end_time": "2023-09-19T23:02:49.097403Z",
     "start_time": "2023-09-19T23:02:48.957301Z"
    }
   },
   "id": "f03264405968e0fa"
  },
  {
   "cell_type": "code",
   "execution_count": null,
   "outputs": [],
   "source": [
    "# 6., Írjon egy függvényt amely összeadja a dict.-ben található összes értéket\n",
    "# függvény név: sum_in_dict\n",
    "# bemeneti paraméterek: input_dict\n",
    "# kimeneti típus: float "
   ],
   "metadata": {
    "collapsed": false
   },
   "id": "7f38190f627e8631"
  },
  {
   "cell_type": "code",
   "execution_count": 182,
   "outputs": [],
   "source": [
    "def sum_in_dict(input_dict):\n",
    "    sum = 0\n",
    "    for value in input_dict.values():\n",
    "        sum += value\n",
    "    return sum"
   ],
   "metadata": {
    "collapsed": false,
    "ExecuteTime": {
     "end_time": "2023-09-19T23:04:21.459998Z",
     "start_time": "2023-09-19T23:04:21.324050Z"
    }
   },
   "id": "15175be34ef8a9d9"
  },
  {
   "cell_type": "code",
   "execution_count": 184,
   "outputs": [
    {
     "name": "stdout",
     "output_type": "stream",
     "text": [
      "7.5\n"
     ]
    }
   ],
   "source": [
    "input_dict = {\"a\": 1.5, \"b\": 2.3, \"c\": 3.7}\n",
    "sum = sum_in_dict(input_dict)\n",
    "print(sum)"
   ],
   "metadata": {
    "collapsed": false,
    "ExecuteTime": {
     "end_time": "2023-09-19T23:05:27.796566Z",
     "start_time": "2023-09-19T23:05:27.689944Z"
    }
   },
   "id": "b55c7574f7c47365"
  },
  {
   "cell_type": "code",
   "execution_count": null,
   "outputs": [],
   "source": [
    "# 7., Írjon egy függvényt amely összekapcsol 2 dictionary-t 1 dict.-ben\n",
    "# függvény név: merge_two_dicts\n",
    "# bemeneti paraméterek: input_dict1, input_dict2\n",
    "# kimeneti típus: Dict "
   ],
   "metadata": {
    "collapsed": false
   },
   "id": "129ac5fb35728b79"
  },
  {
   "cell_type": "code",
   "execution_count": 188,
   "outputs": [],
   "source": [
    "def merge_two_dicts(input_dict1: dict, input_dict2: dict) -> dict:\n",
    "    return {**input_dict1, **input_dict2}"
   ],
   "metadata": {
    "collapsed": false,
    "ExecuteTime": {
     "end_time": "2023-09-19T23:09:08.507116Z",
     "start_time": "2023-09-19T23:09:08.340924Z"
    }
   },
   "id": "1d1cb11d826ad1ad"
  },
  {
   "cell_type": "code",
   "execution_count": 189,
   "outputs": [
    {
     "name": "stdout",
     "output_type": "stream",
     "text": [
      "{'a': 1, 'b': 2, 'c': 3, 'd': 4}\n"
     ]
    }
   ],
   "source": [
    "input_dict1 = {\"a\": 1, \"b\": 2}\n",
    "input_dict2 = {\"c\": 3, \"d\": 4}\n",
    "result = merge_two_dicts(input_dict1, input_dict2)\n",
    "print(result)"
   ],
   "metadata": {
    "collapsed": false,
    "ExecuteTime": {
     "end_time": "2023-09-19T23:09:08.521493Z",
     "start_time": "2023-09-19T23:09:08.360538Z"
    }
   },
   "id": "6f6c6cc073780800"
  },
  {
   "cell_type": "code",
   "execution_count": null,
   "outputs": [],
   "source": [
    "# 8., Írjon egy függvényt amely összekapcsol n dictionary-t 1 dict.-ben\n",
    "# függvény név: merge_dicts\n",
    "# bemeneti paraméterek: *dicts\n",
    "# kimeneti típus: Dict "
   ],
   "metadata": {
    "collapsed": false
   },
   "id": "2d6e28936e1fc7f6"
  },
  {
   "cell_type": "code",
   "execution_count": 186,
   "outputs": [],
   "source": [
    "def merge_dicts(*dicts):\n",
    "    result = {}\n",
    "    for d in dicts:\n",
    "        result.update(d)\n",
    "    return result\n"
   ],
   "metadata": {
    "collapsed": false,
    "ExecuteTime": {
     "end_time": "2023-09-19T23:07:39.703363Z",
     "start_time": "2023-09-19T23:07:39.592730Z"
    }
   },
   "id": "3d4f59def68ff61b"
  },
  {
   "cell_type": "code",
   "execution_count": 187,
   "outputs": [
    {
     "name": "stdout",
     "output_type": "stream",
     "text": [
      "{'a': 1, 'b': 5, 'c': 3, 'd': 4, 'e': 6}\n"
     ]
    }
   ],
   "source": [
    "d1 = {\"a\": 1, \"b\": 2}\n",
    "d2 = {\"c\": 3, \"d\": 4}\n",
    "d3 = {\"b\": 5, \"e\": 6}\n",
    "result = merge_dicts(d1, d2, d3)\n",
    "print(result)"
   ],
   "metadata": {
    "collapsed": false,
    "ExecuteTime": {
     "end_time": "2023-09-19T23:07:39.750563Z",
     "start_time": "2023-09-19T23:07:39.608908Z"
    }
   },
   "id": "e1dd09df21776128"
  },
  {
   "cell_type": "code",
   "execution_count": null,
   "outputs": [],
   "source": [
    "# 9., Írjon egy függvényt amely a bemeneti, pozitív egész számokat tartalmazó listát kiválogatja páros és páratlan számokra, és visszaad egy olyan dictionary-t, amelyben a kulcs az 'even' és 'odd', az értékek, pedig a listák.\n",
    "# függvény név: sort_list_by_parity\n",
    "# bemeneti paraméterek: input_list\n",
    "# kimeneti típus: Dict "
   ],
   "metadata": {
    "collapsed": false
   },
   "id": "31c2ef51ea259d5d"
  },
  {
   "cell_type": "code",
   "execution_count": 190,
   "outputs": [],
   "source": [
    "def sort_list_by_parity(input_list):\n",
    "    output_dict = {'even': [], 'odd': []}\n",
    "    for number in input_list:\n",
    "        if number % 2 == 0:\n",
    "            output_dict['even'].append(number)\n",
    "        else:\n",
    "            output_dict['odd'].append(number)\n",
    "    return output_dict"
   ],
   "metadata": {
    "collapsed": false,
    "ExecuteTime": {
     "end_time": "2023-09-19T23:12:48.096787Z",
     "start_time": "2023-09-19T23:12:47.952156Z"
    }
   },
   "id": "83f0467b3058114b"
  },
  {
   "cell_type": "code",
   "execution_count": 191,
   "outputs": [
    {
     "name": "stdout",
     "output_type": "stream",
     "text": [
      "{'even': [2, 4], 'odd': [1, 3, 5]}\n"
     ]
    }
   ],
   "source": [
    "input_list = [1, 2, 3, 4, 5]\n",
    "output_dict = sort_list_by_parity(input_list)\n",
    "print(output_dict)"
   ],
   "metadata": {
    "collapsed": false,
    "ExecuteTime": {
     "end_time": "2023-09-19T23:12:48.108043Z",
     "start_time": "2023-09-19T23:12:47.967656Z"
    }
   },
   "id": "85abb76721ac4860"
  },
  {
   "cell_type": "code",
   "execution_count": null,
   "outputs": [],
   "source": [
    "# 10., Írjon egy függvényt amely a bemenetként kapott dictionary értékeinél található listák átlagait adja vissza egy új dictionary-be. {\"some_key\":[1,2,3,4],\"another_key\":[1,2,3,4],....} -> {\"some_key\":mean_of_values,\"another_key\":mean_of_values,....}\n",
    "# függvény név: mean_by_key_value\n",
    "# bemeneti paraméterek: input_dict\n",
    "# kimeneti típus: Dict "
   ],
   "metadata": {
    "collapsed": false
   },
   "id": "b7d17d821c18b94e"
  },
  {
   "cell_type": "code",
   "execution_count": 200,
   "outputs": [],
   "source": [
    "# függvény név: mean_by_key_value\n",
    "# bemeneti paraméterek: input_dict\n",
    "# kimeneti típus: Dict\n",
    "\n",
    "def mean_by_key_value(input_dict):\n",
    "  # létrehozunk egy üres dictionary-t a kimenetnek\n",
    "  output_dict = {}\n",
    "  # végigmegyünk az input_dict kulcs-érték párokon\n",
    "  for key, value in input_dict.items():\n",
    "    # ellenőrizzük, hogy az érték egy lista-e\n",
    "    if isinstance(value, list):\n",
    "      # kiszámoljuk a lista átlagát\n",
    "      mean = sum(value) / len(value)\n",
    "      # hozzáadjuk az átlagot a kimeneti dictionary-hez a megfelelő kulccsal\n",
    "      output_dict[key] = mean\n",
    "    else:\n",
    "      # ha az érték nem lista, akkor figyelmen kívül hagyjuk\n",
    "      pass\n",
    "  return output_dict\n"
   ],
   "metadata": {
    "collapsed": false,
    "ExecuteTime": {
     "end_time": "2023-09-19T23:25:51.651410Z",
     "start_time": "2023-09-19T23:25:51.503441Z"
    }
   },
   "id": "3f297655c29e1e6"
  },
  {
   "cell_type": "code",
   "execution_count": 201,
   "outputs": [
    {
     "ename": "TypeError",
     "evalue": "isinstance() arg 2 must be a type or tuple of types",
     "output_type": "error",
     "traceback": [
      "\u001B[0;31m---------------------------------------------------------------------------\u001B[0m",
      "\u001B[0;31mTypeError\u001B[0m                                 Traceback (most recent call last)",
      "Cell \u001B[0;32mIn[201], line 2\u001B[0m\n\u001B[1;32m      1\u001B[0m input_dict \u001B[38;5;241m=\u001B[39m {\u001B[38;5;124m\"\u001B[39m\u001B[38;5;124msome_key\u001B[39m\u001B[38;5;124m\"\u001B[39m:[\u001B[38;5;241m1\u001B[39m,\u001B[38;5;241m2\u001B[39m,\u001B[38;5;241m3\u001B[39m,\u001B[38;5;241m4\u001B[39m],\u001B[38;5;124m\"\u001B[39m\u001B[38;5;124manother_key\u001B[39m\u001B[38;5;124m\"\u001B[39m:[\u001B[38;5;241m1\u001B[39m,\u001B[38;5;241m2\u001B[39m,\u001B[38;5;241m3\u001B[39m,\u001B[38;5;241m4\u001B[39m],\u001B[38;5;124m\"\u001B[39m\u001B[38;5;124mnot_a_list\u001B[39m\u001B[38;5;124m\"\u001B[39m:\u001B[38;5;241m42\u001B[39m}\n\u001B[0;32m----> 2\u001B[0m output_dict \u001B[38;5;241m=\u001B[39m \u001B[43mmean_by_key_value\u001B[49m\u001B[43m(\u001B[49m\u001B[43minput_dict\u001B[49m\u001B[43m)\u001B[49m\n\u001B[1;32m      3\u001B[0m \u001B[38;5;28mprint\u001B[39m(output_dict)\n",
      "Cell \u001B[0;32mIn[200], line 11\u001B[0m, in \u001B[0;36mmean_by_key_value\u001B[0;34m(input_dict)\u001B[0m\n\u001B[1;32m      8\u001B[0m \u001B[38;5;66;03m# végigmegyünk az input_dict kulcs-érték párokon\u001B[39;00m\n\u001B[1;32m      9\u001B[0m \u001B[38;5;28;01mfor\u001B[39;00m key, value \u001B[38;5;129;01min\u001B[39;00m input_dict\u001B[38;5;241m.\u001B[39mitems():\n\u001B[1;32m     10\u001B[0m   \u001B[38;5;66;03m# ellenőrizzük, hogy az érték egy lista-e\u001B[39;00m\n\u001B[0;32m---> 11\u001B[0m   \u001B[38;5;28;01mif\u001B[39;00m \u001B[38;5;28;43misinstance\u001B[39;49m\u001B[43m(\u001B[49m\u001B[43mvalue\u001B[49m\u001B[43m,\u001B[49m\u001B[43m \u001B[49m\u001B[38;5;28;43mlist\u001B[39;49m\u001B[43m)\u001B[49m:\n\u001B[1;32m     12\u001B[0m     \u001B[38;5;66;03m# kiszámoljuk a lista átlagát\u001B[39;00m\n\u001B[1;32m     13\u001B[0m     mean \u001B[38;5;241m=\u001B[39m \u001B[38;5;28msum\u001B[39m(value) \u001B[38;5;241m/\u001B[39m \u001B[38;5;28mlen\u001B[39m(value)\n\u001B[1;32m     14\u001B[0m     \u001B[38;5;66;03m# hozzáadjuk az átlagot a kimeneti dictionary-hez a megfelelő kulccsal\u001B[39;00m\n",
      "\u001B[0;31mTypeError\u001B[0m: isinstance() arg 2 must be a type or tuple of types"
     ]
    }
   ],
   "source": [
    "input_dict = {\"some_key\":[1,2,3,4],\"another_key\":[1,2,3,4],\"not_a_list\":42}\n",
    "output_dict = mean_by_key_value(input_dict)\n",
    "print(output_dict)"
   ],
   "metadata": {
    "collapsed": false,
    "ExecuteTime": {
     "end_time": "2023-09-19T23:25:51.664710Z",
     "start_time": "2023-09-19T23:25:51.520443Z"
    }
   },
   "id": "f2728aad103eea86"
  },
  {
   "cell_type": "code",
   "execution_count": null,
   "outputs": [],
   "source": [
    "# 11., Írjon egy függvényt amely a bemeneti lista értékeinek előállítja a gyakoriságát\n",
    "# függvény név: count_frequency\n",
    "# bemeneti paraméterek: input_list\n",
    "# kimeneti típus: Dict "
   ],
   "metadata": {
    "collapsed": false
   },
   "id": "4408607c342665b"
  },
  {
   "cell_type": "code",
   "execution_count": 198,
   "outputs": [],
   "source": [
    "def count_frequency(input_list):\n",
    "  # létrehozunk egy üres dictionary-t a kimenetnek\n",
    "  output_dict = {}\n",
    "  # végigmegyünk az input_list elemein\n",
    "  for element in input_list:\n",
    "    # ha az elem már szerepel a dictionary-ben, akkor növeljük a számlálóját eggyel\n",
    "    if element in output_dict:\n",
    "      output_dict[element] += 1\n",
    "    # ha az elem még nem szerepel a dictionary-ben, akkor hozzáadjuk egyes kezdőértékkel\n",
    "    else:\n",
    "      output_dict[element] = 1\n",
    "  # visszaadjuk a kimeneti dictionary-t\n",
    "  return output_dict"
   ],
   "metadata": {
    "collapsed": false,
    "ExecuteTime": {
     "end_time": "2023-09-19T23:23:07.990156Z",
     "start_time": "2023-09-19T23:23:07.845987Z"
    }
   },
   "id": "c190bbd919048c7c"
  },
  {
   "cell_type": "code",
   "execution_count": 199,
   "outputs": [
    {
     "name": "stdout",
     "output_type": "stream",
     "text": [
      "{1: 2, 2: 2, 3: 2, 4: 2, 5: 1}\n"
     ]
    }
   ],
   "source": [
    "input_list = [1,2,3,4,1,2,3,4,5]\n",
    "output_dict = count_frequency(input_list)\n",
    "print(output_dict)"
   ],
   "metadata": {
    "collapsed": false,
    "ExecuteTime": {
     "end_time": "2023-09-19T23:23:08.001615Z",
     "start_time": "2023-09-19T23:23:07.863439Z"
    }
   },
   "id": "3cf3e1d2e4b6bd48"
  },
  {
   "cell_type": "markdown",
   "source": [
    "### A heti feladatok függvény definícióit helyezze el a src/utils module-on belül a builtin_wrappers.py nevű fájlba."
   ],
   "metadata": {
    "collapsed": false
   },
   "id": "4642e9fa7740d8ec"
  }
 ],
 "metadata": {
  "kernelspec": {
   "display_name": "Python 3",
   "language": "python",
   "name": "python3"
  },
  "language_info": {
   "codemirror_mode": {
    "name": "ipython",
    "version": 2
   },
   "file_extension": ".py",
   "mimetype": "text/x-python",
   "name": "python",
   "nbconvert_exporter": "python",
   "pygments_lexer": "ipython2",
   "version": "2.7.6"
  }
 },
 "nbformat": 4,
 "nbformat_minor": 5
}
