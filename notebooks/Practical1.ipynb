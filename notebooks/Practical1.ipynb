{
 "cells": [
  {
   "cell_type": "markdown",
   "source": [
    "# Lista feladatok"
   ],
   "metadata": {
    "collapsed": false
   },
   "id": "bfa98d17c32c9644"
  },
  {
   "cell_type": "code",
   "execution_count": null,
   "outputs": [],
   "source": [
    "# 1., Hozzon létre egy listát a következő elemekkel a Subscript operátor segítségével: 17, 18, 3.14, a, alma"
   ],
   "metadata": {
    "collapsed": false
   },
   "id": "initial_id"
  },
  {
   "cell_type": "code",
   "execution_count": null,
   "outputs": [],
   "source": [
    "my_list=[17,18,3.14,'a','alma']"
   ],
   "metadata": {
    "collapsed": false
   },
   "id": "9e6bb1295f6a1c41"
  },
  {
   "cell_type": "code",
   "execution_count": null,
   "outputs": [],
   "source": [
    "# 2., Hozzon létre egy listát a list() függvény segítségével: 1,2,3,4,5,6,7,8,9,10"
   ],
   "metadata": {
    "collapsed": false
   },
   "id": "1a0427c3806a075e"
  },
  {
   "cell_type": "code",
   "execution_count": null,
   "outputs": [],
   "source": [
    "r=range(1,11)\n",
    "l=list(r)\n",
    "print(l)"
   ],
   "metadata": {
    "collapsed": false
   },
   "id": "af29f62bec3fe845"
  },
  {
   "cell_type": "code",
   "execution_count": null,
   "outputs": [],
   "source": [
    "# 3., Adja vissza a lista 1. indexén lévő elemét"
   ],
   "metadata": {
    "collapsed": false
   },
   "id": "87a48bdd04adc666"
  },
  {
   "cell_type": "code",
   "execution_count": null,
   "outputs": [],
   "source": [
    "l[1]"
   ],
   "metadata": {
    "collapsed": false
   },
   "id": "f7b55ce66eaa1477"
  },
  {
   "cell_type": "code",
   "execution_count": null,
   "outputs": [],
   "source": [
    "# 4., Adja vissza a lista 1 elemét"
   ],
   "metadata": {
    "collapsed": false
   },
   "id": "cb4dee7d4c8dae1c"
  },
  {
   "cell_type": "code",
   "execution_count": null,
   "outputs": [],
   "source": [
    "l[0]"
   ],
   "metadata": {
    "collapsed": false
   },
   "id": "b1682229162f49ec"
  },
  {
   "cell_type": "code",
   "execution_count": null,
   "outputs": [],
   "source": [
    "# 5., Adja vissza a lista legnagyobb elemét"
   ],
   "metadata": {
    "collapsed": false
   },
   "id": "c988bd6fd6137bd1"
  },
  {
   "cell_type": "code",
   "execution_count": null,
   "outputs": [],
   "source": [],
   "metadata": {
    "collapsed": false
   },
   "id": "2c94a4cc8ec5936d"
  },
  {
   "cell_type": "code",
   "execution_count": null,
   "outputs": [],
   "source": [
    "# 6. Adja vissza a lista legnagyobb elemének az indexét"
   ],
   "metadata": {
    "collapsed": false
   },
   "id": "f2d0f6303be357d0"
  },
  {
   "cell_type": "code",
   "execution_count": null,
   "outputs": [],
   "source": [],
   "metadata": {
    "collapsed": false
   },
   "id": "d3c2f3d961fd0a72"
  },
  {
   "cell_type": "code",
   "execution_count": null,
   "outputs": [],
   "source": [
    "# 7., Írjon egy függvényt ami megvizsgálja, hogy a listában létezik-e egy adott elem\n",
    "# függvény név: contains_value\n",
    "# bemeneti paraméterek: input_list, element \n",
    "# kimeneti típus: bool "
   ],
   "metadata": {
    "collapsed": false
   },
   "id": "75d189cb06cb410"
  },
  {
   "cell_type": "code",
   "execution_count": null,
   "outputs": [],
   "source": [],
   "metadata": {
    "collapsed": false
   },
   "id": "2874f3f5f7334f7a"
  },
  {
   "cell_type": "code",
   "execution_count": null,
   "outputs": [],
   "source": [],
   "metadata": {
    "collapsed": false
   },
   "id": "a1550da6b798fb6d"
  },
  {
   "cell_type": "code",
   "execution_count": null,
   "outputs": [],
   "source": [
    "# 8., Írjon egy függvényt ami megvizsgálja, hogy hány elem található a listában.\n",
    "# függvény név: number_of_elements_in_list\n",
    "# bemeneti paraméterek: input_list \n",
    "# kimeneti típus: int "
   ],
   "metadata": {
    "collapsed": false
   },
   "id": "4ff7a5a8e77c3570"
  },
  {
   "cell_type": "code",
   "execution_count": null,
   "outputs": [],
   "source": [],
   "metadata": {
    "collapsed": false
   },
   "id": "9c77237804758b96"
  },
  {
   "cell_type": "code",
   "execution_count": null,
   "outputs": [],
   "source": [],
   "metadata": {
    "collapsed": false
   },
   "id": "bed569e50734a02c"
  },
  {
   "cell_type": "code",
   "execution_count": null,
   "outputs": [],
   "source": [
    "# 9., Írjon egy függvényt ami törli az összes elemet a listából\n",
    "# függvény név: remove_every_element_from_list\n",
    "# bemeneti paraméterek: input_list \n",
    "# kimeneti típus: None "
   ],
   "metadata": {
    "collapsed": false
   },
   "id": "e00fdbc3454b3e0"
  },
  {
   "cell_type": "code",
   "execution_count": null,
   "outputs": [],
   "source": [],
   "metadata": {
    "collapsed": false
   },
   "id": "86ea2864ab680a75"
  },
  {
   "cell_type": "code",
   "execution_count": null,
   "outputs": [],
   "source": [],
   "metadata": {
    "collapsed": false
   },
   "id": "fd4fb9107a1c62e6"
  },
  {
   "cell_type": "code",
   "execution_count": null,
   "outputs": [],
   "source": [
    "# 10., Írjon egy függvényt ami fordított sorrendben adja vissza a lista összes elemét\n",
    "# függvény név: reverse_list\n",
    "# bemeneti paraméterek: input_list \n",
    "# kimeneti típus: List "
   ],
   "metadata": {
    "collapsed": false
   },
   "id": "4b93b2aa868093d7"
  },
  {
   "cell_type": "code",
   "execution_count": null,
   "outputs": [],
   "source": [],
   "metadata": {
    "collapsed": false
   },
   "id": "b3573ccabce315f6"
  },
  {
   "cell_type": "code",
   "execution_count": null,
   "outputs": [],
   "source": [],
   "metadata": {
    "collapsed": false
   },
   "id": "793b21ca395bae46"
  },
  {
   "cell_type": "code",
   "execution_count": null,
   "outputs": [],
   "source": [
    "# 11., Írjon egy függvényt ami vissza adja a bemeneti lista páratlan elemeit\n",
    "# függvény név: odds_from_list\n",
    "# bemeneti paraméterek: input_list \n",
    "# kimeneti típus: List "
   ],
   "metadata": {
    "collapsed": false
   },
   "id": "fd4a515bb1e95737"
  },
  {
   "cell_type": "code",
   "execution_count": null,
   "outputs": [],
   "source": [],
   "metadata": {
    "collapsed": false
   },
   "id": "57a11fda6b893fe3"
  },
  {
   "cell_type": "code",
   "execution_count": null,
   "outputs": [],
   "source": [],
   "metadata": {
    "collapsed": false
   },
   "id": "9f20b2394c40484b"
  },
  {
   "cell_type": "code",
   "execution_count": null,
   "outputs": [],
   "source": [
    "# 12., Írjon egy függvényt ami megszámolja a bemeneti lista páratlan elemeit\n",
    "# függvény név: number_of_odds_in_list\n",
    "# bemeneti paraméterek: input_list \n",
    "# kimeneti típus: int "
   ],
   "metadata": {
    "collapsed": false
   },
   "id": "28290ea181d27115"
  },
  {
   "cell_type": "code",
   "execution_count": null,
   "outputs": [],
   "source": [],
   "metadata": {
    "collapsed": false
   },
   "id": "279b237c1175983"
  },
  {
   "cell_type": "code",
   "execution_count": null,
   "outputs": [],
   "source": [],
   "metadata": {
    "collapsed": false
   },
   "id": "9cf78a5e1fa0aa59"
  },
  {
   "cell_type": "code",
   "execution_count": null,
   "outputs": [],
   "source": [
    "# 13., Írjon egy függvényt ami visszaadja, hogy a bemeneti listának van-e páratlan eleme\n",
    "# függvény név: contains_odd\n",
    "# bemeneti paraméterek: input_list \n",
    "# kimeneti típus: bool "
   ],
   "metadata": {
    "collapsed": false
   },
   "id": "337fe85c1df2c4d4"
  },
  {
   "cell_type": "code",
   "execution_count": null,
   "outputs": [],
   "source": [],
   "metadata": {
    "collapsed": false
   },
   "id": "a0fc68adef56fd06"
  },
  {
   "cell_type": "code",
   "execution_count": null,
   "outputs": [],
   "source": [],
   "metadata": {
    "collapsed": false
   },
   "id": "aef3c724f03cb646"
  },
  {
   "cell_type": "code",
   "execution_count": null,
   "outputs": [],
   "source": [
    "# 14., Írjon egy függvényt ami visszaadja a 2. legnagyobb elemet listában \n",
    "# függvény név: second_largest_in_list\n",
    "# bemeneti paraméterek: input_list \n",
    "# kimeneti típus: int "
   ],
   "metadata": {
    "collapsed": false
   },
   "id": "fb1703151c29792"
  },
  {
   "cell_type": "code",
   "execution_count": null,
   "outputs": [],
   "source": [],
   "metadata": {
    "collapsed": false
   },
   "id": "15ed7bf088bf47cf"
  },
  {
   "cell_type": "code",
   "execution_count": null,
   "outputs": [],
   "source": [],
   "metadata": {
    "collapsed": false
   },
   "id": "496288a1070b52d6"
  },
  {
   "cell_type": "code",
   "execution_count": null,
   "outputs": [],
   "source": [
    "# 15., Írjon egy függvényt ami kiszámítja a lista elemek összegét \n",
    "# függvény név: sum_of_elements_in_list\n",
    "# bemeneti paraméterek: input_list \n",
    "# kimeneti típus: float "
   ],
   "metadata": {
    "collapsed": false
   },
   "id": "63ccbb5d3bb44ccd"
  },
  {
   "cell_type": "code",
   "execution_count": null,
   "outputs": [],
   "source": [],
   "metadata": {
    "collapsed": false
   },
   "id": "24c9f32b0be09452"
  },
  {
   "cell_type": "code",
   "execution_count": null,
   "outputs": [],
   "source": [],
   "metadata": {
    "collapsed": false
   },
   "id": "4f4d84e216c131b7"
  },
  {
   "cell_type": "code",
   "execution_count": null,
   "outputs": [],
   "source": [
    "# 16., Írjon egy függvényt ami kiszámítja a lista elemek kumulált összegét\n",
    "# függvény név: cumsum_list\n",
    "# bemeneti paraméterek: input_list \n",
    "# kimeneti típus: List "
   ],
   "metadata": {
    "collapsed": false
   },
   "id": "783928cacc8f343e"
  },
  {
   "cell_type": "code",
   "execution_count": null,
   "outputs": [],
   "source": [],
   "metadata": {
    "collapsed": false
   },
   "id": "82eb965beced99b4"
  },
  {
   "cell_type": "code",
   "execution_count": null,
   "outputs": [],
   "source": [],
   "metadata": {
    "collapsed": false
   },
   "id": "3e40d3bc6c266a25"
  },
  {
   "cell_type": "code",
   "execution_count": null,
   "outputs": [],
   "source": [
    "# 17., Írjon egy függvényt ami kiszámítja 2 lista elemenként vett összegét\n",
    "# függvény név: element_wise_sum\n",
    "# bemeneti paraméterek: input_list1, input_list2 \n",
    "# kimeneti típus: List "
   ],
   "metadata": {
    "collapsed": false
   },
   "id": "1520ae4325fd9565"
  },
  {
   "cell_type": "code",
   "execution_count": null,
   "outputs": [],
   "source": [],
   "metadata": {
    "collapsed": false
   },
   "id": "68f45914d66fee0f"
  },
  {
   "cell_type": "code",
   "execution_count": null,
   "outputs": [],
   "source": [],
   "metadata": {
    "collapsed": false
   },
   "id": "8587e0ed68288c5b"
  },
  {
   "cell_type": "code",
   "execution_count": null,
   "outputs": [],
   "source": [
    "# 18., Írjon egy függvényt ami visszaadja egy lista, 2 tetszőleges index között vett rész listáját\n",
    "# függvény név: subset_of_list\n",
    "# bemeneti paraméterek: input_list, start_index, end_index\n",
    "# kimeneti típus: List "
   ],
   "metadata": {
    "collapsed": false
   },
   "id": "950494bcdf89e3d9"
  },
  {
   "cell_type": "code",
   "execution_count": null,
   "outputs": [],
   "source": [],
   "metadata": {
    "collapsed": false
   },
   "id": "720d5fe404eacb35"
  },
  {
   "cell_type": "code",
   "execution_count": null,
   "outputs": [],
   "source": [],
   "metadata": {
    "collapsed": false
   },
   "id": "2e1456a04608edeb"
  },
  {
   "cell_type": "code",
   "execution_count": null,
   "outputs": [],
   "source": [
    "# 19., Írjon egy függvényt ami visszaadja egy lista minden n-edik elemét listaként\n",
    "# függvény név: every_nth\n",
    "# bemeneti paraméterek: input_list, step_size\n",
    "# kimeneti típus: List "
   ],
   "metadata": {
    "collapsed": false
   },
   "id": "b9ce22f42af9fa7c"
  },
  {
   "cell_type": "code",
   "execution_count": null,
   "outputs": [],
   "source": [],
   "metadata": {
    "collapsed": false
   },
   "id": "975736f2becc9bac"
  },
  {
   "cell_type": "code",
   "execution_count": null,
   "outputs": [],
   "source": [],
   "metadata": {
    "collapsed": false
   },
   "id": "357370587272fc81"
  },
  {
   "cell_type": "code",
   "execution_count": null,
   "outputs": [],
   "source": [
    "# 20., Írjon egy függvényt ami eldönti, hogy a lista minden eleme egyedi-e\n",
    "# függvény név: only_unique_in_list\n",
    "# bemeneti paraméterek: input_list\n",
    "# kimeneti típus: bool "
   ],
   "metadata": {
    "collapsed": false
   },
   "id": "5816b89192f934a1"
  },
  {
   "cell_type": "code",
   "execution_count": null,
   "outputs": [],
   "source": [],
   "metadata": {
    "collapsed": false
   },
   "id": "4e2768e426b188ac"
  },
  {
   "cell_type": "code",
   "execution_count": null,
   "outputs": [],
   "source": [],
   "metadata": {
    "collapsed": false
   },
   "id": "7bca392945d6a984"
  },
  {
   "cell_type": "code",
   "execution_count": null,
   "outputs": [],
   "source": [
    "# 21., Írjon egy függvényt amely eltávolítja a duplikált lista elemeket\n",
    "# függvény név: keep_unique\n",
    "# bemeneti paraméterek: input_list\n",
    "# kimeneti típus: List "
   ],
   "metadata": {
    "collapsed": false
   },
   "id": "d080dd3e1679efbf"
  },
  {
   "cell_type": "code",
   "execution_count": null,
   "outputs": [],
   "source": [],
   "metadata": {
    "collapsed": false
   },
   "id": "8a5037c82a3caa8b"
  },
  {
   "cell_type": "code",
   "execution_count": null,
   "outputs": [],
   "source": [],
   "metadata": {
    "collapsed": false
   },
   "id": "db73e363987f797d"
  },
  {
   "cell_type": "code",
   "execution_count": null,
   "outputs": [],
   "source": [
    "# 22., Írjon egy függvényt amely kicserél 2 tetszőleges elemet a listában\n",
    "# függvény név: swap\n",
    "# bemeneti paraméterek: input_list, first_index, second_index\n",
    "# kimeneti típus: List "
   ],
   "metadata": {
    "collapsed": false
   },
   "id": "1d09675d10a71250"
  },
  {
   "cell_type": "code",
   "execution_count": null,
   "outputs": [],
   "source": [],
   "metadata": {
    "collapsed": false
   },
   "id": "f1974f9bba783dfa"
  },
  {
   "cell_type": "code",
   "execution_count": null,
   "outputs": [],
   "source": [],
   "metadata": {
    "collapsed": false
   },
   "id": "3888481f29688d3"
  },
  {
   "cell_type": "code",
   "execution_count": null,
   "outputs": [],
   "source": [
    "# 23., Írjon egy függvényt amely töröl egy megadott elemet a listából\n",
    "# függvény név: remove_element_by_value\n",
    "# bemeneti paraméterek: input_list, value_to_remove\n",
    "# kimeneti típus: List "
   ],
   "metadata": {
    "collapsed": false
   },
   "id": "3b05357ab0198b4c"
  },
  {
   "cell_type": "code",
   "execution_count": null,
   "outputs": [],
   "source": [],
   "metadata": {
    "collapsed": false
   },
   "id": "314e2102c6069b73"
  },
  {
   "cell_type": "code",
   "execution_count": null,
   "outputs": [],
   "source": [],
   "metadata": {
    "collapsed": false
   },
   "id": "1fba323e1abf8ad1"
  },
  {
   "cell_type": "code",
   "execution_count": null,
   "outputs": [],
   "source": [
    "# 24., Írjon egy függvényt amely töröl egy megadott indexű elemet a listából\n",
    "# függvény név: remove_element_by_index\n",
    "# bemeneti paraméterek: input_list, index\n",
    "# kimeneti típus: List "
   ],
   "metadata": {
    "collapsed": false
   },
   "id": "cfaf6d5695fb31df"
  },
  {
   "cell_type": "code",
   "execution_count": null,
   "outputs": [],
   "source": [],
   "metadata": {
    "collapsed": false
   },
   "id": "8f166f1039503820"
  },
  {
   "cell_type": "code",
   "execution_count": null,
   "outputs": [],
   "source": [],
   "metadata": {
    "collapsed": false
   },
   "id": "2ead7a0b538aef49"
  },
  {
   "cell_type": "code",
   "execution_count": null,
   "outputs": [],
   "source": [
    "# 25., Írjon egy függvényt amely egy tetszőleges számmal megszorozza a lista összes elemét\n",
    "# függvény név: multiply_every_element\n",
    "# bemeneti paraméterek: input_list, multiplier\n",
    "# kimeneti típus: List "
   ],
   "metadata": {
    "collapsed": false
   },
   "id": "f752e1dbb5e38b88"
  },
  {
   "cell_type": "code",
   "execution_count": null,
   "outputs": [],
   "source": [],
   "metadata": {
    "collapsed": false
   },
   "id": "eff0e4599ddbb8fb"
  },
  {
   "cell_type": "code",
   "execution_count": null,
   "outputs": [],
   "source": [],
   "metadata": {
    "collapsed": false
   },
   "id": "670a1f660c7ae800"
  },
  {
   "cell_type": "markdown",
   "source": [
    "# Dictionary feladatok"
   ],
   "metadata": {
    "collapsed": false
   },
   "id": "c7bfcf6fbed3ecf"
  },
  {
   "cell_type": "code",
   "execution_count": null,
   "outputs": [],
   "source": [
    "# 1. Hozz létre egy dictionary-t (dict.) amelyhez a két kulcs 'a' és 'b' és a hozzájuk tartozó értékek rendre 9 és [12, 'c']"
   ],
   "metadata": {
    "collapsed": false
   },
   "id": "ea486b7b2097d8c0"
  },
  {
   "cell_type": "code",
   "execution_count": null,
   "outputs": [],
   "source": [],
   "metadata": {
    "collapsed": false
   },
   "id": "fa44cb21eee22ee3"
  },
  {
   "cell_type": "code",
   "execution_count": null,
   "outputs": [],
   "source": [
    "# 2. Kérd le az előző dictionary 'a' kulcsán lévő értéket"
   ],
   "metadata": {
    "collapsed": false
   },
   "id": "8f38c2ba17f46ab3"
  },
  {
   "cell_type": "code",
   "execution_count": null,
   "outputs": [],
   "source": [],
   "metadata": {
    "collapsed": false
   },
   "id": "ae105a95dca05249"
  },
  {
   "cell_type": "code",
   "execution_count": null,
   "outputs": [],
   "source": [
    "# 3. Kérd le az előző dictionary 'd' kulcsán lévő értéket olyan módon, hogy ne hibát kapj, hanem Null legyen a visszatérési érték"
   ],
   "metadata": {
    "collapsed": false
   },
   "id": "d64af3034dbf0bc2"
  },
  {
   "cell_type": "code",
   "execution_count": null,
   "outputs": [],
   "source": [],
   "metadata": {
    "collapsed": false
   },
   "id": "9153fd4f597d5633"
  },
  {
   "cell_type": "code",
   "execution_count": null,
   "outputs": [],
   "source": [
    "# 4., Írjon egy függvényt amely töröl egy megadott kulcsú elemet a dict.-ből\n",
    "# függvény név: remove_key\n",
    "# bemeneti paraméterek: input_dict, key\n",
    "# kimeneti típus: Dict "
   ],
   "metadata": {
    "collapsed": false
   },
   "id": "8d0730f02cbd74ae"
  },
  {
   "cell_type": "code",
   "execution_count": null,
   "outputs": [],
   "source": [],
   "metadata": {
    "collapsed": false
   },
   "id": "16025be7289f3fe1"
  },
  {
   "cell_type": "code",
   "execution_count": null,
   "outputs": [],
   "source": [],
   "metadata": {
    "collapsed": false
   },
   "id": "1adaa6cfaf92ce4b"
  },
  {
   "cell_type": "code",
   "execution_count": null,
   "outputs": [],
   "source": [
    "# 5., Írjon egy függvényt amely a sorba rendezi a kulcs-érték párokat a kulcs értéke szerint egy dictionary-ben\n",
    "# függvény név: sort_by_key\n",
    "# bemeneti paraméterek: input_dict\n",
    "# kimeneti típus: Dict "
   ],
   "metadata": {
    "collapsed": false
   },
   "id": "4289ee61b660cf03"
  },
  {
   "cell_type": "code",
   "execution_count": null,
   "outputs": [],
   "source": [],
   "metadata": {
    "collapsed": false
   },
   "id": "4144b46e7390123b"
  },
  {
   "cell_type": "code",
   "execution_count": null,
   "outputs": [],
   "source": [],
   "metadata": {
    "collapsed": false
   },
   "id": "f03264405968e0fa"
  },
  {
   "cell_type": "code",
   "execution_count": null,
   "outputs": [],
   "source": [
    "# 6., Írjon egy függvényt amely összeadja a dict.-ben található összes értéket\n",
    "# függvény név: sum_in_dict\n",
    "# bemeneti paraméterek: input_dict\n",
    "# kimeneti típus: float "
   ],
   "metadata": {
    "collapsed": false
   },
   "id": "7f38190f627e8631"
  },
  {
   "cell_type": "code",
   "execution_count": null,
   "outputs": [],
   "source": [],
   "metadata": {
    "collapsed": false
   },
   "id": "15175be34ef8a9d9"
  },
  {
   "cell_type": "code",
   "execution_count": null,
   "outputs": [],
   "source": [],
   "metadata": {
    "collapsed": false
   },
   "id": "b55c7574f7c47365"
  },
  {
   "cell_type": "code",
   "execution_count": null,
   "outputs": [],
   "source": [
    "# 7., Írjon egy függvényt amely összekapcsol 2 dictionary-t 1 dict.-ben\n",
    "# függvény név: merge_two_dicts\n",
    "# bemeneti paraméterek: input_dict1, input_dict2\n",
    "# kimeneti típus: Dict "
   ],
   "metadata": {
    "collapsed": false
   },
   "id": "129ac5fb35728b79"
  },
  {
   "cell_type": "code",
   "execution_count": null,
   "outputs": [],
   "source": [],
   "metadata": {
    "collapsed": false
   },
   "id": "1d1cb11d826ad1ad"
  },
  {
   "cell_type": "code",
   "execution_count": null,
   "outputs": [],
   "source": [],
   "metadata": {
    "collapsed": false
   },
   "id": "6f6c6cc073780800"
  },
  {
   "cell_type": "code",
   "execution_count": null,
   "outputs": [],
   "source": [
    "# 8., Írjon egy függvényt amely összekapcsol n dictionary-t 1 dict.-ben\n",
    "# függvény név: merge_dicts\n",
    "# bemeneti paraméterek: *dicts\n",
    "# kimeneti típus: Dict "
   ],
   "metadata": {
    "collapsed": false
   },
   "id": "2d6e28936e1fc7f6"
  },
  {
   "cell_type": "code",
   "execution_count": null,
   "outputs": [],
   "source": [],
   "metadata": {
    "collapsed": false
   },
   "id": "3d4f59def68ff61b"
  },
  {
   "cell_type": "code",
   "execution_count": null,
   "outputs": [],
   "source": [],
   "metadata": {
    "collapsed": false
   },
   "id": "e1dd09df21776128"
  },
  {
   "cell_type": "code",
   "execution_count": null,
   "outputs": [],
   "source": [
    "# 9., Írjon egy függvényt amely a bemeneti, pozitív egész számokat tartalmazó listát kiválogatja páros és páratlan számokra, és visszaad egy olyan dictionary-t, amelyben a kulcs az 'even' és 'odd', az értékek, pedig a listák.\n",
    "# függvény név: sort_list_by_parity\n",
    "# bemeneti paraméterek: input_list\n",
    "# kimeneti típus: Dict "
   ],
   "metadata": {
    "collapsed": false
   },
   "id": "31c2ef51ea259d5d"
  },
  {
   "cell_type": "code",
   "execution_count": null,
   "outputs": [],
   "source": [],
   "metadata": {
    "collapsed": false
   },
   "id": "85abb76721ac4860"
  },
  {
   "cell_type": "code",
   "execution_count": null,
   "outputs": [],
   "source": [],
   "metadata": {
    "collapsed": false
   },
   "id": "eafbeb79effb4e1e"
  },
  {
   "cell_type": "code",
   "execution_count": null,
   "outputs": [],
   "source": [
    "# 10., Írjon egy függvényt amely a bemenetként kapott dictionary értékeinél található listák átlagait adja vissza egy új dictionary-be. {\"some_key\":[1,2,3,4],\"another_key\":[1,2,3,4],....} -> {\"some_key\":mean_of_values,\"another_key\":mean_of_values,....}\n",
    "# függvény név: mean_by_key_value\n",
    "# bemeneti paraméterek: input_dict\n",
    "# kimeneti típus: Dict "
   ],
   "metadata": {
    "collapsed": false
   },
   "id": "b7d17d821c18b94e"
  },
  {
   "cell_type": "code",
   "execution_count": null,
   "outputs": [],
   "source": [],
   "metadata": {
    "collapsed": false
   },
   "id": "3f297655c29e1e6"
  },
  {
   "cell_type": "code",
   "execution_count": null,
   "outputs": [],
   "source": [],
   "metadata": {
    "collapsed": false
   },
   "id": "f2728aad103eea86"
  },
  {
   "cell_type": "code",
   "execution_count": null,
   "outputs": [],
   "source": [
    "# 11., Írjon egy függvényt amely a bemeneti lista értékeinek előállítja a gyakoriságát\n",
    "# függvény név: count_frequency\n",
    "# bemeneti paraméterek: input_list\n",
    "# kimeneti típus: Dict "
   ],
   "metadata": {
    "collapsed": false
   },
   "id": "4408607c342665b"
  },
  {
   "cell_type": "code",
   "execution_count": null,
   "outputs": [],
   "source": [],
   "metadata": {
    "collapsed": false
   },
   "id": "c190bbd919048c7c"
  },
  {
   "cell_type": "code",
   "execution_count": null,
   "outputs": [],
   "source": [],
   "metadata": {
    "collapsed": false
   },
   "id": "3cf3e1d2e4b6bd48"
  },
  {
   "cell_type": "markdown",
   "source": [
    "### A heti feladatok függvény definícióit helyezze el a src/utils module-on belül a builtin_wrappers.py nevű fájlba."
   ],
   "metadata": {
    "collapsed": false
   },
   "id": "4642e9fa7740d8ec"
  }
 ],
 "metadata": {
  "kernelspec": {
   "display_name": "Python 3",
   "language": "python",
   "name": "python3"
  },
  "language_info": {
   "codemirror_mode": {
    "name": "ipython",
    "version": 2
   },
   "file_extension": ".py",
   "mimetype": "text/x-python",
   "name": "python",
   "nbconvert_exporter": "python",
   "pygments_lexer": "ipython2",
   "version": "2.7.6"
  }
 },
 "nbformat": 4,
 "nbformat_minor": 5
}
